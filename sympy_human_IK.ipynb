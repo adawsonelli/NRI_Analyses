{
 "cells": [
  {
   "cell_type": "markdown",
   "metadata": {},
   "source": [
    "### find the analytical inverse kinematics for the human model using sympy library"
   ]
  },
  {
   "cell_type": "code",
   "execution_count": 5,
   "metadata": {},
   "outputs": [
    {
     "data": {
      "text/latex": [
       "$\\displaystyle 0 = a_{1}^{2} + a_{1}$"
      ],
      "text/plain": [
       "Eq(0, a_1**2 + a_1)"
      ]
     },
     "metadata": {},
     "output_type": "display_data"
    },
    {
     "data": {
      "text/latex": [
       "$\\displaystyle a_{1} - b_{1} = 0$"
      ],
      "text/plain": [
       "Eq(a_1 - b_1, 0)"
      ]
     },
     "metadata": {},
     "output_type": "display_data"
    },
    {
     "data": {
      "text/latex": [
       "$\\displaystyle \\left\\{\\left( -1, \\  -1\\right), \\left( 0, \\  0\\right)\\right\\}$"
      ],
      "text/plain": [
       "FiniteSet((-1, -1), (0, 0))"
      ]
     },
     "execution_count": 5,
     "metadata": {},
     "output_type": "execute_result"
    }
   ],
   "source": [
    "import numpy as np\n",
    "import sympy as sp\n",
    "from IPython.display import display\n",
    "\n",
    "# from sympy import init_printing\n",
    "# init_printing() \n",
    "\n",
    "\n",
    "#example\n",
    "x = sp.symbols('x')\n",
    "a = sp.Integral(sp.cos(x)*sp.exp(x), x)\n",
    "sp.Eq(a, a.doit())\n",
    "\n",
    "#practice with solveset\n",
    "b = sp.symbols('a')\n",
    "sp.solveset(sp.Eq(x**2, b), b)\n",
    "\n",
    "#solving multiple equations\n",
    "# a, b, c, d = sp.symbols('a, b, c, d', real=True)\n",
    "# sp.nonlinsolve([a**2 + a, a - b], [a, b])\n",
    "\n",
    "#solving multiple eqns\n",
    "a, b, c, d = sp.symbols('a_1, b_1, c_1, d_1', real=True)\n",
    "eq1 = sp.Eq(0,a**2 + a)\n",
    "eq2 = sp.Eq(a-b,0)\n",
    "\n",
    "display(eq1, eq2)\n",
    "\n",
    "sp.nonlinsolve([eq1,eq2], [a, b])"
   ]
  },
  {
   "cell_type": "markdown",
   "metadata": {},
   "source": [
    "### solve IK for an RR manipulator as practice / verification"
   ]
  },
  {
   "cell_type": "code",
   "execution_count": 10,
   "metadata": {},
   "outputs": [
    {
     "data": {
      "text/latex": [
       "$\\displaystyle x = l_{1} \\cos{\\left(θ_{1} \\right)} + l_{2} \\cos{\\left(θ_{1} + θ_{2} \\right)}$"
      ],
      "text/plain": [
       "Eq(x, l_1*cos(θ_1) + l_2*cos(θ_1 + θ_2))"
      ]
     },
     "metadata": {},
     "output_type": "display_data"
    },
    {
     "data": {
      "text/latex": [
       "$\\displaystyle y = l_{1} \\sin{\\left(θ_{1} \\right)} + l_{2} \\sin{\\left(θ_{1} + θ_{2} \\right)}$"
      ],
      "text/plain": [
       "Eq(y, l_1*sin(θ_1) + l_2*sin(θ_1 + θ_2))"
      ]
     },
     "metadata": {},
     "output_type": "display_data"
    },
    {
     "data": {
      "text/latex": [
       "$\\displaystyle l_{1} \\sin{\\left(θ_{1} \\right)} + l_{1} \\cos{\\left(θ_{1} \\right)} + l_{2} \\sin{\\left(θ_{1} + θ_{2} \\right)} + l_{2} \\cos{\\left(θ_{1} + θ_{2} \\right)}$"
      ],
      "text/plain": [
       "l_1*sin(θ_1) + l_1*cos(θ_1) + l_2*sin(θ_1 + θ_2) + l_2*cos(θ_1 + θ_2)"
      ]
     },
     "execution_count": 10,
     "metadata": {},
     "output_type": "execute_result"
    }
   ],
   "source": [
    "\n",
    "# define variables and constants\n",
    "l1, l2 = sp.symbols('l_1 l_2')\n",
    "θ1, θ2 = sp.symbols('θ_1 θ_2')\n",
    "x, y = sp.symbols('x y')\n",
    "\n",
    "#define forward kinematics\n",
    "exp1 = l1*sp.cos(θ1) + l2*sp.cos(θ1 + θ2)\n",
    "exp2 = l1*sp.sin(θ1) + l2*sp.sin(θ1 + θ2)\n",
    "eq1 = sp.Eq(x,exp1) \n",
    "eq2 = sp.Eq(y,exp2)\n",
    "\n",
    "display(eq1, eq2)\n",
    "\n",
    "#sp.solveset([eq1,eq2],(θ1,θ2))"
   ]
  }
 ],
 "metadata": {
  "kernelspec": {
   "display_name": "Python 3",
   "language": "python",
   "name": "python3"
  },
  "language_info": {
   "codemirror_mode": {
    "name": "ipython",
    "version": 3
   },
   "file_extension": ".py",
   "mimetype": "text/x-python",
   "name": "python",
   "nbconvert_exporter": "python",
   "pygments_lexer": "ipython3",
   "version": "3.8.2"
  }
 },
 "nbformat": 4,
 "nbformat_minor": 4
}
