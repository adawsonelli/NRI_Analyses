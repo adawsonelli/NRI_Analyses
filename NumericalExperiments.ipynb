{
 "cells": [
  {
   "cell_type": "markdown",
   "metadata": {},
   "source": [
    "<a id=\"NEtop\"></a>\n",
    "\n",
    "# Numerical Experiments\n",
    "examples of optimizing system with different configurations, such as bounds, regularization functions, objective functions, etc.\n",
    "\n",
    "the general flow or numerical experiments: \n",
    "* initialize and experiment object\n",
    "* setup the specific configurations that you need for this particular experiement\n",
    "* run()\n",
    "* visualize the results, and discuss in text what's going on\n",
    "\n",
    "## Index:\n",
    "\n",
    "* [hand tuned evaluations](#hand_tuned_evaluations)\n",
    "* [solution without constraints or penalties](#no_constraints_or_penalties)\n",
    "* [BFGS](#BFGS_opt)\n",
    "\n",
    "\n",
    "\n",
    "\n",
    "## import classes"
   ]
  },
  {
   "cell_type": "code",
   "execution_count": 3,
   "metadata": {},
   "outputs": [
    {
     "name": "stdout",
     "output_type": "stream",
     "text": [
      "models run as library\n",
      "optimizers run as library\n"
     ]
    }
   ],
   "source": [
    "#import all models, visualizers, and optimizers with a run line magic \n",
    "%run models.ipynb\n"
   ]
  },
  {
   "cell_type": "markdown",
   "metadata": {},
   "source": [
    "<a id=\"hand_tuned_evaluations\"></a>\n",
    "# Hand tuned evaluations [ &#x21ea;](#NEtop)\n",
    "\n",
    "### hip knee robot (meghs's robot)"
   ]
  },
  {
   "cell_type": "code",
   "execution_count": 4,
   "metadata": {},
   "outputs": [
    {
     "data": {
      "application/vnd.jupyter.widget-view+json": {
       "model_id": "17c415c0096443e79d3343cbd35d59af",
       "version_major": 2,
       "version_minor": 0
      },
      "text/plain": [
       "HBox(children=(FigureWidget({\n",
       "    'data': [{'line': {'color': 'gray'},\n",
       "              'name': 'placeholder',\n",
       "  …"
      ]
     },
     "metadata": {},
     "output_type": "display_data"
    }
   ],
   "source": [
    "hkRobot = Exp()       #init robot\n",
    "#hand tune robot configuration\n",
    "hkRobot.r.xl = 0\n",
    "hkRobot.r.yl = 0\n",
    "hkRobot.r.xr = 0\n",
    "hkRobot.r.yr = 0 \n",
    "\n",
    "hkRobot.r.L1l = .4 \n",
    "hkRobot.r.L2l = .1 \n",
    "hkRobot.r.L3l = .288\n",
    "hkRobot.r.L1r = .1\n",
    "hkRobot.r.L2r = .4\n",
    "hkRobot.r.θ3l = 0\n",
    "\n",
    "hkRobot.r.e3  = 'down'\n",
    "\n",
    "#configure xBest to be this\n",
    "hkRobot.xBest = [hkRobot.r.get_x()]\n",
    "hkRobot.initialize()\n",
    "hkRobot.vis.display()\n"
   ]
  },
  {
   "cell_type": "code",
   "execution_count": 5,
   "metadata": {},
   "outputs": [
    {
     "data": {
      "application/vnd.jupyter.widget-view+json": {
       "model_id": "1f838b01ffbd44b0bd2fc377e45919b4",
       "version_major": 2,
       "version_minor": 0
      },
      "text/plain": [
       "VBox(children=(HBox(children=(Button(button_style='success', description='Reset', layout=Layout(height='30px',…"
      ]
     },
     "metadata": {},
     "output_type": "display_data"
    },
    {
     "data": {
      "application/vnd.jupyter.widget-view+json": {
       "model_id": "c4f6321ad5c949ef85c20e73c2fc26c0",
       "version_major": 2,
       "version_minor": 0
      },
      "text/plain": [
       "FigureWidget({\n",
       "    'data': [{'line': {'color': 'gray'},\n",
       "              'name': 'placeholder',\n",
       "              'ty…"
      ]
     },
     "metadata": {},
     "output_type": "display_data"
    },
    {
     "data": {
      "application/vnd.jupyter.widget-view+json": {
       "model_id": "be46d56cce134fa180a65eb9db0c1936",
       "version_major": 2,
       "version_minor": 0
      },
      "text/plain": [
       "VBox(children=(HBox(children=(Label(value='Tune Optimal Parameters:'),)), HBox(children=(Dropdown(description=…"
      ]
     },
     "metadata": {},
     "output_type": "display_data"
    }
   ],
   "source": [
    "propRobot = Exp()    #init robot\n",
    "\n",
    "#hand tune robot bounds\n",
    "propRobot.r.xl_max =  1.5\n",
    "propRobot.r.yl_min = -1.5\n",
    "propRobot.r.xr_max =  1.5\n",
    "propRobot.r.yr_min = -1.5 \n",
    "propRobot.r.L3l_min = 0.001\n",
    "\n",
    "# #hand tune robot configuration\n",
    "propRobot.r.xl =  .6\n",
    "propRobot.r.yl = -.75\n",
    "propRobot.r.xr =  .75\n",
    "propRobot.r.yr = -.75\n",
    "\n",
    "propRobot.r.L3l = 0\n",
    "propRobot.r.θ3l = 0\n",
    "\n",
    "propRobot.r.e3  = 'down'\n",
    "\n",
    "#configure xBest to be this\n",
    "propRobot.xBest = [propRobot.r.get_x()]\n",
    "propRobot.initialize()\n",
    "propRobot.vis.display(\"tb\")\n"
   ]
  },
  {
   "cell_type": "code",
   "execution_count": 56,
   "metadata": {},
   "outputs": [],
   "source": [
    "#make a point \n",
    "hkRobot.scoreMode = 'inscribed'"
   ]
  },
  {
   "cell_type": "markdown",
   "metadata": {},
   "source": [
    "### original proposal robot"
   ]
  },
  {
   "cell_type": "markdown",
   "metadata": {},
   "source": [
    "<a id=\"no_constraints_or_penalties\"></a>\n",
    "# Solution without constraints or penalties [ &#x21ea;](#NEtop)\n",
    "\n"
   ]
  },
  {
   "cell_type": "code",
   "execution_count": 6,
   "metadata": {},
   "outputs": [
    {
     "data": {
      "application/vnd.jupyter.widget-view+json": {
       "model_id": "74cacdbaef1f41feb3637c43a977f9ca",
       "version_major": 2,
       "version_minor": 0
      },
      "text/plain": [
       "HBox(children=(FigureWidget({\n",
       "    'data': [{'line': {'color': 'gray'},\n",
       "              'name': 'placeholder',\n",
       "  …"
      ]
     },
     "metadata": {},
     "output_type": "display_data"
    }
   ],
   "source": [
    "#run simulated anealing for a long time. \n",
    "exp1 = Exp()\n",
    "\n",
    "#configure experiment\n",
    "exp1.optimizer.nIter = 100000\n",
    "exp1.initialize()\n",
    "\n",
    "#run (took several hours)\n",
    "#exp1.run()\n",
    "\n",
    "#save\n",
    "# cm = \"100k SA optimization, segments are long but have a high match over a large segment of space\"\n",
    "# exp1.save(cm)\n",
    "\n",
    "#load from storage\n",
    "exp1.load('fes')\n",
    "\n",
    "#display\n",
    "exp1.vis.display()"
   ]
  },
  {
   "cell_type": "code",
   "execution_count": 68,
   "metadata": {},
   "outputs": [
    {
     "data": {
      "application/vnd.plotly.v1+json": {
       "config": {
        "plotlyServerURL": "https://plot.ly"
       },
       "data": [
        {
         "cells": {
          "align": [
           "left",
           "center"
          ],
          "fill": {
           "color": [
            "paleturquoise",
            "paleturquoise",
            "white",
            "white"
           ]
          },
          "font": {
           "size": 12
          },
          "height": 30,
          "line": {
           "color": "darkslategray"
          },
          "values": [
           [
            "<b>0</b>",
            "<b>1</b>",
            "<b>2</b>",
            "<b>3</b>",
            "<b>4</b>",
            "<b>5</b>"
           ],
           [
            "fes",
            "pkr",
            "vav",
            "suw",
            "ikm",
            "sjl"
           ],
           [
            "2020-07-07 21:26:06",
            "2020-07-07 21:22:40",
            "2020-07-04 17:32:55",
            "2020-07-01 13:36:34",
            "2020-07-01 13:36:31",
            "2020-07-01 13:36:28"
           ],
           [
            "100k SA optimization, segments are long but have a high match over a larget segment of space",
            "this is an interesting optimization result where the robot links are small and live under the leg",
            "this is an example",
            "this is a test of the logging system to see if everything is working properly",
            "this is a test of the logging system to see if everything is working properly",
            "this is a test of the logging system to see if everything is working properly"
           ]
          ]
         },
         "columnorder": [
          1,
          2,
          3,
          4
         ],
         "columnwidth": [
          30,
          30,
          80,
          400
         ],
         "header": {
          "align": [
           "left",
           "center"
          ],
          "fill": {
           "color": "royalblue"
          },
          "font": {
           "color": "white",
           "size": 12
          },
          "height": 40,
          "line": {
           "color": "darkslategray"
          },
          "values": [
           "<b>Index</b>",
           "<b>Hash</b><br>",
           "<b>date</b>",
           "<b>Commit Message</b>"
          ]
         },
         "type": "table"
        }
       ],
       "layout": {
        "autosize": true,
        "template": {
         "data": {
          "bar": [
           {
            "error_x": {
             "color": "#2a3f5f"
            },
            "error_y": {
             "color": "#2a3f5f"
            },
            "marker": {
             "line": {
              "color": "#E5ECF6",
              "width": 0.5
             }
            },
            "type": "bar"
           }
          ],
          "barpolar": [
           {
            "marker": {
             "line": {
              "color": "#E5ECF6",
              "width": 0.5
             }
            },
            "type": "barpolar"
           }
          ],
          "carpet": [
           {
            "aaxis": {
             "endlinecolor": "#2a3f5f",
             "gridcolor": "white",
             "linecolor": "white",
             "minorgridcolor": "white",
             "startlinecolor": "#2a3f5f"
            },
            "baxis": {
             "endlinecolor": "#2a3f5f",
             "gridcolor": "white",
             "linecolor": "white",
             "minorgridcolor": "white",
             "startlinecolor": "#2a3f5f"
            },
            "type": "carpet"
           }
          ],
          "choropleth": [
           {
            "colorbar": {
             "outlinewidth": 0,
             "ticks": ""
            },
            "type": "choropleth"
           }
          ],
          "contour": [
           {
            "colorbar": {
             "outlinewidth": 0,
             "ticks": ""
            },
            "colorscale": [
             [
              0,
              "#0d0887"
             ],
             [
              0.1111111111111111,
              "#46039f"
             ],
             [
              0.2222222222222222,
              "#7201a8"
             ],
             [
              0.3333333333333333,
              "#9c179e"
             ],
             [
              0.4444444444444444,
              "#bd3786"
             ],
             [
              0.5555555555555556,
              "#d8576b"
             ],
             [
              0.6666666666666666,
              "#ed7953"
             ],
             [
              0.7777777777777778,
              "#fb9f3a"
             ],
             [
              0.8888888888888888,
              "#fdca26"
             ],
             [
              1,
              "#f0f921"
             ]
            ],
            "type": "contour"
           }
          ],
          "contourcarpet": [
           {
            "colorbar": {
             "outlinewidth": 0,
             "ticks": ""
            },
            "type": "contourcarpet"
           }
          ],
          "heatmap": [
           {
            "colorbar": {
             "outlinewidth": 0,
             "ticks": ""
            },
            "colorscale": [
             [
              0,
              "#0d0887"
             ],
             [
              0.1111111111111111,
              "#46039f"
             ],
             [
              0.2222222222222222,
              "#7201a8"
             ],
             [
              0.3333333333333333,
              "#9c179e"
             ],
             [
              0.4444444444444444,
              "#bd3786"
             ],
             [
              0.5555555555555556,
              "#d8576b"
             ],
             [
              0.6666666666666666,
              "#ed7953"
             ],
             [
              0.7777777777777778,
              "#fb9f3a"
             ],
             [
              0.8888888888888888,
              "#fdca26"
             ],
             [
              1,
              "#f0f921"
             ]
            ],
            "type": "heatmap"
           }
          ],
          "heatmapgl": [
           {
            "colorbar": {
             "outlinewidth": 0,
             "ticks": ""
            },
            "colorscale": [
             [
              0,
              "#0d0887"
             ],
             [
              0.1111111111111111,
              "#46039f"
             ],
             [
              0.2222222222222222,
              "#7201a8"
             ],
             [
              0.3333333333333333,
              "#9c179e"
             ],
             [
              0.4444444444444444,
              "#bd3786"
             ],
             [
              0.5555555555555556,
              "#d8576b"
             ],
             [
              0.6666666666666666,
              "#ed7953"
             ],
             [
              0.7777777777777778,
              "#fb9f3a"
             ],
             [
              0.8888888888888888,
              "#fdca26"
             ],
             [
              1,
              "#f0f921"
             ]
            ],
            "type": "heatmapgl"
           }
          ],
          "histogram": [
           {
            "marker": {
             "colorbar": {
              "outlinewidth": 0,
              "ticks": ""
             }
            },
            "type": "histogram"
           }
          ],
          "histogram2d": [
           {
            "colorbar": {
             "outlinewidth": 0,
             "ticks": ""
            },
            "colorscale": [
             [
              0,
              "#0d0887"
             ],
             [
              0.1111111111111111,
              "#46039f"
             ],
             [
              0.2222222222222222,
              "#7201a8"
             ],
             [
              0.3333333333333333,
              "#9c179e"
             ],
             [
              0.4444444444444444,
              "#bd3786"
             ],
             [
              0.5555555555555556,
              "#d8576b"
             ],
             [
              0.6666666666666666,
              "#ed7953"
             ],
             [
              0.7777777777777778,
              "#fb9f3a"
             ],
             [
              0.8888888888888888,
              "#fdca26"
             ],
             [
              1,
              "#f0f921"
             ]
            ],
            "type": "histogram2d"
           }
          ],
          "histogram2dcontour": [
           {
            "colorbar": {
             "outlinewidth": 0,
             "ticks": ""
            },
            "colorscale": [
             [
              0,
              "#0d0887"
             ],
             [
              0.1111111111111111,
              "#46039f"
             ],
             [
              0.2222222222222222,
              "#7201a8"
             ],
             [
              0.3333333333333333,
              "#9c179e"
             ],
             [
              0.4444444444444444,
              "#bd3786"
             ],
             [
              0.5555555555555556,
              "#d8576b"
             ],
             [
              0.6666666666666666,
              "#ed7953"
             ],
             [
              0.7777777777777778,
              "#fb9f3a"
             ],
             [
              0.8888888888888888,
              "#fdca26"
             ],
             [
              1,
              "#f0f921"
             ]
            ],
            "type": "histogram2dcontour"
           }
          ],
          "mesh3d": [
           {
            "colorbar": {
             "outlinewidth": 0,
             "ticks": ""
            },
            "type": "mesh3d"
           }
          ],
          "parcoords": [
           {
            "line": {
             "colorbar": {
              "outlinewidth": 0,
              "ticks": ""
             }
            },
            "type": "parcoords"
           }
          ],
          "pie": [
           {
            "automargin": true,
            "type": "pie"
           }
          ],
          "scatter": [
           {
            "marker": {
             "colorbar": {
              "outlinewidth": 0,
              "ticks": ""
             }
            },
            "type": "scatter"
           }
          ],
          "scatter3d": [
           {
            "line": {
             "colorbar": {
              "outlinewidth": 0,
              "ticks": ""
             }
            },
            "marker": {
             "colorbar": {
              "outlinewidth": 0,
              "ticks": ""
             }
            },
            "type": "scatter3d"
           }
          ],
          "scattercarpet": [
           {
            "marker": {
             "colorbar": {
              "outlinewidth": 0,
              "ticks": ""
             }
            },
            "type": "scattercarpet"
           }
          ],
          "scattergeo": [
           {
            "marker": {
             "colorbar": {
              "outlinewidth": 0,
              "ticks": ""
             }
            },
            "type": "scattergeo"
           }
          ],
          "scattergl": [
           {
            "marker": {
             "colorbar": {
              "outlinewidth": 0,
              "ticks": ""
             }
            },
            "type": "scattergl"
           }
          ],
          "scattermapbox": [
           {
            "marker": {
             "colorbar": {
              "outlinewidth": 0,
              "ticks": ""
             }
            },
            "type": "scattermapbox"
           }
          ],
          "scatterpolar": [
           {
            "marker": {
             "colorbar": {
              "outlinewidth": 0,
              "ticks": ""
             }
            },
            "type": "scatterpolar"
           }
          ],
          "scatterpolargl": [
           {
            "marker": {
             "colorbar": {
              "outlinewidth": 0,
              "ticks": ""
             }
            },
            "type": "scatterpolargl"
           }
          ],
          "scatterternary": [
           {
            "marker": {
             "colorbar": {
              "outlinewidth": 0,
              "ticks": ""
             }
            },
            "type": "scatterternary"
           }
          ],
          "surface": [
           {
            "colorbar": {
             "outlinewidth": 0,
             "ticks": ""
            },
            "colorscale": [
             [
              0,
              "#0d0887"
             ],
             [
              0.1111111111111111,
              "#46039f"
             ],
             [
              0.2222222222222222,
              "#7201a8"
             ],
             [
              0.3333333333333333,
              "#9c179e"
             ],
             [
              0.4444444444444444,
              "#bd3786"
             ],
             [
              0.5555555555555556,
              "#d8576b"
             ],
             [
              0.6666666666666666,
              "#ed7953"
             ],
             [
              0.7777777777777778,
              "#fb9f3a"
             ],
             [
              0.8888888888888888,
              "#fdca26"
             ],
             [
              1,
              "#f0f921"
             ]
            ],
            "type": "surface"
           }
          ],
          "table": [
           {
            "cells": {
             "fill": {
              "color": "#EBF0F8"
             },
             "line": {
              "color": "white"
             }
            },
            "header": {
             "fill": {
              "color": "#C8D4E3"
             },
             "line": {
              "color": "white"
             }
            },
            "type": "table"
           }
          ]
         },
         "layout": {
          "annotationdefaults": {
           "arrowcolor": "#2a3f5f",
           "arrowhead": 0,
           "arrowwidth": 1
          },
          "coloraxis": {
           "colorbar": {
            "outlinewidth": 0,
            "ticks": ""
           }
          },
          "colorscale": {
           "diverging": [
            [
             0,
             "#8e0152"
            ],
            [
             0.1,
             "#c51b7d"
            ],
            [
             0.2,
             "#de77ae"
            ],
            [
             0.3,
             "#f1b6da"
            ],
            [
             0.4,
             "#fde0ef"
            ],
            [
             0.5,
             "#f7f7f7"
            ],
            [
             0.6,
             "#e6f5d0"
            ],
            [
             0.7,
             "#b8e186"
            ],
            [
             0.8,
             "#7fbc41"
            ],
            [
             0.9,
             "#4d9221"
            ],
            [
             1,
             "#276419"
            ]
           ],
           "sequential": [
            [
             0,
             "#0d0887"
            ],
            [
             0.1111111111111111,
             "#46039f"
            ],
            [
             0.2222222222222222,
             "#7201a8"
            ],
            [
             0.3333333333333333,
             "#9c179e"
            ],
            [
             0.4444444444444444,
             "#bd3786"
            ],
            [
             0.5555555555555556,
             "#d8576b"
            ],
            [
             0.6666666666666666,
             "#ed7953"
            ],
            [
             0.7777777777777778,
             "#fb9f3a"
            ],
            [
             0.8888888888888888,
             "#fdca26"
            ],
            [
             1,
             "#f0f921"
            ]
           ],
           "sequentialminus": [
            [
             0,
             "#0d0887"
            ],
            [
             0.1111111111111111,
             "#46039f"
            ],
            [
             0.2222222222222222,
             "#7201a8"
            ],
            [
             0.3333333333333333,
             "#9c179e"
            ],
            [
             0.4444444444444444,
             "#bd3786"
            ],
            [
             0.5555555555555556,
             "#d8576b"
            ],
            [
             0.6666666666666666,
             "#ed7953"
            ],
            [
             0.7777777777777778,
             "#fb9f3a"
            ],
            [
             0.8888888888888888,
             "#fdca26"
            ],
            [
             1,
             "#f0f921"
            ]
           ]
          },
          "colorway": [
           "#636efa",
           "#EF553B",
           "#00cc96",
           "#ab63fa",
           "#FFA15A",
           "#19d3f3",
           "#FF6692",
           "#B6E880",
           "#FF97FF",
           "#FECB52"
          ],
          "font": {
           "color": "#2a3f5f"
          },
          "geo": {
           "bgcolor": "white",
           "lakecolor": "white",
           "landcolor": "#E5ECF6",
           "showlakes": true,
           "showland": true,
           "subunitcolor": "white"
          },
          "hoverlabel": {
           "align": "left"
          },
          "hovermode": "closest",
          "mapbox": {
           "style": "light"
          },
          "paper_bgcolor": "white",
          "plot_bgcolor": "#E5ECF6",
          "polar": {
           "angularaxis": {
            "gridcolor": "white",
            "linecolor": "white",
            "ticks": ""
           },
           "bgcolor": "#E5ECF6",
           "radialaxis": {
            "gridcolor": "white",
            "linecolor": "white",
            "ticks": ""
           }
          },
          "scene": {
           "xaxis": {
            "backgroundcolor": "#E5ECF6",
            "gridcolor": "white",
            "gridwidth": 2,
            "linecolor": "white",
            "showbackground": true,
            "ticks": "",
            "zerolinecolor": "white"
           },
           "yaxis": {
            "backgroundcolor": "#E5ECF6",
            "gridcolor": "white",
            "gridwidth": 2,
            "linecolor": "white",
            "showbackground": true,
            "ticks": "",
            "zerolinecolor": "white"
           },
           "zaxis": {
            "backgroundcolor": "#E5ECF6",
            "gridcolor": "white",
            "gridwidth": 2,
            "linecolor": "white",
            "showbackground": true,
            "ticks": "",
            "zerolinecolor": "white"
           }
          },
          "shapedefaults": {
           "line": {
            "color": "#2a3f5f"
           }
          },
          "ternary": {
           "aaxis": {
            "gridcolor": "white",
            "linecolor": "white",
            "ticks": ""
           },
           "baxis": {
            "gridcolor": "white",
            "linecolor": "white",
            "ticks": ""
           },
           "bgcolor": "#E5ECF6",
           "caxis": {
            "gridcolor": "white",
            "linecolor": "white",
            "ticks": ""
           }
          },
          "title": {
           "x": 0.05
          },
          "xaxis": {
           "automargin": true,
           "gridcolor": "white",
           "linecolor": "white",
           "ticks": "",
           "title": {
            "standoff": 15
           },
           "zerolinecolor": "white",
           "zerolinewidth": 2
          },
          "yaxis": {
           "automargin": true,
           "gridcolor": "white",
           "linecolor": "white",
           "ticks": "",
           "title": {
            "standoff": 15
           },
           "zerolinecolor": "white",
           "zerolinewidth": 2
          }
         }
        }
       }
      },
      "image/png": "[encoded data removed]",
      "text/html": [
       "<div>\n",
       "        \n",
       "        \n",
       "            <div id=\"97e41752-ef63-4825-a661-90f98241eb9b\" class=\"plotly-graph-div\" style=\"height:525px; width:100%;\"></div>\n",
       "            <script type=\"text/javascript\">\n",
       "                require([\"plotly\"], function(Plotly) {\n",
       "                    window.PLOTLYENV=window.PLOTLYENV || {};\n",
       "                    \n",
       "                if (document.getElementById(\"97e41752-ef63-4825-a661-90f98241eb9b\")) {\n",
       "                    Plotly.newPlot(\n",
       "                        '97e41752-ef63-4825-a661-90f98241eb9b',\n",
       "                        [{\"cells\": {\"align\": [\"left\", \"center\"], \"fill\": {\"color\": [\"paleturquoise\", \"paleturquoise\", \"white\", \"white\"]}, \"font\": {\"size\": 12}, \"height\": 30, \"line\": {\"color\": \"darkslategray\"}, \"values\": [[\"<b>0</b>\", \"<b>1</b>\", \"<b>2</b>\", \"<b>3</b>\", \"<b>4</b>\", \"<b>5</b>\"], [\"fes\", \"pkr\", \"vav\", \"suw\", \"ikm\", \"sjl\"], [\"2020-07-07 21:26:06\", \"2020-07-07 21:22:40\", \"2020-07-04 17:32:55\", \"2020-07-01 13:36:34\", \"2020-07-01 13:36:31\", \"2020-07-01 13:36:28\"], [\"100k SA optimization, segments are long but have a high match over a larget segment of space\", \"this is an interesting optimization result where the robot links are small and live under the leg\", \"this is an example\", \"this is a test of the logging system to see if everything is working properly\", \"this is a test of the logging system to see if everything is working properly\", \"this is a test of the logging system to see if everything is working properly\"]]}, \"columnorder\": [1, 2, 3, 4], \"columnwidth\": [30, 30, 80, 400], \"header\": {\"align\": [\"left\", \"center\"], \"fill\": {\"color\": \"royalblue\"}, \"font\": {\"color\": \"white\", \"size\": 12}, \"height\": 40, \"line\": {\"color\": \"darkslategray\"}, \"values\": [\"<b>Index</b>\", \"<b>Hash</b><br>\", \"<b>date</b>\", \"<b>Commit Message</b>\"]}, \"type\": \"table\"}],\n",
       "                        {\"template\": {\"data\": {\"bar\": [{\"error_x\": {\"color\": \"#2a3f5f\"}, \"error_y\": {\"color\": \"#2a3f5f\"}, \"marker\": {\"line\": {\"color\": \"#E5ECF6\", \"width\": 0.5}}, \"type\": \"bar\"}], \"barpolar\": [{\"marker\": {\"line\": {\"color\": \"#E5ECF6\", \"width\": 0.5}}, \"type\": \"barpolar\"}], \"carpet\": [{\"aaxis\": {\"endlinecolor\": \"#2a3f5f\", \"gridcolor\": \"white\", \"linecolor\": \"white\", \"minorgridcolor\": \"white\", \"startlinecolor\": \"#2a3f5f\"}, \"baxis\": {\"endlinecolor\": \"#2a3f5f\", \"gridcolor\": \"white\", \"linecolor\": \"white\", \"minorgridcolor\": \"white\", \"startlinecolor\": \"#2a3f5f\"}, \"type\": \"carpet\"}], \"choropleth\": [{\"colorbar\": {\"outlinewidth\": 0, \"ticks\": \"\"}, \"type\": \"choropleth\"}], \"contour\": [{\"colorbar\": {\"outlinewidth\": 0, \"ticks\": \"\"}, \"colorscale\": [[0.0, \"#0d0887\"], [0.1111111111111111, \"#46039f\"], [0.2222222222222222, \"#7201a8\"], [0.3333333333333333, \"#9c179e\"], [0.4444444444444444, \"#bd3786\"], [0.5555555555555556, \"#d8576b\"], [0.6666666666666666, \"#ed7953\"], [0.7777777777777778, \"#fb9f3a\"], [0.8888888888888888, \"#fdca26\"], [1.0, \"#f0f921\"]], \"type\": \"contour\"}], \"contourcarpet\": [{\"colorbar\": {\"outlinewidth\": 0, \"ticks\": \"\"}, \"type\": \"contourcarpet\"}], \"heatmap\": [{\"colorbar\": {\"outlinewidth\": 0, \"ticks\": \"\"}, \"colorscale\": [[0.0, \"#0d0887\"], [0.1111111111111111, \"#46039f\"], [0.2222222222222222, \"#7201a8\"], [0.3333333333333333, \"#9c179e\"], [0.4444444444444444, \"#bd3786\"], [0.5555555555555556, \"#d8576b\"], [0.6666666666666666, \"#ed7953\"], [0.7777777777777778, \"#fb9f3a\"], [0.8888888888888888, \"#fdca26\"], [1.0, \"#f0f921\"]], \"type\": \"heatmap\"}], \"heatmapgl\": [{\"colorbar\": {\"outlinewidth\": 0, \"ticks\": \"\"}, \"colorscale\": [[0.0, \"#0d0887\"], [0.1111111111111111, \"#46039f\"], [0.2222222222222222, \"#7201a8\"], [0.3333333333333333, \"#9c179e\"], [0.4444444444444444, \"#bd3786\"], [0.5555555555555556, \"#d8576b\"], [0.6666666666666666, \"#ed7953\"], [0.7777777777777778, \"#fb9f3a\"], [0.8888888888888888, \"#fdca26\"], [1.0, \"#f0f921\"]], \"type\": \"heatmapgl\"}], \"histogram\": [{\"marker\": {\"colorbar\": {\"outlinewidth\": 0, \"ticks\": \"\"}}, \"type\": \"histogram\"}], \"histogram2d\": [{\"colorbar\": {\"outlinewidth\": 0, \"ticks\": \"\"}, \"colorscale\": [[0.0, \"#0d0887\"], [0.1111111111111111, \"#46039f\"], [0.2222222222222222, \"#7201a8\"], [0.3333333333333333, \"#9c179e\"], [0.4444444444444444, \"#bd3786\"], [0.5555555555555556, \"#d8576b\"], [0.6666666666666666, \"#ed7953\"], [0.7777777777777778, \"#fb9f3a\"], [0.8888888888888888, \"#fdca26\"], [1.0, \"#f0f921\"]], \"type\": \"histogram2d\"}], \"histogram2dcontour\": [{\"colorbar\": {\"outlinewidth\": 0, \"ticks\": \"\"}, \"colorscale\": [[0.0, \"#0d0887\"], [0.1111111111111111, \"#46039f\"], [0.2222222222222222, \"#7201a8\"], [0.3333333333333333, \"#9c179e\"], [0.4444444444444444, \"#bd3786\"], [0.5555555555555556, \"#d8576b\"], [0.6666666666666666, \"#ed7953\"], [0.7777777777777778, \"#fb9f3a\"], [0.8888888888888888, \"#fdca26\"], [1.0, \"#f0f921\"]], \"type\": \"histogram2dcontour\"}], \"mesh3d\": [{\"colorbar\": {\"outlinewidth\": 0, \"ticks\": \"\"}, \"type\": \"mesh3d\"}], \"parcoords\": [{\"line\": {\"colorbar\": {\"outlinewidth\": 0, \"ticks\": \"\"}}, \"type\": \"parcoords\"}], \"pie\": [{\"automargin\": true, \"type\": \"pie\"}], \"scatter\": [{\"marker\": {\"colorbar\": {\"outlinewidth\": 0, \"ticks\": \"\"}}, \"type\": \"scatter\"}], \"scatter3d\": [{\"line\": {\"colorbar\": {\"outlinewidth\": 0, \"ticks\": \"\"}}, \"marker\": {\"colorbar\": {\"outlinewidth\": 0, \"ticks\": \"\"}}, \"type\": \"scatter3d\"}], \"scattercarpet\": [{\"marker\": {\"colorbar\": {\"outlinewidth\": 0, \"ticks\": \"\"}}, \"type\": \"scattercarpet\"}], \"scattergeo\": [{\"marker\": {\"colorbar\": {\"outlinewidth\": 0, \"ticks\": \"\"}}, \"type\": \"scattergeo\"}], \"scattergl\": [{\"marker\": {\"colorbar\": {\"outlinewidth\": 0, \"ticks\": \"\"}}, \"type\": \"scattergl\"}], \"scattermapbox\": [{\"marker\": {\"colorbar\": {\"outlinewidth\": 0, \"ticks\": \"\"}}, \"type\": \"scattermapbox\"}], \"scatterpolar\": [{\"marker\": {\"colorbar\": {\"outlinewidth\": 0, \"ticks\": \"\"}}, \"type\": \"scatterpolar\"}], \"scatterpolargl\": [{\"marker\": {\"colorbar\": {\"outlinewidth\": 0, \"ticks\": \"\"}}, \"type\": \"scatterpolargl\"}], \"scatterternary\": [{\"marker\": {\"colorbar\": {\"outlinewidth\": 0, \"ticks\": \"\"}}, \"type\": \"scatterternary\"}], \"surface\": [{\"colorbar\": {\"outlinewidth\": 0, \"ticks\": \"\"}, \"colorscale\": [[0.0, \"#0d0887\"], [0.1111111111111111, \"#46039f\"], [0.2222222222222222, \"#7201a8\"], [0.3333333333333333, \"#9c179e\"], [0.4444444444444444, \"#bd3786\"], [0.5555555555555556, \"#d8576b\"], [0.6666666666666666, \"#ed7953\"], [0.7777777777777778, \"#fb9f3a\"], [0.8888888888888888, \"#fdca26\"], [1.0, \"#f0f921\"]], \"type\": \"surface\"}], \"table\": [{\"cells\": {\"fill\": {\"color\": \"#EBF0F8\"}, \"line\": {\"color\": \"white\"}}, \"header\": {\"fill\": {\"color\": \"#C8D4E3\"}, \"line\": {\"color\": \"white\"}}, \"type\": \"table\"}]}, \"layout\": {\"annotationdefaults\": {\"arrowcolor\": \"#2a3f5f\", \"arrowhead\": 0, \"arrowwidth\": 1}, \"coloraxis\": {\"colorbar\": {\"outlinewidth\": 0, \"ticks\": \"\"}}, \"colorscale\": {\"diverging\": [[0, \"#8e0152\"], [0.1, \"#c51b7d\"], [0.2, \"#de77ae\"], [0.3, \"#f1b6da\"], [0.4, \"#fde0ef\"], [0.5, \"#f7f7f7\"], [0.6, \"#e6f5d0\"], [0.7, \"#b8e186\"], [0.8, \"#7fbc41\"], [0.9, \"#4d9221\"], [1, \"#276419\"]], \"sequential\": [[0.0, \"#0d0887\"], [0.1111111111111111, \"#46039f\"], [0.2222222222222222, \"#7201a8\"], [0.3333333333333333, \"#9c179e\"], [0.4444444444444444, \"#bd3786\"], [0.5555555555555556, \"#d8576b\"], [0.6666666666666666, \"#ed7953\"], [0.7777777777777778, \"#fb9f3a\"], [0.8888888888888888, \"#fdca26\"], [1.0, \"#f0f921\"]], \"sequentialminus\": [[0.0, \"#0d0887\"], [0.1111111111111111, \"#46039f\"], [0.2222222222222222, \"#7201a8\"], [0.3333333333333333, \"#9c179e\"], [0.4444444444444444, \"#bd3786\"], [0.5555555555555556, \"#d8576b\"], [0.6666666666666666, \"#ed7953\"], [0.7777777777777778, \"#fb9f3a\"], [0.8888888888888888, \"#fdca26\"], [1.0, \"#f0f921\"]]}, \"colorway\": [\"#636efa\", \"#EF553B\", \"#00cc96\", \"#ab63fa\", \"#FFA15A\", \"#19d3f3\", \"#FF6692\", \"#B6E880\", \"#FF97FF\", \"#FECB52\"], \"font\": {\"color\": \"#2a3f5f\"}, \"geo\": {\"bgcolor\": \"white\", \"lakecolor\": \"white\", \"landcolor\": \"#E5ECF6\", \"showlakes\": true, \"showland\": true, \"subunitcolor\": \"white\"}, \"hoverlabel\": {\"align\": \"left\"}, \"hovermode\": \"closest\", \"mapbox\": {\"style\": \"light\"}, \"paper_bgcolor\": \"white\", \"plot_bgcolor\": \"#E5ECF6\", \"polar\": {\"angularaxis\": {\"gridcolor\": \"white\", \"linecolor\": \"white\", \"ticks\": \"\"}, \"bgcolor\": \"#E5ECF6\", \"radialaxis\": {\"gridcolor\": \"white\", \"linecolor\": \"white\", \"ticks\": \"\"}}, \"scene\": {\"xaxis\": {\"backgroundcolor\": \"#E5ECF6\", \"gridcolor\": \"white\", \"gridwidth\": 2, \"linecolor\": \"white\", \"showbackground\": true, \"ticks\": \"\", \"zerolinecolor\": \"white\"}, \"yaxis\": {\"backgroundcolor\": \"#E5ECF6\", \"gridcolor\": \"white\", \"gridwidth\": 2, \"linecolor\": \"white\", \"showbackground\": true, \"ticks\": \"\", \"zerolinecolor\": \"white\"}, \"zaxis\": {\"backgroundcolor\": \"#E5ECF6\", \"gridcolor\": \"white\", \"gridwidth\": 2, \"linecolor\": \"white\", \"showbackground\": true, \"ticks\": \"\", \"zerolinecolor\": \"white\"}}, \"shapedefaults\": {\"line\": {\"color\": \"#2a3f5f\"}}, \"ternary\": {\"aaxis\": {\"gridcolor\": \"white\", \"linecolor\": \"white\", \"ticks\": \"\"}, \"baxis\": {\"gridcolor\": \"white\", \"linecolor\": \"white\", \"ticks\": \"\"}, \"bgcolor\": \"#E5ECF6\", \"caxis\": {\"gridcolor\": \"white\", \"linecolor\": \"white\", \"ticks\": \"\"}}, \"title\": {\"x\": 0.05}, \"xaxis\": {\"automargin\": true, \"gridcolor\": \"white\", \"linecolor\": \"white\", \"ticks\": \"\", \"title\": {\"standoff\": 15}, \"zerolinecolor\": \"white\", \"zerolinewidth\": 2}, \"yaxis\": {\"automargin\": true, \"gridcolor\": \"white\", \"linecolor\": \"white\", \"ticks\": \"\", \"title\": {\"standoff\": 15}, \"zerolinecolor\": \"white\", \"zerolinewidth\": 2}}}},\n",
       "                        {\"responsive\": true}\n",
       "                    ).then(function(){\n",
       "                            \n",
       "var gd = document.getElementById('97e41752-ef63-4825-a661-90f98241eb9b');\n",
       "var x = new MutationObserver(function (mutations, observer) {{\n",
       "        var display = window.getComputedStyle(gd).display;\n",
       "        if (!display || display === 'none') {{\n",
       "            console.log([gd, 'removed!']);\n",
       "            Plotly.purge(gd);\n",
       "            observer.disconnect();\n",
       "        }}\n",
       "}});\n",
       "\n",
       "// Listen for the removal of the full notebook cells\n",
       "var notebookContainer = gd.closest('#notebook-container');\n",
       "if (notebookContainer) {{\n",
       "    x.observe(notebookContainer, {childList: true});\n",
       "}}\n",
       "\n",
       "// Listen for the clearing of the current output cell\n",
       "var outputEl = gd.closest('.output');\n",
       "if (outputEl) {{\n",
       "    x.observe(outputEl, {childList: true});\n",
       "}}\n",
       "\n",
       "                        })\n",
       "                };\n",
       "                });\n",
       "            </script>\n",
       "        </div>"
      ]
     },
     "metadata": {},
     "output_type": "display_data"
    }
   ],
   "source": [
    "Exp.Log()"
   ]
  },
  {
   "cell_type": "markdown",
   "metadata": {},
   "source": [
    "# load compact solution and visualize it"
   ]
  },
  {
   "cell_type": "code",
   "execution_count": 7,
   "metadata": {},
   "outputs": [
    {
     "data": {
      "application/vnd.jupyter.widget-view+json": {
       "model_id": "1defe649f991495cb8a4f63d0508e418",
       "version_major": 2,
       "version_minor": 0
      },
      "text/plain": [
       "HBox(children=(FigureWidget({\n",
       "    'data': [{'line': {'color': 'gray'},\n",
       "              'name': 'placeholder',\n",
       "  …"
      ]
     },
     "metadata": {},
     "output_type": "display_data"
    }
   ],
   "source": [
    "#run simulated anealing for a long time. \n",
    "exp2 = Exp()\n",
    "\n",
    "#laod\n",
    "a = exp2.load('pkr')\n",
    "\n",
    "#display\n",
    "exp2.vis.display()"
   ]
  },
  {
   "cell_type": "markdown",
   "metadata": {},
   "source": [
    "<a id=\"BFGS_opt\"></a>\n",
    "# BFGS optimization - optimize around hand tuned robot [ &#x21ea;](#NEtop)"
   ]
  },
  {
   "cell_type": "code",
   "execution_count": 153,
   "metadata": {},
   "outputs": [
    {
     "name": "stdout",
     "output_type": "stream",
     "text": [
      "Warning: Desired error not necessarily achieved due to precision loss.\n",
      "         Current function value: -42.260518\n",
      "         Iterations: 6\n",
      "         Function evaluations: 1524\n",
      "         Gradient evaluations: 126\n"
     ]
    },
    {
     "data": {
      "application/vnd.jupyter.widget-view+json": {
       "model_id": "5edcada3b18b4919957f91e8e544d026",
       "version_major": 2,
       "version_minor": 0
      },
      "text/plain": [
       "HBox(children=(FigureWidget({\n",
       "    'data': [{'line': {'color': 'gray'},\n",
       "              'name': 'placeholder',\n",
       "  …"
      ]
     },
     "metadata": {},
     "output_type": "display_data"
    }
   ],
   "source": [
    "# hkRobot = Exp()       #init robot\n",
    "\n",
    "# #hand tune robot configuration\n",
    "# hkRobot.r.xl = 0\n",
    "# hkRobot.r.yl = 0\n",
    "# hkRobot.r.xr = 0\n",
    "# hkRobot.r.yr = 0 \n",
    "\n",
    "# hkRobot.r.L1l = .4 \n",
    "# hkRobot.r.L2l = .1 \n",
    "# hkRobot.r.L3l = .288\n",
    "# hkRobot.r.L1r = .1\n",
    "# hkRobot.r.L2r = .4\n",
    "# hkRobot.r.θ3l = 0\n",
    "\n",
    "# hkRobot.r.e3  = 'down'\n",
    "\n",
    "# #setup the optimizer and x0\n",
    "# hkRobot.optimizer = BFGS()\n",
    "# hkRobot.optimizer.x0 = [hkRobot.r.get_x()]\n",
    "\n",
    "# #run optimization\n",
    "# exp.run()\n",
    "\n",
    "# #display optimization\n",
    "# exp.vis.display(\"tb\")\n"
   ]
  },
  {
   "cell_type": "code",
   "execution_count": 149,
   "metadata": {},
   "outputs": [
    {
     "name": "stdout",
     "output_type": "stream",
     "text": [
      "Warning: Desired error not necessarily achieved due to precision loss.\n",
      "         Current function value: -42.260518\n",
      "         Iterations: 6\n",
      "         Function evaluations: 1524\n",
      "         Gradient evaluations: 126\n"
     ]
    },
    {
     "data": {
      "application/vnd.jupyter.widget-view+json": {
       "model_id": "b01b9973932f4241bacf4c97f5366e45",
       "version_major": 2,
       "version_minor": 0
      },
      "text/plain": [
       "HBox(children=(FigureWidget({\n",
       "    'data': [{'line': {'color': 'gray'},\n",
       "              'name': 'placeholder',\n",
       "  …"
      ]
     },
     "metadata": {},
     "output_type": "display_data"
    }
   ],
   "source": [
    "# exp = Exp()\n",
    "\n",
    "# #setup the optimizer\n",
    "# exp.optimizer = BFGS()\n",
    "# exp.optimizer.x0 = [exp.r.get_x()]\n",
    "\n",
    "# #run optimization\n",
    "# exp.run()\n",
    "\n",
    "# #display optimization\n",
    "# exp.vis.display(\"tb\")"
   ]
  },
  {
   "cell_type": "markdown",
   "metadata": {},
   "source": [
    "# sobol sampling of the solution space"
   ]
  },
  {
   "cell_type": "code",
   "execution_count": 7,
   "metadata": {},
   "outputs": [
    {
     "name": "stdout",
     "output_type": "stream",
     "text": [
      "models run as library\n",
      "optimizers run as library\n"
     ]
    },
    {
     "data": {
      "application/vnd.jupyter.widget-view+json": {
       "model_id": "6e6591adebb94a04b7dd846d1df722d9",
       "version_major": 2,
       "version_minor": 0
      },
      "text/plain": [
       "HBox(children=(FigureWidget({\n",
       "    'data': [{'line': {'color': 'gray'},\n",
       "              'name': 'placeholder',\n",
       "  …"
      ]
     },
     "metadata": {},
     "output_type": "display_data"
    }
   ],
   "source": [
    "#generate the 100k sobol samples of the space, and archive them for later analysis\n",
    "%run models.ipynb\n",
    "\n",
    "#init experiment\n",
    "exp = Exp()\n",
    "\n",
    "#setup the optimizer\n",
    "exp.optimizer = Sobol()\n",
    "exp.optimizer.n = 100000\n",
    "\n",
    "#run optimization (takes 30min)\n",
    "#exp.run()\n",
    "\n",
    "#save the optimziation\n",
    "#exp.save(\"100k Sobol samples from which we will select a set of interesting designs\")\n",
    "\n",
    "#load the solutions into memmory\n",
    "p = exp.load('qtx')\n",
    "\n",
    "#move the solutions into the optimizer state\n",
    "exp.optimizer.xs = p['simState']['opt']['xs']\n",
    "exp.optimizer.fxs = p['simState']['opt']['fxs']\n",
    "\n",
    "#select best solutions using selection method\n",
    "exp.optimizer.histSelect()\n",
    "exp.xBest = exp.optimizer.xBest #load into where visualizer will look\n",
    "\n",
    "#view solutions\n",
    "exp.vis.display()"
   ]
  },
  {
   "cell_type": "code",
   "execution_count": 47,
   "metadata": {},
   "outputs": [
    {
     "data": {
      "application/vnd.plotly.v1+json": {
       "config": {
        "plotlyServerURL": "https://plot.ly"
       },
       "data": [
        {
         "cells": {
          "align": [
           "left",
           "center"
          ],
          "fill": {
           "color": [
            "paleturquoise",
            "paleturquoise",
            "white",
            "white"
           ]
          },
          "font": {
           "size": 12
          },
          "height": 30,
          "line": {
           "color": "darkslategray"
          },
          "values": [
           [
            "<b>0</b>",
            "<b>1</b>",
            "<b>2</b>",
            "<b>3</b>",
            "<b>4</b>",
            "<b>5</b>",
            "<b>6</b>"
           ],
           [
            "qtx",
            "fes",
            "pkr",
            "vav",
            "suw",
            "ikm",
            "sjl"
           ],
           [
            "2020-07-16 22:41:36",
            "2020-07-07 21:26:06",
            "2020-07-07 21:22:40",
            "2020-07-04 17:32:55",
            "2020-07-01 13:36:34",
            "2020-07-01 13:36:31",
            "2020-07-01 13:36:28"
           ],
           [
            "100k Sobol samples from which we will select a set of interesting designs",
            "100k SA optimization, segments are long but have a high match over a larget segment of space",
            "this is an interesting optimization result where the robot links are small and live under the leg",
            "this is an example",
            "this is a test of the logging system to see if everything is working properly",
            "this is a test of the logging system to see if everything is working properly",
            "this is a test of the logging system to see if everything is working properly"
           ]
          ]
         },
         "columnorder": [
          1,
          2,
          3,
          4
         ],
         "columnwidth": [
          30,
          30,
          80,
          400
         ],
         "header": {
          "align": [
           "left",
           "center"
          ],
          "fill": {
           "color": "royalblue"
          },
          "font": {
           "color": "white",
           "size": 12
          },
          "height": 40,
          "line": {
           "color": "darkslategray"
          },
          "values": [
           "<b>Index</b>",
           "<b>Hash</b><br>",
           "<b>date</b>",
           "<b>Commit Message</b>"
          ]
         },
         "type": "table"
        }
       ],
       "layout": {
        "autosize": true,
        "template": {
         "data": {
          "bar": [
           {
            "error_x": {
             "color": "#2a3f5f"
            },
            "error_y": {
             "color": "#2a3f5f"
            },
            "marker": {
             "line": {
              "color": "#E5ECF6",
              "width": 0.5
             }
            },
            "type": "bar"
           }
          ],
          "barpolar": [
           {
            "marker": {
             "line": {
              "color": "#E5ECF6",
              "width": 0.5
             }
            },
            "type": "barpolar"
           }
          ],
          "carpet": [
           {
            "aaxis": {
             "endlinecolor": "#2a3f5f",
             "gridcolor": "white",
             "linecolor": "white",
             "minorgridcolor": "white",
             "startlinecolor": "#2a3f5f"
            },
            "baxis": {
             "endlinecolor": "#2a3f5f",
             "gridcolor": "white",
             "linecolor": "white",
             "minorgridcolor": "white",
             "startlinecolor": "#2a3f5f"
            },
            "type": "carpet"
           }
          ],
          "choropleth": [
           {
            "colorbar": {
             "outlinewidth": 0,
             "ticks": ""
            },
            "type": "choropleth"
           }
          ],
          "contour": [
           {
            "colorbar": {
             "outlinewidth": 0,
             "ticks": ""
            },
            "colorscale": [
             [
              0,
              "#0d0887"
             ],
             [
              0.1111111111111111,
              "#46039f"
             ],
             [
              0.2222222222222222,
              "#7201a8"
             ],
             [
              0.3333333333333333,
              "#9c179e"
             ],
             [
              0.4444444444444444,
              "#bd3786"
             ],
             [
              0.5555555555555556,
              "#d8576b"
             ],
             [
              0.6666666666666666,
              "#ed7953"
             ],
             [
              0.7777777777777778,
              "#fb9f3a"
             ],
             [
              0.8888888888888888,
              "#fdca26"
             ],
             [
              1,
              "#f0f921"
             ]
            ],
            "type": "contour"
           }
          ],
          "contourcarpet": [
           {
            "colorbar": {
             "outlinewidth": 0,
             "ticks": ""
            },
            "type": "contourcarpet"
           }
          ],
          "heatmap": [
           {
            "colorbar": {
             "outlinewidth": 0,
             "ticks": ""
            },
            "colorscale": [
             [
              0,
              "#0d0887"
             ],
             [
              0.1111111111111111,
              "#46039f"
             ],
             [
              0.2222222222222222,
              "#7201a8"
             ],
             [
              0.3333333333333333,
              "#9c179e"
             ],
             [
              0.4444444444444444,
              "#bd3786"
             ],
             [
              0.5555555555555556,
              "#d8576b"
             ],
             [
              0.6666666666666666,
              "#ed7953"
             ],
             [
              0.7777777777777778,
              "#fb9f3a"
             ],
             [
              0.8888888888888888,
              "#fdca26"
             ],
             [
              1,
              "#f0f921"
             ]
            ],
            "type": "heatmap"
           }
          ],
          "heatmapgl": [
           {
            "colorbar": {
             "outlinewidth": 0,
             "ticks": ""
            },
            "colorscale": [
             [
              0,
              "#0d0887"
             ],
             [
              0.1111111111111111,
              "#46039f"
             ],
             [
              0.2222222222222222,
              "#7201a8"
             ],
             [
              0.3333333333333333,
              "#9c179e"
             ],
             [
              0.4444444444444444,
              "#bd3786"
             ],
             [
              0.5555555555555556,
              "#d8576b"
             ],
             [
              0.6666666666666666,
              "#ed7953"
             ],
             [
              0.7777777777777778,
              "#fb9f3a"
             ],
             [
              0.8888888888888888,
              "#fdca26"
             ],
             [
              1,
              "#f0f921"
             ]
            ],
            "type": "heatmapgl"
           }
          ],
          "histogram": [
           {
            "marker": {
             "colorbar": {
              "outlinewidth": 0,
              "ticks": ""
             }
            },
            "type": "histogram"
           }
          ],
          "histogram2d": [
           {
            "colorbar": {
             "outlinewidth": 0,
             "ticks": ""
            },
            "colorscale": [
             [
              0,
              "#0d0887"
             ],
             [
              0.1111111111111111,
              "#46039f"
             ],
             [
              0.2222222222222222,
              "#7201a8"
             ],
             [
              0.3333333333333333,
              "#9c179e"
             ],
             [
              0.4444444444444444,
              "#bd3786"
             ],
             [
              0.5555555555555556,
              "#d8576b"
             ],
             [
              0.6666666666666666,
              "#ed7953"
             ],
             [
              0.7777777777777778,
              "#fb9f3a"
             ],
             [
              0.8888888888888888,
              "#fdca26"
             ],
             [
              1,
              "#f0f921"
             ]
            ],
            "type": "histogram2d"
           }
          ],
          "histogram2dcontour": [
           {
            "colorbar": {
             "outlinewidth": 0,
             "ticks": ""
            },
            "colorscale": [
             [
              0,
              "#0d0887"
             ],
             [
              0.1111111111111111,
              "#46039f"
             ],
             [
              0.2222222222222222,
              "#7201a8"
             ],
             [
              0.3333333333333333,
              "#9c179e"
             ],
             [
              0.4444444444444444,
              "#bd3786"
             ],
             [
              0.5555555555555556,
              "#d8576b"
             ],
             [
              0.6666666666666666,
              "#ed7953"
             ],
             [
              0.7777777777777778,
              "#fb9f3a"
             ],
             [
              0.8888888888888888,
              "#fdca26"
             ],
             [
              1,
              "#f0f921"
             ]
            ],
            "type": "histogram2dcontour"
           }
          ],
          "mesh3d": [
           {
            "colorbar": {
             "outlinewidth": 0,
             "ticks": ""
            },
            "type": "mesh3d"
           }
          ],
          "parcoords": [
           {
            "line": {
             "colorbar": {
              "outlinewidth": 0,
              "ticks": ""
             }
            },
            "type": "parcoords"
           }
          ],
          "pie": [
           {
            "automargin": true,
            "type": "pie"
           }
          ],
          "scatter": [
           {
            "marker": {
             "colorbar": {
              "outlinewidth": 0,
              "ticks": ""
             }
            },
            "type": "scatter"
           }
          ],
          "scatter3d": [
           {
            "line": {
             "colorbar": {
              "outlinewidth": 0,
              "ticks": ""
             }
            },
            "marker": {
             "colorbar": {
              "outlinewidth": 0,
              "ticks": ""
             }
            },
            "type": "scatter3d"
           }
          ],
          "scattercarpet": [
           {
            "marker": {
             "colorbar": {
              "outlinewidth": 0,
              "ticks": ""
             }
            },
            "type": "scattercarpet"
           }
          ],
          "scattergeo": [
           {
            "marker": {
             "colorbar": {
              "outlinewidth": 0,
              "ticks": ""
             }
            },
            "type": "scattergeo"
           }
          ],
          "scattergl": [
           {
            "marker": {
             "colorbar": {
              "outlinewidth": 0,
              "ticks": ""
             }
            },
            "type": "scattergl"
           }
          ],
          "scattermapbox": [
           {
            "marker": {
             "colorbar": {
              "outlinewidth": 0,
              "ticks": ""
             }
            },
            "type": "scattermapbox"
           }
          ],
          "scatterpolar": [
           {
            "marker": {
             "colorbar": {
              "outlinewidth": 0,
              "ticks": ""
             }
            },
            "type": "scatterpolar"
           }
          ],
          "scatterpolargl": [
           {
            "marker": {
             "colorbar": {
              "outlinewidth": 0,
              "ticks": ""
             }
            },
            "type": "scatterpolargl"
           }
          ],
          "scatterternary": [
           {
            "marker": {
             "colorbar": {
              "outlinewidth": 0,
              "ticks": ""
             }
            },
            "type": "scatterternary"
           }
          ],
          "surface": [
           {
            "colorbar": {
             "outlinewidth": 0,
             "ticks": ""
            },
            "colorscale": [
             [
              0,
              "#0d0887"
             ],
             [
              0.1111111111111111,
              "#46039f"
             ],
             [
              0.2222222222222222,
              "#7201a8"
             ],
             [
              0.3333333333333333,
              "#9c179e"
             ],
             [
              0.4444444444444444,
              "#bd3786"
             ],
             [
              0.5555555555555556,
              "#d8576b"
             ],
             [
              0.6666666666666666,
              "#ed7953"
             ],
             [
              0.7777777777777778,
              "#fb9f3a"
             ],
             [
              0.8888888888888888,
              "#fdca26"
             ],
             [
              1,
              "#f0f921"
             ]
            ],
            "type": "surface"
           }
          ],
          "table": [
           {
            "cells": {
             "fill": {
              "color": "#EBF0F8"
             },
             "line": {
              "color": "white"
             }
            },
            "header": {
             "fill": {
              "color": "#C8D4E3"
             },
             "line": {
              "color": "white"
             }
            },
            "type": "table"
           }
          ]
         },
         "layout": {
          "annotationdefaults": {
           "arrowcolor": "#2a3f5f",
           "arrowhead": 0,
           "arrowwidth": 1
          },
          "coloraxis": {
           "colorbar": {
            "outlinewidth": 0,
            "ticks": ""
           }
          },
          "colorscale": {
           "diverging": [
            [
             0,
             "#8e0152"
            ],
            [
             0.1,
             "#c51b7d"
            ],
            [
             0.2,
             "#de77ae"
            ],
            [
             0.3,
             "#f1b6da"
            ],
            [
             0.4,
             "#fde0ef"
            ],
            [
             0.5,
             "#f7f7f7"
            ],
            [
             0.6,
             "#e6f5d0"
            ],
            [
             0.7,
             "#b8e186"
            ],
            [
             0.8,
             "#7fbc41"
            ],
            [
             0.9,
             "#4d9221"
            ],
            [
             1,
             "#276419"
            ]
           ],
           "sequential": [
            [
             0,
             "#0d0887"
            ],
            [
             0.1111111111111111,
             "#46039f"
            ],
            [
             0.2222222222222222,
             "#7201a8"
            ],
            [
             0.3333333333333333,
             "#9c179e"
            ],
            [
             0.4444444444444444,
             "#bd3786"
            ],
            [
             0.5555555555555556,
             "#d8576b"
            ],
            [
             0.6666666666666666,
             "#ed7953"
            ],
            [
             0.7777777777777778,
             "#fb9f3a"
            ],
            [
             0.8888888888888888,
             "#fdca26"
            ],
            [
             1,
             "#f0f921"
            ]
           ],
           "sequentialminus": [
            [
             0,
             "#0d0887"
            ],
            [
             0.1111111111111111,
             "#46039f"
            ],
            [
             0.2222222222222222,
             "#7201a8"
            ],
            [
             0.3333333333333333,
             "#9c179e"
            ],
            [
             0.4444444444444444,
             "#bd3786"
            ],
            [
             0.5555555555555556,
             "#d8576b"
            ],
            [
             0.6666666666666666,
             "#ed7953"
            ],
            [
             0.7777777777777778,
             "#fb9f3a"
            ],
            [
             0.8888888888888888,
             "#fdca26"
            ],
            [
             1,
             "#f0f921"
            ]
           ]
          },
          "colorway": [
           "#636efa",
           "#EF553B",
           "#00cc96",
           "#ab63fa",
           "#FFA15A",
           "#19d3f3",
           "#FF6692",
           "#B6E880",
           "#FF97FF",
           "#FECB52"
          ],
          "font": {
           "color": "#2a3f5f"
          },
          "geo": {
           "bgcolor": "white",
           "lakecolor": "white",
           "landcolor": "#E5ECF6",
           "showlakes": true,
           "showland": true,
           "subunitcolor": "white"
          },
          "hoverlabel": {
           "align": "left"
          },
          "hovermode": "closest",
          "mapbox": {
           "style": "light"
          },
          "paper_bgcolor": "white",
          "plot_bgcolor": "#E5ECF6",
          "polar": {
           "angularaxis": {
            "gridcolor": "white",
            "linecolor": "white",
            "ticks": ""
           },
           "bgcolor": "#E5ECF6",
           "radialaxis": {
            "gridcolor": "white",
            "linecolor": "white",
            "ticks": ""
           }
          },
          "scene": {
           "xaxis": {
            "backgroundcolor": "#E5ECF6",
            "gridcolor": "white",
            "gridwidth": 2,
            "linecolor": "white",
            "showbackground": true,
            "ticks": "",
            "zerolinecolor": "white"
           },
           "yaxis": {
            "backgroundcolor": "#E5ECF6",
            "gridcolor": "white",
            "gridwidth": 2,
            "linecolor": "white",
            "showbackground": true,
            "ticks": "",
            "zerolinecolor": "white"
           },
           "zaxis": {
            "backgroundcolor": "#E5ECF6",
            "gridcolor": "white",
            "gridwidth": 2,
            "linecolor": "white",
            "showbackground": true,
            "ticks": "",
            "zerolinecolor": "white"
           }
          },
          "shapedefaults": {
           "line": {
            "color": "#2a3f5f"
           }
          },
          "ternary": {
           "aaxis": {
            "gridcolor": "white",
            "linecolor": "white",
            "ticks": ""
           },
           "baxis": {
            "gridcolor": "white",
            "linecolor": "white",
            "ticks": ""
           },
           "bgcolor": "#E5ECF6",
           "caxis": {
            "gridcolor": "white",
            "linecolor": "white",
            "ticks": ""
           }
          },
          "title": {
           "x": 0.05
          },
          "xaxis": {
           "automargin": true,
           "gridcolor": "white",
           "linecolor": "white",
           "ticks": "",
           "title": {
            "standoff": 15
           },
           "zerolinecolor": "white",
           "zerolinewidth": 2
          },
          "yaxis": {
           "automargin": true,
           "gridcolor": "white",
           "linecolor": "white",
           "ticks": "",
           "title": {
            "standoff": 15
           },
           "zerolinecolor": "white",
           "zerolinewidth": 2
          }
         }
        }
       }
      },
      "image/png": "[encoded data removed]",
      "text/html": [
       "<div>\n",
       "        \n",
       "        \n",
       "            <div id=\"0dcbf3db-7221-4dfe-8179-0455aa374902\" class=\"plotly-graph-div\" style=\"height:525px; width:100%;\"></div>\n",
       "            <script type=\"text/javascript\">\n",
       "                require([\"plotly\"], function(Plotly) {\n",
       "                    window.PLOTLYENV=window.PLOTLYENV || {};\n",
       "                    \n",
       "                if (document.getElementById(\"0dcbf3db-7221-4dfe-8179-0455aa374902\")) {\n",
       "                    Plotly.newPlot(\n",
       "                        '0dcbf3db-7221-4dfe-8179-0455aa374902',\n",
       "                        [{\"cells\": {\"align\": [\"left\", \"center\"], \"fill\": {\"color\": [\"paleturquoise\", \"paleturquoise\", \"white\", \"white\"]}, \"font\": {\"size\": 12}, \"height\": 30, \"line\": {\"color\": \"darkslategray\"}, \"values\": [[\"<b>0</b>\", \"<b>1</b>\", \"<b>2</b>\", \"<b>3</b>\", \"<b>4</b>\", \"<b>5</b>\", \"<b>6</b>\"], [\"qtx\", \"fes\", \"pkr\", \"vav\", \"suw\", \"ikm\", \"sjl\"], [\"2020-07-16 22:41:36\", \"2020-07-07 21:26:06\", \"2020-07-07 21:22:40\", \"2020-07-04 17:32:55\", \"2020-07-01 13:36:34\", \"2020-07-01 13:36:31\", \"2020-07-01 13:36:28\"], [\"100k Sobol samples from which we will select a set of interesting designs\", \"100k SA optimization, segments are long but have a high match over a larget segment of space\", \"this is an interesting optimization result where the robot links are small and live under the leg\", \"this is an example\", \"this is a test of the logging system to see if everything is working properly\", \"this is a test of the logging system to see if everything is working properly\", \"this is a test of the logging system to see if everything is working properly\"]]}, \"columnorder\": [1, 2, 3, 4], \"columnwidth\": [30, 30, 80, 400], \"header\": {\"align\": [\"left\", \"center\"], \"fill\": {\"color\": \"royalblue\"}, \"font\": {\"color\": \"white\", \"size\": 12}, \"height\": 40, \"line\": {\"color\": \"darkslategray\"}, \"values\": [\"<b>Index</b>\", \"<b>Hash</b><br>\", \"<b>date</b>\", \"<b>Commit Message</b>\"]}, \"type\": \"table\"}],\n",
       "                        {\"template\": {\"data\": {\"bar\": [{\"error_x\": {\"color\": \"#2a3f5f\"}, \"error_y\": {\"color\": \"#2a3f5f\"}, \"marker\": {\"line\": {\"color\": \"#E5ECF6\", \"width\": 0.5}}, \"type\": \"bar\"}], \"barpolar\": [{\"marker\": {\"line\": {\"color\": \"#E5ECF6\", \"width\": 0.5}}, \"type\": \"barpolar\"}], \"carpet\": [{\"aaxis\": {\"endlinecolor\": \"#2a3f5f\", \"gridcolor\": \"white\", \"linecolor\": \"white\", \"minorgridcolor\": \"white\", \"startlinecolor\": \"#2a3f5f\"}, \"baxis\": {\"endlinecolor\": \"#2a3f5f\", \"gridcolor\": \"white\", \"linecolor\": \"white\", \"minorgridcolor\": \"white\", \"startlinecolor\": \"#2a3f5f\"}, \"type\": \"carpet\"}], \"choropleth\": [{\"colorbar\": {\"outlinewidth\": 0, \"ticks\": \"\"}, \"type\": \"choropleth\"}], \"contour\": [{\"colorbar\": {\"outlinewidth\": 0, \"ticks\": \"\"}, \"colorscale\": [[0.0, \"#0d0887\"], [0.1111111111111111, \"#46039f\"], [0.2222222222222222, \"#7201a8\"], [0.3333333333333333, \"#9c179e\"], [0.4444444444444444, \"#bd3786\"], [0.5555555555555556, \"#d8576b\"], [0.6666666666666666, \"#ed7953\"], [0.7777777777777778, \"#fb9f3a\"], [0.8888888888888888, \"#fdca26\"], [1.0, \"#f0f921\"]], \"type\": \"contour\"}], \"contourcarpet\": [{\"colorbar\": {\"outlinewidth\": 0, \"ticks\": \"\"}, \"type\": \"contourcarpet\"}], \"heatmap\": [{\"colorbar\": {\"outlinewidth\": 0, \"ticks\": \"\"}, \"colorscale\": [[0.0, \"#0d0887\"], [0.1111111111111111, \"#46039f\"], [0.2222222222222222, \"#7201a8\"], [0.3333333333333333, \"#9c179e\"], [0.4444444444444444, \"#bd3786\"], [0.5555555555555556, \"#d8576b\"], [0.6666666666666666, \"#ed7953\"], [0.7777777777777778, \"#fb9f3a\"], [0.8888888888888888, \"#fdca26\"], [1.0, \"#f0f921\"]], \"type\": \"heatmap\"}], \"heatmapgl\": [{\"colorbar\": {\"outlinewidth\": 0, \"ticks\": \"\"}, \"colorscale\": [[0.0, \"#0d0887\"], [0.1111111111111111, \"#46039f\"], [0.2222222222222222, \"#7201a8\"], [0.3333333333333333, \"#9c179e\"], [0.4444444444444444, \"#bd3786\"], [0.5555555555555556, \"#d8576b\"], [0.6666666666666666, \"#ed7953\"], [0.7777777777777778, \"#fb9f3a\"], [0.8888888888888888, \"#fdca26\"], [1.0, \"#f0f921\"]], \"type\": \"heatmapgl\"}], \"histogram\": [{\"marker\": {\"colorbar\": {\"outlinewidth\": 0, \"ticks\": \"\"}}, \"type\": \"histogram\"}], \"histogram2d\": [{\"colorbar\": {\"outlinewidth\": 0, \"ticks\": \"\"}, \"colorscale\": [[0.0, \"#0d0887\"], [0.1111111111111111, \"#46039f\"], [0.2222222222222222, \"#7201a8\"], [0.3333333333333333, \"#9c179e\"], [0.4444444444444444, \"#bd3786\"], [0.5555555555555556, \"#d8576b\"], [0.6666666666666666, \"#ed7953\"], [0.7777777777777778, \"#fb9f3a\"], [0.8888888888888888, \"#fdca26\"], [1.0, \"#f0f921\"]], \"type\": \"histogram2d\"}], \"histogram2dcontour\": [{\"colorbar\": {\"outlinewidth\": 0, \"ticks\": \"\"}, \"colorscale\": [[0.0, \"#0d0887\"], [0.1111111111111111, \"#46039f\"], [0.2222222222222222, \"#7201a8\"], [0.3333333333333333, \"#9c179e\"], [0.4444444444444444, \"#bd3786\"], [0.5555555555555556, \"#d8576b\"], [0.6666666666666666, \"#ed7953\"], [0.7777777777777778, \"#fb9f3a\"], [0.8888888888888888, \"#fdca26\"], [1.0, \"#f0f921\"]], \"type\": \"histogram2dcontour\"}], \"mesh3d\": [{\"colorbar\": {\"outlinewidth\": 0, \"ticks\": \"\"}, \"type\": \"mesh3d\"}], \"parcoords\": [{\"line\": {\"colorbar\": {\"outlinewidth\": 0, \"ticks\": \"\"}}, \"type\": \"parcoords\"}], \"pie\": [{\"automargin\": true, \"type\": \"pie\"}], \"scatter\": [{\"marker\": {\"colorbar\": {\"outlinewidth\": 0, \"ticks\": \"\"}}, \"type\": \"scatter\"}], \"scatter3d\": [{\"line\": {\"colorbar\": {\"outlinewidth\": 0, \"ticks\": \"\"}}, \"marker\": {\"colorbar\": {\"outlinewidth\": 0, \"ticks\": \"\"}}, \"type\": \"scatter3d\"}], \"scattercarpet\": [{\"marker\": {\"colorbar\": {\"outlinewidth\": 0, \"ticks\": \"\"}}, \"type\": \"scattercarpet\"}], \"scattergeo\": [{\"marker\": {\"colorbar\": {\"outlinewidth\": 0, \"ticks\": \"\"}}, \"type\": \"scattergeo\"}], \"scattergl\": [{\"marker\": {\"colorbar\": {\"outlinewidth\": 0, \"ticks\": \"\"}}, \"type\": \"scattergl\"}], \"scattermapbox\": [{\"marker\": {\"colorbar\": {\"outlinewidth\": 0, \"ticks\": \"\"}}, \"type\": \"scattermapbox\"}], \"scatterpolar\": [{\"marker\": {\"colorbar\": {\"outlinewidth\": 0, \"ticks\": \"\"}}, \"type\": \"scatterpolar\"}], \"scatterpolargl\": [{\"marker\": {\"colorbar\": {\"outlinewidth\": 0, \"ticks\": \"\"}}, \"type\": \"scatterpolargl\"}], \"scatterternary\": [{\"marker\": {\"colorbar\": {\"outlinewidth\": 0, \"ticks\": \"\"}}, \"type\": \"scatterternary\"}], \"surface\": [{\"colorbar\": {\"outlinewidth\": 0, \"ticks\": \"\"}, \"colorscale\": [[0.0, \"#0d0887\"], [0.1111111111111111, \"#46039f\"], [0.2222222222222222, \"#7201a8\"], [0.3333333333333333, \"#9c179e\"], [0.4444444444444444, \"#bd3786\"], [0.5555555555555556, \"#d8576b\"], [0.6666666666666666, \"#ed7953\"], [0.7777777777777778, \"#fb9f3a\"], [0.8888888888888888, \"#fdca26\"], [1.0, \"#f0f921\"]], \"type\": \"surface\"}], \"table\": [{\"cells\": {\"fill\": {\"color\": \"#EBF0F8\"}, \"line\": {\"color\": \"white\"}}, \"header\": {\"fill\": {\"color\": \"#C8D4E3\"}, \"line\": {\"color\": \"white\"}}, \"type\": \"table\"}]}, \"layout\": {\"annotationdefaults\": {\"arrowcolor\": \"#2a3f5f\", \"arrowhead\": 0, \"arrowwidth\": 1}, \"coloraxis\": {\"colorbar\": {\"outlinewidth\": 0, \"ticks\": \"\"}}, \"colorscale\": {\"diverging\": [[0, \"#8e0152\"], [0.1, \"#c51b7d\"], [0.2, \"#de77ae\"], [0.3, \"#f1b6da\"], [0.4, \"#fde0ef\"], [0.5, \"#f7f7f7\"], [0.6, \"#e6f5d0\"], [0.7, \"#b8e186\"], [0.8, \"#7fbc41\"], [0.9, \"#4d9221\"], [1, \"#276419\"]], \"sequential\": [[0.0, \"#0d0887\"], [0.1111111111111111, \"#46039f\"], [0.2222222222222222, \"#7201a8\"], [0.3333333333333333, \"#9c179e\"], [0.4444444444444444, \"#bd3786\"], [0.5555555555555556, \"#d8576b\"], [0.6666666666666666, \"#ed7953\"], [0.7777777777777778, \"#fb9f3a\"], [0.8888888888888888, \"#fdca26\"], [1.0, \"#f0f921\"]], \"sequentialminus\": [[0.0, \"#0d0887\"], [0.1111111111111111, \"#46039f\"], [0.2222222222222222, \"#7201a8\"], [0.3333333333333333, \"#9c179e\"], [0.4444444444444444, \"#bd3786\"], [0.5555555555555556, \"#d8576b\"], [0.6666666666666666, \"#ed7953\"], [0.7777777777777778, \"#fb9f3a\"], [0.8888888888888888, \"#fdca26\"], [1.0, \"#f0f921\"]]}, \"colorway\": [\"#636efa\", \"#EF553B\", \"#00cc96\", \"#ab63fa\", \"#FFA15A\", \"#19d3f3\", \"#FF6692\", \"#B6E880\", \"#FF97FF\", \"#FECB52\"], \"font\": {\"color\": \"#2a3f5f\"}, \"geo\": {\"bgcolor\": \"white\", \"lakecolor\": \"white\", \"landcolor\": \"#E5ECF6\", \"showlakes\": true, \"showland\": true, \"subunitcolor\": \"white\"}, \"hoverlabel\": {\"align\": \"left\"}, \"hovermode\": \"closest\", \"mapbox\": {\"style\": \"light\"}, \"paper_bgcolor\": \"white\", \"plot_bgcolor\": \"#E5ECF6\", \"polar\": {\"angularaxis\": {\"gridcolor\": \"white\", \"linecolor\": \"white\", \"ticks\": \"\"}, \"bgcolor\": \"#E5ECF6\", \"radialaxis\": {\"gridcolor\": \"white\", \"linecolor\": \"white\", \"ticks\": \"\"}}, \"scene\": {\"xaxis\": {\"backgroundcolor\": \"#E5ECF6\", \"gridcolor\": \"white\", \"gridwidth\": 2, \"linecolor\": \"white\", \"showbackground\": true, \"ticks\": \"\", \"zerolinecolor\": \"white\"}, \"yaxis\": {\"backgroundcolor\": \"#E5ECF6\", \"gridcolor\": \"white\", \"gridwidth\": 2, \"linecolor\": \"white\", \"showbackground\": true, \"ticks\": \"\", \"zerolinecolor\": \"white\"}, \"zaxis\": {\"backgroundcolor\": \"#E5ECF6\", \"gridcolor\": \"white\", \"gridwidth\": 2, \"linecolor\": \"white\", \"showbackground\": true, \"ticks\": \"\", \"zerolinecolor\": \"white\"}}, \"shapedefaults\": {\"line\": {\"color\": \"#2a3f5f\"}}, \"ternary\": {\"aaxis\": {\"gridcolor\": \"white\", \"linecolor\": \"white\", \"ticks\": \"\"}, \"baxis\": {\"gridcolor\": \"white\", \"linecolor\": \"white\", \"ticks\": \"\"}, \"bgcolor\": \"#E5ECF6\", \"caxis\": {\"gridcolor\": \"white\", \"linecolor\": \"white\", \"ticks\": \"\"}}, \"title\": {\"x\": 0.05}, \"xaxis\": {\"automargin\": true, \"gridcolor\": \"white\", \"linecolor\": \"white\", \"ticks\": \"\", \"title\": {\"standoff\": 15}, \"zerolinecolor\": \"white\", \"zerolinewidth\": 2}, \"yaxis\": {\"automargin\": true, \"gridcolor\": \"white\", \"linecolor\": \"white\", \"ticks\": \"\", \"title\": {\"standoff\": 15}, \"zerolinecolor\": \"white\", \"zerolinewidth\": 2}}}},\n",
       "                        {\"responsive\": true}\n",
       "                    ).then(function(){\n",
       "                            \n",
       "var gd = document.getElementById('0dcbf3db-7221-4dfe-8179-0455aa374902');\n",
       "var x = new MutationObserver(function (mutations, observer) {{\n",
       "        var display = window.getComputedStyle(gd).display;\n",
       "        if (!display || display === 'none') {{\n",
       "            console.log([gd, 'removed!']);\n",
       "            Plotly.purge(gd);\n",
       "            observer.disconnect();\n",
       "        }}\n",
       "}});\n",
       "\n",
       "// Listen for the removal of the full notebook cells\n",
       "var notebookContainer = gd.closest('#notebook-container');\n",
       "if (notebookContainer) {{\n",
       "    x.observe(notebookContainer, {childList: true});\n",
       "}}\n",
       "\n",
       "// Listen for the clearing of the current output cell\n",
       "var outputEl = gd.closest('.output');\n",
       "if (outputEl) {{\n",
       "    x.observe(outputEl, {childList: true});\n",
       "}}\n",
       "\n",
       "                        })\n",
       "                };\n",
       "                });\n",
       "            </script>\n",
       "        </div>"
      ]
     },
     "metadata": {},
     "output_type": "display_data"
    }
   ],
   "source": [
    "Exp.Log()"
   ]
  },
  {
   "cell_type": "markdown",
   "metadata": {},
   "source": [
    "# Talking Points for 8/7/2020\n",
    "\n",
    "# Explore the design implications of desired features\n",
    "\n",
    "## <span style=\"color:blue\"> 1) Two-plane use (sagittal [bike plane] and transverse [floor plane, if standing up]) </span>\n",
    "* ### this means that the drive axes will have to rotate 90 it stand up use is desired.\n",
    "* ### Support for being stepped on when operating in the transverse plane. Can have a “backer” to allow this.  \n",
    "\n",
    "## <span style=\"color:blue\">2) Workspace of 1 m (anteroposterior direction) and 0.75 m (axial leg direction, or lateral direction if tipped on its side) </span> \n",
    "* ### our default design meets these requirements, simply by having long segment lengths\n",
    "\n",
    "## <span style=\"color:blue\">3) the same machine is useful for right leg and left leg (in the sagittal plane)</span> \n",
    "* ### accomplishing this may be easiest using methods of symmetry. \n",
    "    * either rotate the robot 180 degrees (as shown in CAD model)\n",
    "    * or mount the person on the other side of the robot (this could induce workspace issues due to collisions)\n",
    "* ### difficulty of co-axial design? \n",
    "\n",
    "## <span style=\"color:blue\"> 4) the machine may be used standing up in the sagittal plane, as well as seated, possibly with weight support</span>\n",
    "\n",
    "\n",
    "## <span style=\"color:blue\">5) force and velocity requirements</span>\n",
    "\n",
    "* ### Strength to survive full-human-strength leg extension force. \n",
    "    * see singularity \n",
    "* ### Does not have to Control full-strength force or support it in all positions. Just has to survive!  \n",
    "* ### Probably exploit a kinematic singularity (full robot link extension) for this capability.  \n",
    "* ### Movement speed: 1.5 to 3.0 m/s will be adequate.  \n",
    "* ### Strength of controlled forces: 11% of leg extension strength (300 N) \n",
    "\n"
   ]
  },
  {
   "cell_type": "markdown",
   "metadata": {},
   "source": [
    "# Singularity argument"
   ]
  },
  {
   "cell_type": "code",
   "execution_count": 1,
   "metadata": {},
   "outputs": [
    {
     "ename": "NameError",
     "evalue": "name 'Exp' is not defined",
     "output_type": "error",
     "traceback": [
      "\u001b[1;31m---------------------------------------------------------------------------\u001b[0m",
      "\u001b[1;31mNameError\u001b[0m                                 Traceback (most recent call last)",
      "\u001b[1;32m<ipython-input-1-16f142bf84c8>\u001b[0m in \u001b[0;36m<module>\u001b[1;34m\u001b[0m\n\u001b[1;32m----> 1\u001b[1;33m \u001b[0mhkRobot\u001b[0m \u001b[1;33m=\u001b[0m \u001b[0mExp\u001b[0m\u001b[1;33m(\u001b[0m\u001b[1;33m)\u001b[0m       \u001b[1;31m#init robot\u001b[0m\u001b[1;33m\u001b[0m\u001b[1;33m\u001b[0m\u001b[0m\n\u001b[0m\u001b[0;32m      2\u001b[0m \u001b[1;31m#hand tune robot configuration\u001b[0m\u001b[1;33m\u001b[0m\u001b[1;33m\u001b[0m\u001b[1;33m\u001b[0m\u001b[0m\n\u001b[0;32m      3\u001b[0m \u001b[0mhkRobot\u001b[0m\u001b[1;33m.\u001b[0m\u001b[0mr\u001b[0m\u001b[1;33m.\u001b[0m\u001b[0mxl\u001b[0m \u001b[1;33m=\u001b[0m \u001b[1;36m0\u001b[0m\u001b[1;33m\u001b[0m\u001b[1;33m\u001b[0m\u001b[0m\n\u001b[0;32m      4\u001b[0m \u001b[0mhkRobot\u001b[0m\u001b[1;33m.\u001b[0m\u001b[0mr\u001b[0m\u001b[1;33m.\u001b[0m\u001b[0myl\u001b[0m \u001b[1;33m=\u001b[0m \u001b[1;36m0\u001b[0m\u001b[1;33m\u001b[0m\u001b[1;33m\u001b[0m\u001b[0m\n\u001b[0;32m      5\u001b[0m \u001b[0mhkRobot\u001b[0m\u001b[1;33m.\u001b[0m\u001b[0mr\u001b[0m\u001b[1;33m.\u001b[0m\u001b[0mxr\u001b[0m \u001b[1;33m=\u001b[0m \u001b[1;36m0\u001b[0m\u001b[1;33m\u001b[0m\u001b[1;33m\u001b[0m\u001b[0m\n",
      "\u001b[1;31mNameError\u001b[0m: name 'Exp' is not defined"
     ]
    }
   ],
   "source": [
    "hkRobot = Exp()       #init robot\n",
    "#hand tune robot configuration\n",
    "hkRobot.r.xl = 0\n",
    "hkRobot.r.yl = 0\n",
    "hkRobot.r.xr = 0\n",
    "hkRobot.r.yr = 0 \n",
    "\n",
    "hkRobot.r.L1l = .4 \n",
    "hkRobot.r.L2l = .1 \n",
    "hkRobot.r.L3l = .288\n",
    "hkRobot.r.L1r = .1\n",
    "hkRobot.r.L2r = .4\n",
    "hkRobot.r.θ3l = 0\n",
    "\n",
    "hkRobot.r.e3  = 'down'\n",
    "\n",
    "#configure xBest to be this\n",
    "hkRobot.xBest = [hkRobot.r.get_x()]\n",
    "hkRobot.initialize()\n",
    "hkRobot.vis.display()\n"
   ]
  },
  {
   "cell_type": "markdown",
   "metadata": {},
   "source": [
    "# Experiments with inverse kinematic workspaces\n",
    "\n",
    "## side by side"
   ]
  },
  {
   "cell_type": "code",
   "execution_count": 2,
   "metadata": {},
   "outputs": [],
   "source": [
    "# R = Gen5barlinkage()\n",
    "\n",
    "# #setup contour plot for condition number \n",
    "# #colorscale = [[0, 'green'],[.2,'royalblue'],[1, 'blue']]\n",
    "# colorscale = [[0, 'green'],[1, 'blue']]\n",
    "# X,Y,Z = R.condGrid()\n",
    "# _fig = go.Figure(data = go.Contour(z=Z,x=X,y=Y,colorscale=colorscale,contours_coloring='heatmap'))\n",
    "# Rfig = go.FigureWidget(_fig)\n",
    "# #Rfig = go.FigureWidget()\n",
    "\n",
    "# #configure layout of graph\n",
    "# Rfig.update_xaxes(range=[-1,1])\n",
    "# Rfig.update_yaxes(range=[-1,1])\n",
    "\n",
    "# side = 800\n",
    "# Rfig.update_layout(\n",
    "#     autosize=False,\n",
    "#     width=side + 100,\n",
    "#     height=side,\n",
    "#     legend=dict(x=.025, y=.975),\n",
    "#     margin=dict(l=80, r=80, t=0, b=80))\n",
    "\n",
    "\n",
    "# #add condition number annotation\n",
    "# Rfig.add_annotation(\n",
    "#         x=-.78,\n",
    "#         y=.6,\n",
    "#         xref=\"x\",\n",
    "#         yref=\"y\",\n",
    "#         text=\"\",\n",
    "#         font=dict(\n",
    "#             family=\"Courier New, monospace\",\n",
    "#             size=16,\n",
    "#             color=\"#ffffff\"\n",
    "#             ),\n",
    "#         align=\"center\",\n",
    "#         ax=0,\n",
    "#         ay=0,\n",
    "#         bordercolor=\"#c7c7c7\",\n",
    "#         borderwidth=2,\n",
    "#         borderpad=4,\n",
    "#         bgcolor=\"#ff7f0e\",\n",
    "#         opacity=0.8\n",
    "#         )\n",
    "\n",
    "# #initialize all plots present in visualization\n",
    "# Rfig.add_scatter(line=dict(color='gray'), name = \"left\")\n",
    "# Rfig.add_scatter(line=dict(color='red'), name = \"right\")\n",
    "# Rfig.add_scatter(mode='markers', marker=dict(size=12,color=\"black\"), name = \"End Effector\")\n",
    "# Rfig.add_scatter(line=dict(dash='dash',color='gray'), name = \"RRR boundry\")\n",
    "# Rfig.add_scatter(line=dict(dash='dash',color='red'), name = \"RR boundry\")\n",
    "# Rfig.add_scatter(fill='tozeroy',fillcolor='rgba(225, 0, 0, .2)',mode= 'none'  ,name=\"robot forceSpace\")\n",
    "\n",
    "\n",
    "\n",
    "# #setup UI\n",
    "# layout=Layout(width='500px', height='20px')\n",
    "# layout1=Layout(width='200px', height='30px')\n",
    "# layout2=Layout(width='350px', height='30px')\n",
    "# lmin = .1 ; lmax = .75; lval = .25\n",
    "# rng = 1; step = .001\n",
    "# N = 0\n",
    "\n",
    "\n",
    "# #modes\n",
    "# ef     = Dropdown(options=[\"up\",\"down\"],value=\"up\",description='ef',layout=layout1)\n",
    "# e3     = Dropdown(options=[\"up\",\"down\"],value=\"up\",description='e3',layout=layout1)\n",
    "# mode   = Dropdown(options=[\"None\",\"boundry\",\"cond\"],value=\"None\",description='Mode',layout=layout1)\n",
    "# drive  = Dropdown(options=[\"xy\",\"θ\"],value=\"xy\",description='drive',layout=layout1)\n",
    "# fsView = Checkbox(value=False,description=\"fsView\",dindent=False,layout=layout1)\n",
    "\n",
    "\n",
    "# #params\n",
    "# L1l = FloatSlider(min=lmin,max=lmax,step=step,value=lval,description='L1_l', layout=layout2)\n",
    "# L2l = FloatSlider(min=lmin,max=lmax,step=step,value=lval,description='L2_l', layout=layout2)\n",
    "# L3l = FloatSlider(min=0   ,max=lmax,step=step,value=lval,description='L3_l', layout=layout2)\n",
    "\n",
    "# L1r = FloatSlider(min=lmin,max=lmax,step=step,value=lval,description='L1_r', layout=layout2)\n",
    "# L2r = FloatSlider(min=lmin,max=lmax,step=step,value=lval,description='L2_r', layout=layout2)\n",
    "# θ3l = FloatSlider(min=-np.pi,max=np.pi,step=step,value=lval,description='θ3_l', layout=layout2)\n",
    "\n",
    "# xl = FloatSlider(min=-rng,max=rng,step=step,value=.0,description='x_l', layout=layout)\n",
    "# xr = FloatSlider(min=-rng,max=rng,step=step,value=.5,description='x_r', layout=layout)\n",
    "\n",
    "# yl = FloatSlider(min=-rng,max=rng,step=step,value=.0,description='y_l', layout=layout)\n",
    "# yr = FloatSlider(min=-rng,max=rng,step=step,value=.0,description='y_r', layout=layout)\n",
    "\n",
    "# #drivers\n",
    "# θ1l = FloatSlider(min=-np.pi,max=np.pi,step=step,value=.0,description='θ1_l', layout=layout)\n",
    "# xee = FloatSlider(min=-rng,max=rng,step=step,value=.5,description='xee', layout=layout)\n",
    "\n",
    "# θ1r = FloatSlider(min=-np.pi,max=np.pi,step=step,value=.0,description='θ1_r', layout=layout)\n",
    "# yee = FloatSlider(min=-rng,max=rng,step=step,value=.5,description='yee', layout=layout)\n",
    "\n",
    "# #assemble UI\n",
    "# row1 = widgets.HBox([ef,e3,mode,drive,fsView])\n",
    "# row2 = widgets.HBox([L1l,L2l,L3l])\n",
    "# row3 = widgets.HBox([L1r,L2r,θ3l])\n",
    "# row4 = widgets.HBox([xl,xr])\n",
    "# row5 = widgets.HBox([yl,yr])\n",
    "# row6 = widgets.HBox([θ1l,xee])\n",
    "# row7 = widgets.HBox([θ1r,yee])\n",
    "\n",
    "# ui = widgets.VBox([row1,row2,row3,row4,row5,row6,row7])\n",
    "\n",
    "\n",
    "# #setup update function\n",
    "# wdict = {\"ef\":ef,\"e3\":e3,\"mode\":mode,\"drive\":drive,\"fsView\":fsView,\n",
    "#          \"L1l\":L1l,\"L2l\":L2l,\"L3l\":L3l,\n",
    "#          \"L1r\":L1r,\"L2r\":L2r,\"θ3l\":θ3l,\n",
    "#          \"xl\":xl,\"xr\":xr,\n",
    "#          \"yl\":yl,\"yr\":yr,\n",
    "#          \"_θ1l\":θ1l,\"_xee\":xee,\n",
    "#          \"_θ1r\":θ1r,\"_yee\":yee}\n",
    "\n",
    "\n",
    "# def update(ef=\"up\",e3=\"up\",mode=\"None\",drive=\"xy\",fsView=False,\n",
    "#            L1l=1,L2l=1,L3l=1,\n",
    "#            L1r=1,L2r=1,θ3l=1,\n",
    "#            xl=0,xr=1,\n",
    "#            yl=0,yr=1,\n",
    "#            _θ1l=1,_xee=1,    #use _ so we have access to the slider objects\n",
    "#            _θ1r=1,_yee=1):\n",
    "\n",
    "#     with Rfig.batch_update():\n",
    "\n",
    "#         #update parameters\n",
    "#         R.ef = ef ; R.e3 = e3\n",
    "#         R.L1l = L1l ; R.L2l=L2l ; R.L3l = L3l\n",
    "#         R.L1r = L1r ; R.L2r=L2r ; R.θ3l = θ3l\n",
    "#         R.xl = xl ; R.xr = xr\n",
    "#         R.yl = yl ; R.yr = yr\n",
    "\n",
    "#         #calculate the robot's configuration\n",
    "#         if drive == \"xy\":\n",
    "#             _θ1l,_θ2l,_θ3l,_θ1r,_θ2r = R.IK5bl(_xee,_yee)\n",
    "#             left,right = R.FKplot5bl(_θ1l,_θ2l,_θ3l,_θ1r,_θ2r)\n",
    "\n",
    "#             #keep θ's up to date for solving numberical IK\n",
    "#             if utils.noNans(_θ1l,_θ1r):\n",
    "#                 global θ1l ; global θ1r\n",
    "#                 θ1l.value = utils.ROC(_θ1l); θ1r.value = utils.ROC(_θ1r)\n",
    "\n",
    "#         if drive == \"θ\":\n",
    "#             _θ1l,_θ2l,_θ3l,_θ1r,_θ2r = R.θdrivenKinematics5bl(_θ1l,_θ1r)\n",
    "#             left,right = R.FKplot5bl(_θ1l,_θ2l,_θ3l,_θ1r,_θ2r)\n",
    "\n",
    "#         #draw the robot (if solution exists)\n",
    "#         Rfig.data[1]['x'] = left[0]\n",
    "#         Rfig.data[1]['y'] = left[1]\n",
    "\n",
    "#         Rfig.data[2]['x'] = right[0]\n",
    "#         Rfig.data[2]['y'] = right[1]  \n",
    "\n",
    "#         #plot a dot at the end effector location\n",
    "#         Rfig.data[3]['x'] = [_xee]\n",
    "#         Rfig.data[3]['y'] = [_yee]\n",
    "\n",
    "#         #annotate the condition number of the current configuration\n",
    "#         invCond = 1/np.linalg.cond(R.J_invT(_xee,_yee))\n",
    "#         Rfig.layout['annotations'][0]['text'] = \"InvCond=\" + str(round(invCond,3))\n",
    "\n",
    "#         #draw the force space \n",
    "#         if fsView:\n",
    "#             scale = .0005\n",
    "#             xs,ys = R.FSplot(_xee,_yee,scale)\n",
    "#             Rfig.data[6]['x'] = xs + _xee\n",
    "#             Rfig.data[6]['y'] = ys + _yee\n",
    "\n",
    "#         else:\n",
    "#             Rfig.data[6]['x'] = []\n",
    "#             Rfig.data[6]['y'] = []\n",
    "\n",
    "\n",
    "#         #draw the reachable boundry\n",
    "#         if mode == \"boundry\" or mode == \"cond\":\n",
    "#             ls,rs = R.bounds()\n",
    "#             Rfig.data[4]['x'] = ls[0]\n",
    "#             Rfig.data[4]['y'] = ls[1]\n",
    "\n",
    "#             Rfig.data[5]['x'] = rs[0]\n",
    "#             Rfig.data[5]['y'] = rs[1]\n",
    "\n",
    "\n",
    "#         #draw a contour plot of the reciprical condition number \n",
    "#         if mode == \"cond\":\n",
    "#             X,Y,Z = R.condGrid()\n",
    "#             Rfig.data[0]['x'] = X\n",
    "#             Rfig.data[0]['y'] = Y\n",
    "#             Rfig.data[0]['z'] = Z  \n",
    "\n",
    "#         #clean up \n",
    "#         if mode == \"None\":\n",
    "#             #clean up contour plot (this nukes R state)\n",
    "#             X,Y,Z = R.condGrid(clean=True)\n",
    "#             Rfig.data[0]['x'] = X\n",
    "#             Rfig.data[0]['y'] = Y\n",
    "#             Rfig.data[0]['z'] = Z\n",
    "\n",
    "#             #clean up boundry\n",
    "#             Rfig.data[4]['x'] = []\n",
    "#             Rfig.data[4]['y'] = []\n",
    "\n",
    "#             Rfig.data[5]['x'] = []\n",
    "#             Rfig.data[5]['y'] = []\n",
    "\n",
    "#         #reset R state properly\n",
    "#         R.IK5bl(_xee,_yee)\n",
    "\n",
    "\n",
    "\n",
    "# #display interactive figure\n",
    "# out = widgets.interactive_output(update, wdict)\n",
    "# display(ui)\n",
    "# display(Rfig)\n",
    "\n",
    "\n",
    "# ## setup the robot in the configuration in questions\n",
    "\n",
    "# # # #modes\n",
    "# ef.value = \"up\"\n",
    "# e3.value = \"down\"\n",
    "\n",
    "# #params\n",
    "# L1l.value = .25\n",
    "# L2l.value = .25\n",
    "# L3l.value = .37\n",
    "\n",
    "# L1r.value = .25\n",
    "# L2r.value = .25\n",
    "# θ3l.value = -.34\n",
    "\n",
    "# xl.value =  .14\n",
    "# xr.value = -.02\n",
    "\n",
    "# yl.value = 0.0\n",
    "# yr.value = 0.0\n",
    "\n",
    "\n"
   ]
  },
  {
   "cell_type": "markdown",
   "metadata": {},
   "source": [
    "## top and bottom"
   ]
  },
  {
   "cell_type": "markdown",
   "metadata": {},
   "source": [
    "Megh, run the cell below this, then change the \"mode\" to Cond to view a contour plot of the condition number. "
   ]
  },
  {
   "cell_type": "code",
   "execution_count": 8,
   "metadata": {},
   "outputs": [
    {
     "name": "stdout",
     "output_type": "stream",
     "text": [
      "models run as library\n",
      "optimizers run as library\n"
     ]
    },
    {
     "data": {
      "application/vnd.jupyter.widget-view+json": {
       "model_id": "1248f2cb666247f59c76cfae1bb58091",
       "version_major": 2,
       "version_minor": 0
      },
      "text/plain": [
       "VBox(children=(HBox(children=(Dropdown(description='ef', layout=Layout(height='30px', width='200px'), options=…"
      ]
     },
     "metadata": {},
     "output_type": "display_data"
    },
    {
     "data": {
      "application/vnd.jupyter.widget-view+json": {
       "model_id": "293136bce1e1465db40f70729aa6f5f5",
       "version_major": 2,
       "version_minor": 0
      },
      "text/plain": [
       "FigureWidget({\n",
       "    'data': [{'colorscale': [[0, 'green'], [1, 'blue']],\n",
       "              'contours': {'coloring':…"
      ]
     },
     "metadata": {},
     "output_type": "display_data"
    }
   ],
   "source": [
    "%run models.ipynb\n",
    "\n",
    "R = Gen5barlinkage()\n",
    "\n",
    "#setup contour plot for condition number \n",
    "#colorscale = [[0, 'green'],[.2,'royalblue'],[1, 'blue']]\n",
    "colorscale = [[0, 'green'],[1, 'blue']]\n",
    "X,Y,Z = R.condGrid()\n",
    "_fig = go.Figure(data = go.Contour(z=Z,x=X,y=Y,colorscale=colorscale,contours_coloring='heatmap',contours=dict(start=0,end=1),))\n",
    "Rfig = go.FigureWidget(_fig)\n",
    "#Rfig = go.FigureWidget()\n",
    "\n",
    "#configure layout of graph\n",
    "Rfig.update_xaxes(range=[-1,1])\n",
    "Rfig.update_yaxes(range=[-1,1])\n",
    "\n",
    "side = 800\n",
    "Rfig.update_layout(\n",
    "    autosize=False,\n",
    "    width=side + 100,\n",
    "    height=side,\n",
    "    legend=dict(x=.025, y=.975),\n",
    "    margin=dict(l=80, r=80, t=0, b=80))\n",
    "\n",
    "\n",
    "#add condition number annotation\n",
    "Rfig.add_annotation(\n",
    "        x=-.78,\n",
    "        y=.6,\n",
    "        xref=\"x\",\n",
    "        yref=\"y\",\n",
    "        text=\"\",\n",
    "        font=dict(\n",
    "            family=\"Courier New, monospace\",\n",
    "            size=16,\n",
    "            color=\"#ffffff\"\n",
    "            ),\n",
    "        align=\"center\",\n",
    "        ax=0,\n",
    "        ay=0,\n",
    "        bordercolor=\"#c7c7c7\",\n",
    "        borderwidth=2,\n",
    "        borderpad=4,\n",
    "        bgcolor=\"#ff7f0e\",\n",
    "        opacity=0.8\n",
    "        )\n",
    "\n",
    "#initialize all plots present in visualization\n",
    "Rfig.add_scatter(line=dict(color='gray'), name = \"left\")\n",
    "Rfig.add_scatter(line=dict(color='red'), name = \"right\")\n",
    "Rfig.add_scatter(mode='markers', marker=dict(size=12,color=\"black\"), name = \"End Effector\")\n",
    "Rfig.add_scatter(line=dict(dash='dash',color='gray'), name = \"RRR boundry\")\n",
    "Rfig.add_scatter(line=dict(dash='dash',color='red'), name = \"RR boundry\")\n",
    "Rfig.add_scatter(fill='tozeroy',fillcolor='rgba(225, 0, 0, .2)',mode= 'none'  ,name=\"robot forceSpace\")\n",
    "\n",
    "\n",
    "\n",
    "#setup UI\n",
    "layout=Layout(width='500px', height='20px')\n",
    "layout1=Layout(width='200px', height='30px')\n",
    "layout2=Layout(width='350px', height='30px')\n",
    "lmin = .1 ; lmax = .75; lval = .25\n",
    "rng = 1; step = .001\n",
    "N = 0\n",
    "\n",
    "\n",
    "#modes\n",
    "ef     = Dropdown(options=[\"up\",\"down\"],value=\"up\",description='ef',layout=layout1)\n",
    "e3     = Dropdown(options=[\"up\",\"down\"],value=\"up\",description='e3',layout=layout1)\n",
    "mode   = Dropdown(options=[\"None\",\"boundry\",\"cond\"],value=\"None\",description='Mode',layout=layout1)\n",
    "drive  = Dropdown(options=[\"xy\",\"θ\"],value=\"xy\",description='drive',layout=layout1)\n",
    "fsView = Checkbox(value=False,description=\"fsView\",dindent=False,layout=layout1)\n",
    "\n",
    "\n",
    "#params\n",
    "L1l = FloatSlider(min=lmin,max=lmax,step=step,value=lval,description='L1_l', layout=layout2)\n",
    "L2l = FloatSlider(min=lmin,max=lmax,step=step,value=lval,description='L2_l', layout=layout2)\n",
    "L3l = FloatSlider(min=0   ,max=lmax,step=step,value=lval,description='L3_l', layout=layout2)\n",
    "\n",
    "L1r = FloatSlider(min=lmin,max=lmax,step=step,value=lval,description='L1_r', layout=layout2)\n",
    "L2r = FloatSlider(min=lmin,max=lmax,step=step,value=lval,description='L2_r', layout=layout2)\n",
    "θ3l = FloatSlider(min=-np.pi,max=np.pi,step=step,value=lval,description='θ3_l', layout=layout2)\n",
    "\n",
    "xl = FloatSlider(min=-rng,max=rng,step=step,value=.0,description='x_l', layout=layout)\n",
    "xr = FloatSlider(min=-rng,max=rng,step=step,value=.5,description='x_r', layout=layout)\n",
    "\n",
    "yl = FloatSlider(min=-rng,max=rng,step=step,value=.0,description='y_l', layout=layout)\n",
    "yr = FloatSlider(min=-rng,max=rng,step=step,value=.0,description='y_r', layout=layout)\n",
    "\n",
    "#drivers\n",
    "θ1l = FloatSlider(min=-np.pi,max=np.pi,step=step,value=.0,description='θ1_l', layout=layout)\n",
    "xee = FloatSlider(min=-rng,max=rng,step=step,value=.5,description='xee', layout=layout)\n",
    "\n",
    "θ1r = FloatSlider(min=-np.pi,max=np.pi,step=step,value=.0,description='θ1_r', layout=layout)\n",
    "yee = FloatSlider(min=-rng,max=rng,step=step,value=.5,description='yee', layout=layout)\n",
    "\n",
    "#assemble UI\n",
    "row1 = widgets.HBox([ef,e3,mode,drive,fsView])\n",
    "row2 = widgets.HBox([L1l,L2l,L3l])\n",
    "row3 = widgets.HBox([L1r,L2r,θ3l])\n",
    "row4 = widgets.HBox([xl,xr])\n",
    "row5 = widgets.HBox([yl,yr])\n",
    "row6 = widgets.HBox([θ1l,xee])\n",
    "row7 = widgets.HBox([θ1r,yee])\n",
    "\n",
    "ui = widgets.VBox([row1,row2,row3,row4,row5,row6,row7])\n",
    "\n",
    "\n",
    "#setup update function\n",
    "wdict = {\"ef\":ef,\"e3\":e3,\"mode\":mode,\"drive\":drive,\"fsView\":fsView,\n",
    "         \"L1l\":L1l,\"L2l\":L2l,\"L3l\":L3l,\n",
    "         \"L1r\":L1r,\"L2r\":L2r,\"θ3l\":θ3l,\n",
    "         \"xl\":xl,\"xr\":xr,\n",
    "         \"yl\":yl,\"yr\":yr,\n",
    "         \"_θ1l\":θ1l,\"_xee\":xee,\n",
    "         \"_θ1r\":θ1r,\"_yee\":yee}\n",
    "\n",
    "\n",
    "def update(ef=\"up\",e3=\"up\",mode=\"None\",drive=\"xy\",fsView=False,\n",
    "           L1l=1,L2l=1,L3l=1,\n",
    "           L1r=1,L2r=1,θ3l=1,\n",
    "           xl=0,xr=1,\n",
    "           yl=0,yr=1,\n",
    "           _θ1l=1,_xee=1,    #use _ so we have access to the slider objects\n",
    "           _θ1r=1,_yee=1):\n",
    "\n",
    "    with Rfig.batch_update():\n",
    "\n",
    "        #update parameters\n",
    "        R.ef = ef ; R.e3 = e3\n",
    "        R.L1l = L1l ; R.L2l=L2l ; R.L3l = L3l\n",
    "        R.L1r = L1r ; R.L2r=L2r ; R.θ3l = θ3l\n",
    "        R.xl = xl ; R.xr = xr\n",
    "        R.yl = yl ; R.yr = yr\n",
    "\n",
    "        #calculate the robot's configuration\n",
    "        if drive == \"xy\":\n",
    "            _θ1l,_θ2l,_θ3l,_θ1r,_θ2r = R.IK5bl(_xee,_yee)\n",
    "            left,right = R.FKplot5bl(_θ1l,_θ2l,_θ3l,_θ1r,_θ2r)\n",
    "\n",
    "            #keep θ's up to date for solving numberical IK\n",
    "            if utils.noNans(_θ1l,_θ1r):\n",
    "                global θ1l ; global θ1r\n",
    "                θ1l.value = utils.ROC(_θ1l); θ1r.value = utils.ROC(_θ1r)\n",
    "\n",
    "        if drive == \"θ\":\n",
    "            _θ1l,_θ2l,_θ3l,_θ1r,_θ2r = R.θdrivenKinematics5bl(_θ1l,_θ1r)\n",
    "            left,right = R.FKplot5bl(_θ1l,_θ2l,_θ3l,_θ1r,_θ2r)\n",
    "\n",
    "        #draw the robot (if solution exists)\n",
    "        Rfig.data[1]['x'] = left[0]\n",
    "        Rfig.data[1]['y'] = left[1]\n",
    "\n",
    "        Rfig.data[2]['x'] = right[0]\n",
    "        Rfig.data[2]['y'] = right[1]  \n",
    "\n",
    "        #plot a dot at the end effector location\n",
    "        Rfig.data[3]['x'] = [_xee]\n",
    "        Rfig.data[3]['y'] = [_yee]\n",
    "\n",
    "        #annotate the condition number of the current configuration\n",
    "        invCond = 1/np.linalg.cond(R.J_invT(_xee,_yee))\n",
    "        Rfig.layout['annotations'][0]['text'] = \"InvCond=\" + str(round(invCond,3))\n",
    "\n",
    "        #draw the force space \n",
    "        if fsView:\n",
    "            scale = .0005\n",
    "            xs,ys = R.FSplot(_xee,_yee,scale)\n",
    "            Rfig.data[6]['x'] = xs + _xee\n",
    "            Rfig.data[6]['y'] = ys + _yee\n",
    "\n",
    "        else:\n",
    "            Rfig.data[6]['x'] = []\n",
    "            Rfig.data[6]['y'] = []\n",
    "\n",
    "\n",
    "        #draw the reachable boundry\n",
    "        if mode == \"boundry\" or mode == \"cond\":\n",
    "            ls,rs = R.bounds()\n",
    "            Rfig.data[4]['x'] = ls[0]\n",
    "            Rfig.data[4]['y'] = ls[1]\n",
    "\n",
    "            Rfig.data[5]['x'] = rs[0]\n",
    "            Rfig.data[5]['y'] = rs[1]\n",
    "\n",
    "\n",
    "        #draw a contour plot of the reciprical condition number \n",
    "        if mode == \"cond\":\n",
    "            X,Y,Z = R.condGrid()\n",
    "            Rfig.data[0]['x'] = X\n",
    "            Rfig.data[0]['y'] = Y\n",
    "            Rfig.data[0]['z'] = Z  \n",
    "\n",
    "        #clean up \n",
    "        if mode == \"None\":\n",
    "            #clean up contour plot (this nukes R state)\n",
    "            X,Y,Z = R.condGrid(clean=True)\n",
    "            Rfig.data[0]['x'] = X\n",
    "            Rfig.data[0]['y'] = Y\n",
    "            Rfig.data[0]['z'] = Z\n",
    "\n",
    "            #clean up boundry\n",
    "            Rfig.data[4]['x'] = []\n",
    "            Rfig.data[4]['y'] = []\n",
    "\n",
    "            Rfig.data[5]['x'] = []\n",
    "            Rfig.data[5]['y'] = []\n",
    "\n",
    "        #reset R state properly\n",
    "        R.IK5bl(_xee,_yee)\n",
    "\n",
    "\n",
    "\n",
    "#display interactive figure\n",
    "out = widgets.interactive_output(update, wdict)\n",
    "display(ui)\n",
    "display(Rfig)\n",
    "\n",
    "\n",
    "## setup the robot in the configuration in questions\n",
    "\n",
    "\n",
    "# #design 1\n",
    "# ef.value = \"down\"\n",
    "# e3.value = \"up\"\n",
    "\n",
    "# #params\n",
    "# L1l.value = .45\n",
    "# L2l.value = .29\n",
    "# L3l.value = .38\n",
    "\n",
    "# L1r.value = .26\n",
    "# L2r.value = .39\n",
    "# θ3l.value = 0\n",
    "\n",
    "# xl.value =  0\n",
    "# xr.value =  0\n",
    "\n",
    "# yl.value = -.05\n",
    "# yr.value = -.23\n",
    "\n",
    "\n",
    "#design 2\n",
    "# #modes\n",
    "# ef.value = \"up\"\n",
    "# e3.value = \"down\"\n",
    "\n",
    "# # #params\n",
    "# L1l.value = .45\n",
    "# L2l.value = .28\n",
    "# L3l.value = .38\n",
    "\n",
    "# L1r.value = .26\n",
    "# L2r.value = .40\n",
    "# θ3l.value =  0\n",
    "\n",
    "# xl.value = 0\n",
    "# xr.value = 0\n",
    "\n",
    "# yl.value = -.23\n",
    "# yr.value = -.07\n",
    "\n",
    "#design 3 - incorporating the 20cm between axel distance\n",
    "# #modes\n",
    "ef.value = \"up\"\n",
    "e3.value = \"down\"\n",
    "\n",
    "sf = 1\n",
    "# #params\n",
    "L1l.value = .48\n",
    "L2l.value = .28 * sf\n",
    "L3l.value = .38 * sf\n",
    "\n",
    "L1r.value = .28 * sf\n",
    "L2r.value = .40 * sf\n",
    "θ3l.value =  0\n",
    "\n",
    "xl.value = 0\n",
    "xr.value = 0\n",
    "\n",
    "yl.value = -.27\n",
    "yr.value = -.055\n",
    "\n",
    "\n",
    "\n",
    "# #drivers\n",
    "# xee.value = FloatSlider(min=-rng,max=rng,step=step,value=.5,description='xee', layout=layout)\n",
    "# yee.value = FloatSlider(min=-rng,max=rng,step=step,value=.5,description='yee', layout=layout)"
   ]
  },
  {
   "cell_type": "code",
   "execution_count": 10,
   "metadata": {},
   "outputs": [
    {
     "data": {
      "text/plain": [
       "-0.5672862679833772"
      ]
     },
     "execution_count": 10,
     "metadata": {},
     "output_type": "execute_result"
    }
   ],
   "source": [
    "np.cos(R.θ2l)"
   ]
  },
  {
   "cell_type": "markdown",
   "metadata": {},
   "source": [
    "fundemental tradeoffs: \n",
    "* overall workspace is set by the size of the 4 proximal links. the last link merely extends area outwards and away from the centers, it doesn't appear to add area to the workspace, and it also serves to stretch the force polytope. \n",
    "* there are 4 domains within the pantograph, when the ground points are placed colinearly. \n",
    "\n"
   ]
  },
  {
   "cell_type": "markdown",
   "metadata": {},
   "source": [
    "# Sizing Actuators\n",
    "* size the actuators based on 30% of the human performance criteria.\n",
    "* weight of the leg shouldn't be factored into the analysis, because the force capacity of the robot is symmetrical, and the human is not, so if the robot is meeting the requirements of the "
   ]
  },
  {
   "cell_type": "code",
   "execution_count": 11,
   "metadata": {},
   "outputs": [
    {
     "data": {
      "application/vnd.jupyter.widget-view+json": {
       "model_id": "d12d28d9537c43298e77dca5b25815d5",
       "version_major": 2,
       "version_minor": 0
      },
      "text/plain": [
       "HBox(children=(FigureWidget({\n",
       "    'data': [{'line': {'color': 'gray'},\n",
       "              'name': 'placeholder',\n",
       "  …"
      ]
     },
     "metadata": {},
     "output_type": "display_data"
    }
   ],
   "source": [
    "hkRobot = Exp()       #init robot\n",
    "#hand tune robot configuration\n",
    "hkRobot.r.xl = 0\n",
    "hkRobot.r.yl = -.23\n",
    "hkRobot.r.xr = 0\n",
    "hkRobot.r.yr = -.07 \n",
    "\n",
    "hkRobot.r.L1l = .45 \n",
    "hkRobot.r.L2l = .28 \n",
    "hkRobot.r.L3l = .38\n",
    "hkRobot.r.L1r = .26\n",
    "hkRobot.r.L2r = .40\n",
    "hkRobot.r.θ3l = 0\n",
    "\n",
    "hkRobot.r.ef = \"up\"\n",
    "hkRobot.r.e3  = \"down\"\n",
    "\n",
    "\n",
    "#configure xBest to be this\n",
    "hkRobot.xBest = [hkRobot.r.get_x()]\n",
    "hkRobot.initialize()\n",
    "hkRobot.vis.display()\n",
    "\n",
    "\n",
    "#change score mode\n",
    "hkRobot.scoreMode = \"inscribed\""
   ]
  },
  {
   "cell_type": "code",
   "execution_count": 4,
   "metadata": {},
   "outputs": [
    {
     "data": {
      "text/plain": [
       "__main__.Gen5barlinkage"
      ]
     },
     "execution_count": 4,
     "metadata": {},
     "output_type": "execute_result"
    }
   ],
   "source": [
    "Gen5barlinkage"
   ]
  }
 ],
 "metadata": {
  "kernelspec": {
   "display_name": "Python 3",
   "language": "python",
   "name": "python3"
  },
  "language_info": {
   "codemirror_mode": {
    "name": "ipython",
    "version": 3
   },
   "file_extension": ".py",
   "mimetype": "text/x-python",
   "name": "python",
   "nbconvert_exporter": "python",
   "pygments_lexer": "ipython3",
   "version": "3.7.9"
  }
 },
 "nbformat": 4,
 "nbformat_minor": 4
}
