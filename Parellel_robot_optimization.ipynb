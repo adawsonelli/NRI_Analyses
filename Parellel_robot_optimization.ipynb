{
 "cells": [
  {
   "cell_type": "markdown",
   "metadata": {},
   "source": [
    "## topics outline\n",
    "\n",
    "# why are 2 interacting RR robots different than a 5barlinkage?\n",
    "# what does the most general 5 bar linkage look like? \n",
    " - go through derivation written up\n",
    " - gen5barlinkage class definition\n",
    " - gen5barlinkage exploration tool\n",
    "# what does the human model look like?\n",
    "- derivation (picture and talking about it)\n",
    "- human class definition\n",
    "- human model exploration tool. \n",
    "# put the two together\n",
    "- joint exploration tool \n",
    "\n",
    "#end of goal for this week. next week, finish up loose ends (there are likely to be many) , and solve the constrained optimization problem. \n",
    "# Solve the constrained optimization problem. \n",
    "\n",
    "\n",
    "\n",
    "#neal notes:\n",
    "\n",
    "speed up code with cython\n",
    "https://jakevdp.github.io/blog/2017/12/11/live-coding-cython-ising-model/?fbclid=IwAR1_KPRJACFUJk6-TYb1DqumE9Cn3hk40QUOl10UCyItL2z4Ft5x_s-Nc60\n",
    "numba, JIT\n",
    "\n",
    "python optimization with pyomo http://egon.cheme.cmu.edu/ewo/docs/EWO_Seminar_03_10_2017.pdf\n"
   ]
  },
  {
   "cell_type": "code",
   "execution_count": 79,
   "metadata": {},
   "outputs": [],
   "source": [
    "# utility functions:\n",
    "\n",
    "class utils:\n",
    "    \"\"\"\n",
    "    utility functions shared between different classes\n",
    "    \"\"\"\n",
    "    @staticmethod\n",
    "    def dist(x1,y1,x2,y2):\n",
    "        \"\"\"\n",
    "        calculate the distance between 2 points\n",
    "        \"\"\"\n",
    "        return ((x2 - x1)**2 + (y2 - y1)**2)**.5\n",
    "    \n",
    "    @staticmethod\n",
    "    def GD(x0,df,params):\n",
    "        \"\"\"\n",
    "        peform gradient decent, given df, a function for calculating the \n",
    "        derivate of the function to be optimized. \n",
    "        \"\"\"\n",
    "        next_x = x0   # We start at x0\n",
    "        gamma = 0.01  # Step size multiplier\n",
    "        precision = 0.0001  # Desired precision of result\n",
    "        max_iters = 10000  # Maximum number of iterations\n",
    "        \n",
    "        for _ in range(max_iters):\n",
    "            current_x = next_x\n",
    "            next_x = current_x - gamma * df(current_x,params)\n",
    "\n",
    "            step = next_x - current_x\n",
    "            if abs(step) <= precision:\n",
    "                break\n",
    "\n",
    "        return next_x\n"
   ]
  },
  {
   "cell_type": "markdown",
   "metadata": {},
   "source": [
    "# what does the most general 5 bar linkage look like? \n",
    "\n"
   ]
  },
  {
   "cell_type": "code",
   "execution_count": null,
   "metadata": {},
   "outputs": [],
   "source": [
    "import numpy as np\n",
    "import ipywidgets as widgets\n",
    "from ipywidgets import interact , Layout , FloatSlider , Checkbox , Dropdown\n",
    "from IPython.display import display\n",
    "from numpy import linalg as LA\n",
    "from shapely.geometry import Polygon\n",
    "\n",
    "class gen5barlinkage:"
   ]
  },
  {
   "cell_type": "markdown",
   "metadata": {},
   "source": [
    "# what does the human model look like?"
   ]
  },
  {
   "cell_type": "code",
   "execution_count": 89,
   "metadata": {},
   "outputs": [
    {
     "data": {
      "application/vnd.jupyter.widget-view+json": {
       "model_id": "b52814e991d74a1aa96359e3dc226d9d",
       "version_major": 2,
       "version_minor": 0
      },
      "text/plain": [
       "FigureWidget({\n",
       "    'data': [{'marker': {'color': array([0.00000000e+00, 8.00640512e-04, 1.60128102e-03, ..., 9…"
      ]
     },
     "metadata": {},
     "output_type": "display_data"
    }
   ],
   "source": [
    "import plotly.graph_objs as go\n",
    "import numpy as np\n",
    "import ipywidgets as widgets\n",
    "from ipywidgets import interact , Layout , FloatSlider , Checkbox , Dropdown\n",
    "from IPython.display import display\n",
    "from numpy import linalg as LA\n",
    "from shapely.geometry import Polygon\n",
    "from scipy.spatial import ConvexHull\n",
    "from scipy.optimize import minimize\n",
    "\n",
    "    \n",
    "##design decision - should I treat Human more functionally - so basically as a static class, but without state, and more of a container for functions, or should I rely heavily \n",
    "#on state caching, which means I have to guarentee order of function calls inorder for things to be up to date. this is the fundemental tradeoff of functional vs stateful approaches. \n",
    "# other design decisions, would sampling happen in cartesian, or in joint space for the optimization? - at least some of that sampling should live in another class that handles the\n",
    "#optimization between the human aand the \n",
    "\n",
    "class JointSpring:\n",
    "    def __init__(self,θo,K,θmin,θmax):\n",
    "        self.θo = θo;\n",
    "        self.K = K;\n",
    "        self.θmin = θmin\n",
    "        self.θmax = θmax\n",
    "        \n",
    "    def PE(self,θ,mode = \"linear\"):\n",
    "        \"\"\"\n",
    "        calculates and return the potential energy of the \n",
    "        spring given the angular displacement θ and the \n",
    "        \"\"\"\n",
    "        if mode == \"linear\":\n",
    "            return .5 * self.K * (θ - self.θo)**2\n",
    "        elif mode == \"quadratic\":\n",
    "            return (1/3) * self.K *(θ - self.θo)**3\n",
    "        elif mode == \"softLimits\":\n",
    "            pass\n",
    "        else:\n",
    "            raise ValueError(\"mode {} not yet implemented\".format(mode))\n",
    "\n",
    "\n",
    "class Human:\n",
    "    def __init__(self):\n",
    "        #segment lengths\n",
    "        self.femur = 1 \n",
    "        self.shank = 1\n",
    "        self.foot = 1\n",
    "        \n",
    "        #joint limits\n",
    "        self.θh_max = np.pi/180 *  90\n",
    "        self.θh_min = np.pi/180 * -45\n",
    "        self.θk_max = np.pi/180 *  0\n",
    "        self.θk_min = np.pi/180 * -120\n",
    "        self.θa_max = np.pi/180 * 90\n",
    "        self.θa_min = np.pi/180 * 10\n",
    "        \n",
    "        #IK joint springs\n",
    "        self.θhSpring = JointSpring(0,.5,self.θh_min,self.θh_max)\n",
    "        self.θkSpring = JointSpring(0,.5,self.θk_min,self.θk_max)\n",
    "        self.θaSpring = JointSpring(0,.5,self.θa_min,self.θa_max)\n",
    "        \n",
    "\n",
    "        \n",
    "    #------------- private functions --------------------    \n",
    "    def _IK_analytical(self,x_e,y_e,ϕ):\n",
    "        \"\"\"\n",
    "        given a midfoot location and an orientation, return the joint angles\n",
    "        by solving the analytical IK with wrist - end effector separation\n",
    "        based on lect5 kinematics - slides 9-10\n",
    "        \"\"\"\n",
    "        #define link lengths\n",
    "        l1=self.femur\n",
    "        l2=self.shank\n",
    "        l3=self.foot/2\n",
    "        \n",
    "        #solve first for the wrist location\n",
    "        x_w = x_e - l3*np.cos(ϕ)\n",
    "        y_w = y_e - l3*np.sin(ϕ)\n",
    "        \n",
    "        #solve for intermediate values\n",
    "        r = utils.dist(0,0,x_w,y_w)\n",
    "        β = np.arccos((l1**2 + l2**2 - r**2) / (2*l1*l2))\n",
    "        γ = np.arccos((r**2 + l1**2 - l2**2) / (2*r*l1))\n",
    "        α = np.arctan2(y_w,x_w)\n",
    "        \n",
    "        #calculate θ's \n",
    "        θ1 = α - γ\n",
    "        θ2 = np.pi - β\n",
    "        θ3 = ϕ - θ1 - θ2\n",
    "        \n",
    "        #calc θ_primes for elbow up config\n",
    "        θ1pm = θ1 + 2*γ  \n",
    "        θ2pm = -θ2                      \n",
    "        θ3pm = θ3 + 2*(θ2 - γ)\n",
    "        \n",
    "        return θ1pm,θ2pm,θ3pm\n",
    "    \n",
    "    \n",
    "    def _IK_energy_fxn(self,θh,θk,θa):\n",
    "        \"\"\"\n",
    "        defines the potential energy landscape\n",
    "        \"\"\"\n",
    "        pe_h = self.θhSpring.PE(θh,mode = \"linear\")\n",
    "        pe_k = self.θaSpring.PE(θk,mode = \"linear\")\n",
    "        pe_a = self.θkSpring.PE(θa,mode = \"linear\")\n",
    "        \n",
    "        return pe_h + pe_k + pe_a\n",
    "    \n",
    "    def _energy_grad(self,ϕ,params):\n",
    "        \"\"\"\n",
    "        calculate the gradient of the energy function using \n",
    "        finite differences for use in gradient decent\n",
    "        \"\"\"\n",
    "        x = params[0] ; y = params[1]\n",
    "        δ = .0001\n",
    "        δm_θh,δm_θhk,δm_θa = self._IK_analytical(x,y,ϕ - δ)\n",
    "        δp_θh,δp_θhk,δp_θa = self._IK_analytical(x,y,ϕ + δ)\n",
    "        \n",
    "        δmPE = self._IK_energy_fxn(δm_θh,δm_θhk,δm_θa)\n",
    "        δpPE = self._IK_energy_fxn(δp_θh,δp_θhk,δp_θa)\n",
    "        \n",
    "        return -(δpPE - δmPE) / 2*δ\n",
    "    \n",
    "    def _IK_scipy_obj_fxn(self,ϕ,x,y):\n",
    "        \"\"\"defines an objective function for scipy.optimize.minimize\"\"\"\n",
    "        θh,θk,θa = self._IK_analytical(x,y,ϕ)\n",
    "        return self._IK_energy_fxn(θh,θk,θa)   \n",
    "    \n",
    "    def IK(self,x,y,method = \"analytical\"):\n",
    "        \"\"\"\n",
    "        given a location x,y of the midfoot, what are the joint angles required to\n",
    "        achieve that position? \n",
    "        \"\"\"\n",
    "        #check that IK can be performed\n",
    "        #don't consider reaching just the foot\n",
    "        if utils.dist(0,0,x,y) > self.femur + self.shank:\n",
    "            return np.nan\n",
    "        \n",
    "        #method == analytical -> 3ms per evaluation...can we do better? \n",
    "        #determine ϕ of least potential energy\n",
    "        if method == \"analytical\":\n",
    "            ϕ_guess = self.θhSpring.θo + self.θkSpring.θo + self.θaSpring.θo\n",
    "            res = minimize(self._IK_scipy_obj_fxn,(ϕ_guess),(x,y), method = 'nelder-mead')\n",
    "            ϕ_min = res.x[0]\n",
    "            θh,θk,θa = self._IK_analytical(x,y,ϕ_min)\n",
    "            return θh,θk,θa\n",
    "#             ϕ_min = utils.GD(ϕ_guess,self._energy_grad,(x,y))\n",
    "#             θh,θk,θa = self._IK_analytical(x,y,ϕ_min)\n",
    "#             return θh,θk,θa\n",
    "        \n",
    "        else:\n",
    "            raise ValueError(\"method {} not yet implemented\".format(method))\n",
    "\n",
    "        #look into faster ways of optimizing this in the future - including a joint optimizatio\n",
    "        #idea - define an energy function with springs, and an analytical \n",
    "            \n",
    "        #method == numerical\n",
    "            #idea - do the same thing as above, but solve the IK, then the energy function back\n",
    "            #and forth\n",
    "        #method == attractor use an attractor method with joint springs, like the one I used for 739 final project\n",
    "        #which is solving the energy function at the same time as the \n",
    "        #method == optimization w/ bounds \n",
    "            #idea: solve with an explicit optimizer (cvxpy) - setup joint limits as constraints, \n",
    "\n",
    "        #return θh,θk,θa\n",
    "    \n",
    "    def _FK(self,θh,θk,θa):\n",
    "        \"\"\"\n",
    "        calculate the forward kinematics of each joint and the contact point\n",
    "        returns: \n",
    "            vectors of x and y coordinates of forward kinematic\n",
    "            [hip,knee,ankle,midfoot,toe]\n",
    "        \"\"\"\n",
    "        #calculate the sines and cosines of successive angles\n",
    "        s_h   = np.sin(θh)        ; c_h   = np.cos(θh)\n",
    "        s_hk  = np.sin(θh+θk)     ; c_hk  = np.cos(θh+θk)\n",
    "        s_hka = np.sin(θh+θk+θa)  ; c_hka = np.cos(θh+θk+θa)\n",
    "        \n",
    "        #perform the forward kinematics \n",
    "        hip     = [0,0]\n",
    "        knee    = [  hip[0] + self.femur*c_h ,      hip[1] + self.femur*s_h]                                     \n",
    "        ankle   = [ knee[0] + self.shank*c_hk ,    knee[1] + self.shank*s_hk]\n",
    "        midfoot = [ankle[0] +(self.foot/2)*c_hka, ankle[1] +(self.foot/2)*s_hka]\n",
    "        toe     = [ankle[0] + self.foot*c_hka,    ankle[1] + self.foot*s_hka]\n",
    "        \n",
    "        #reorganize into vectors\n",
    "        x = [hip[0],knee[0],ankle[0],midfoot[0],toe[0]]\n",
    "        y = [hip[1],knee[1],ankle[1],midfoot[1],toe[1]]\n",
    "        \n",
    "        return (x,y)\n",
    " \n",
    "    \n",
    "    #torque calculation functions (from tables)\n",
    "    def _τh(self,θh,θk):\n",
    "        pass\n",
    "        #develop some sort of spline interpolation fxn in n variables.\n",
    "    \n",
    "    def _τk(self,θh,θk,θa):\n",
    "        pass\n",
    "    \n",
    "    def _τa(self,θk,θa):\n",
    "        pass\n",
    "    \n",
    "    def _τspace(self):\n",
    "        pass\n",
    "        #τh = self.τh(θh,θk) ; τk = self.τh(θh,θk,θa) ; τa = self.τa(θk,θa)\n",
    "    \n",
    "    def _Jac(self,θh,θk,θa):\n",
    "        pass\n",
    "    \n",
    "    def bounds(self,method = \"full sample\"):\n",
    "        \"\"\"\n",
    "        return the bounds in the x,y plane over which the human leg can reach, given\n",
    "        the set of joint limits\n",
    "        \"\"\"\n",
    "        if method == \"full sample\" or method == \"boundry sample\":\n",
    "            #calculate the set of points using sampling methods\n",
    "            nh = 50; nk = 25; \n",
    "            pts = np.zeros((nh*nk + 1,2)); i = 0 #flat list\n",
    "#             for θh in np.linspace(self.θh_min,self.θh_max,nh):\n",
    "#                 for θk in np.linspace(self.θk_min,self.θk_max,nk):\n",
    "#                     x,y = self._FK(θh,θk,np.pi/4)\n",
    "#                     pts[i,:] = np.array((x[2],y[2]))\n",
    "\n",
    "            for θk in np.linspace(self.θk_min,self.θk_max,nh):\n",
    "                for θh in np.linspace(self.θh_min,self.θh_max,nk):\n",
    "                    x,y = self._FK(θh,θk,np.pi/4)\n",
    "                    pts[i,:] = np.array((x[2],y[2]))\n",
    "#                     for θa in np.linspace(self.θa_min,self.θa_max,na):\n",
    "#                         pts[i,:] = np.array(self.FK(θh,θk,θa))\n",
    "                    i += 1\n",
    "            if method == \"full sample\":\n",
    "                return pts[:,0] , pts[:,1]\n",
    "            \n",
    "            #the workspace we want isn't convex and this proves it.\n",
    "            if method == \"boundry sample\": \n",
    "                hull = ConvexHull(pts)\n",
    "                hullPts = pts[hull.vertices,:]\n",
    "                return hullPts[:,0] , hullPts[:,1]\n",
    "    \n",
    "    # ---------------------- public facing functions ------------------------------\n",
    "    def FK(self,θh,θk,θa):\n",
    "        \"\"\"\n",
    "        given the joint angles θh,θk,θa, where is the middle of the foot located in space?\n",
    "        \"\"\"\n",
    "        x,y = self._FK(θh,θk,θa) ; return (x[3],y[3])\n",
    "    \n",
    "    def FKplot(self,θh,θk,θa):\n",
    "        \"\"\"\n",
    "        forward kinematic plotting vector for viewing human leg\n",
    "        \"\"\"\n",
    "        return self._FK(θh,θk,θa)\n",
    "        \n",
    "    def FS(self,x,y):\n",
    "        \"\"\"\n",
    "        evaluate the Force Space of the human at a particular location location in the saggital plane\n",
    "        and return a shape object that can be used to score FS overlap\n",
    "        \"\"\"\n",
    "        self.IK(x,y)  #update internal state\n",
    "        jac = self.Jac()\n",
    "        τs = self.τspace()\n",
    "        \n",
    "        #jac * τs -> force space\n",
    "        return fs\n",
    "    \n",
    "    def FSplot(self,x,y):\n",
    "        \"\"\"\n",
    "        return the points required to plot the force space\n",
    "        \"\"\"\n",
    "        pass\n",
    "    \n",
    "    def IKplot(self,x,y):\n",
    "        \"\"\"return the points for plotting human leg\"\"\"\n",
    "        pass\n",
    "        \n",
    "        \n",
    "         \n",
    "    \n",
    "\n",
    "#----------------------------------- tests ----------------------------------\n",
    "def test_human():\n",
    "    h = Human()\n",
    "    def test_FS():\n",
    "        pass\n",
    "    pass\n",
    "\n",
    "test = False\n",
    "if test:\n",
    "    test_human()\n",
    "    \n",
    "        \n",
    "#---------------------------------- plotting ---------------------------------\n",
    "h = Human()\n",
    "\n",
    "fig = go.FigureWidget()\n",
    "\n",
    "# fig.update_xaxes(range=[-6, 6])\n",
    "# fig.update_yaxes(range=[-6, 6])\n",
    "\n",
    "#configure layout of graph\n",
    "side = 1000\n",
    "fig.update_layout(\n",
    "    autosize=False,\n",
    "    width=side + 100,\n",
    "    height=side,\n",
    "    legend=dict(x=.025, y=.975),\n",
    "    margin=dict(l=80, r=80, t=0, b=80))\n",
    "\n",
    "#make plot with original circle, and model robot in it.\n",
    "xs,ys = h.bounds()\n",
    "fig.add_scatter(x=xs,y=ys,mode=\"markers\", marker = dict(color = np.linspace(0,1,50*25)))\n",
    "#fig.add_scatter(x=xs,y=ys, marker = dict(color = np.linspace(0,1,50*25)))\n",
    "#fig.add_scatter(line=dict(color='royalblue', width=2)      ,name=\"leg\")"
   ]
  },
  {
   "cell_type": "code",
   "execution_count": 90,
   "metadata": {},
   "outputs": [
    {
     "data": {
      "text/plain": [
       "(1.538905327846682, -1.2856998865634202, -0.25320544125060374)"
      ]
     },
     "execution_count": 90,
     "metadata": {},
     "output_type": "execute_result"
    }
   ],
   "source": [
    "#%timeit h._IK_analytical(1.5,1.25,0)\n",
    "\n",
    "h.IK(1.5,1.25)"
   ]
  },
  {
   "cell_type": "code",
   "execution_count": 84,
   "metadata": {},
   "outputs": [
    {
     "data": {
      "text/plain": [
       "(1.3362223351373426, -0.7661867696674873, -1.1222230654698557)"
      ]
     },
     "execution_count": 84,
     "metadata": {},
     "output_type": "execute_result"
    }
   ],
   "source": [
    "#%timeit h._IK_analytical(1.5,1.25,0)\n",
    "\n",
    "h.IK(1.5,1.25)"
   ]
  },
  {
   "cell_type": "markdown",
   "metadata": {},
   "source": [
    "to do: what are my goals for this visualizer?\n",
    "* be able to debug the human class\n",
    "* visualize the bounds and bounds check function\n",
    "* visualize the process of IK, and how it's being solved\n",
    "* visualize the force space of the human\n"
   ]
  },
  {
   "cell_type": "markdown",
   "metadata": {},
   "source": [
    "the calculated space depends on whether the robot's are elbow in or elbow out.\n",
    "$det(A^{-1}) = \\frac{1}{det(A)}$"
   ]
  },
  {
   "cell_type": "markdown",
   "metadata": {},
   "source": [
    "in words, how do you want this to work? \n",
    "* when visualize forceSpaces is selected, you have free control over the movement of \\theta1 and \\theta2, and can see the calculated force spaces. FR scales the robot force space. when you select that button, the blue robot becomes bold, and is the leader, the robot follows through IK. if the human leaves the area, then robot should disappear, until we are back in the interaction area. \n",
    "* the feature is separate from and is drawn over top of the mode controur map. \n",
    "    \n",
    "* what am I trying to do right now? \n",
    "- build the visualization tool that will help explain why the inscribed and actuator effort modes have such asymmetries "
   ]
  },
  {
   "cell_type": "code",
   "execution_count": 14,
   "metadata": {},
   "outputs": [
    {
     "data": {
      "application/vnd.plotly.v1+json": {
       "config": {
        "plotlyServerURL": "https://plot.ly"
       },
       "data": [
        {
         "fill": "tozeroy",
         "mode": "none",
         "type": "scatter",
         "x": [
          -0.20833333,
          -1.54166667,
          0.20833333,
          1.54166667,
          -0.20833333
         ],
         "y": [
          1.0662811,
          -0.92900195,
          -1.0662811,
          0.92900195,
          1.0662811
         ]
        }
       ],
       "layout": {
        "autosize": true,
        "template": {
         "data": {
          "bar": [
           {
            "error_x": {
             "color": "#2a3f5f"
            },
            "error_y": {
             "color": "#2a3f5f"
            },
            "marker": {
             "line": {
              "color": "#E5ECF6",
              "width": 0.5
             }
            },
            "type": "bar"
           }
          ],
          "barpolar": [
           {
            "marker": {
             "line": {
              "color": "#E5ECF6",
              "width": 0.5
             }
            },
            "type": "barpolar"
           }
          ],
          "carpet": [
           {
            "aaxis": {
             "endlinecolor": "#2a3f5f",
             "gridcolor": "white",
             "linecolor": "white",
             "minorgridcolor": "white",
             "startlinecolor": "#2a3f5f"
            },
            "baxis": {
             "endlinecolor": "#2a3f5f",
             "gridcolor": "white",
             "linecolor": "white",
             "minorgridcolor": "white",
             "startlinecolor": "#2a3f5f"
            },
            "type": "carpet"
           }
          ],
          "choropleth": [
           {
            "colorbar": {
             "outlinewidth": 0,
             "ticks": ""
            },
            "type": "choropleth"
           }
          ],
          "contour": [
           {
            "colorbar": {
             "outlinewidth": 0,
             "ticks": ""
            },
            "colorscale": [
             [
              0,
              "#0d0887"
             ],
             [
              0.1111111111111111,
              "#46039f"
             ],
             [
              0.2222222222222222,
              "#7201a8"
             ],
             [
              0.3333333333333333,
              "#9c179e"
             ],
             [
              0.4444444444444444,
              "#bd3786"
             ],
             [
              0.5555555555555556,
              "#d8576b"
             ],
             [
              0.6666666666666666,
              "#ed7953"
             ],
             [
              0.7777777777777778,
              "#fb9f3a"
             ],
             [
              0.8888888888888888,
              "#fdca26"
             ],
             [
              1,
              "#f0f921"
             ]
            ],
            "type": "contour"
           }
          ],
          "contourcarpet": [
           {
            "colorbar": {
             "outlinewidth": 0,
             "ticks": ""
            },
            "type": "contourcarpet"
           }
          ],
          "heatmap": [
           {
            "colorbar": {
             "outlinewidth": 0,
             "ticks": ""
            },
            "colorscale": [
             [
              0,
              "#0d0887"
             ],
             [
              0.1111111111111111,
              "#46039f"
             ],
             [
              0.2222222222222222,
              "#7201a8"
             ],
             [
              0.3333333333333333,
              "#9c179e"
             ],
             [
              0.4444444444444444,
              "#bd3786"
             ],
             [
              0.5555555555555556,
              "#d8576b"
             ],
             [
              0.6666666666666666,
              "#ed7953"
             ],
             [
              0.7777777777777778,
              "#fb9f3a"
             ],
             [
              0.8888888888888888,
              "#fdca26"
             ],
             [
              1,
              "#f0f921"
             ]
            ],
            "type": "heatmap"
           }
          ],
          "heatmapgl": [
           {
            "colorbar": {
             "outlinewidth": 0,
             "ticks": ""
            },
            "colorscale": [
             [
              0,
              "#0d0887"
             ],
             [
              0.1111111111111111,
              "#46039f"
             ],
             [
              0.2222222222222222,
              "#7201a8"
             ],
             [
              0.3333333333333333,
              "#9c179e"
             ],
             [
              0.4444444444444444,
              "#bd3786"
             ],
             [
              0.5555555555555556,
              "#d8576b"
             ],
             [
              0.6666666666666666,
              "#ed7953"
             ],
             [
              0.7777777777777778,
              "#fb9f3a"
             ],
             [
              0.8888888888888888,
              "#fdca26"
             ],
             [
              1,
              "#f0f921"
             ]
            ],
            "type": "heatmapgl"
           }
          ],
          "histogram": [
           {
            "marker": {
             "colorbar": {
              "outlinewidth": 0,
              "ticks": ""
             }
            },
            "type": "histogram"
           }
          ],
          "histogram2d": [
           {
            "colorbar": {
             "outlinewidth": 0,
             "ticks": ""
            },
            "colorscale": [
             [
              0,
              "#0d0887"
             ],
             [
              0.1111111111111111,
              "#46039f"
             ],
             [
              0.2222222222222222,
              "#7201a8"
             ],
             [
              0.3333333333333333,
              "#9c179e"
             ],
             [
              0.4444444444444444,
              "#bd3786"
             ],
             [
              0.5555555555555556,
              "#d8576b"
             ],
             [
              0.6666666666666666,
              "#ed7953"
             ],
             [
              0.7777777777777778,
              "#fb9f3a"
             ],
             [
              0.8888888888888888,
              "#fdca26"
             ],
             [
              1,
              "#f0f921"
             ]
            ],
            "type": "histogram2d"
           }
          ],
          "histogram2dcontour": [
           {
            "colorbar": {
             "outlinewidth": 0,
             "ticks": ""
            },
            "colorscale": [
             [
              0,
              "#0d0887"
             ],
             [
              0.1111111111111111,
              "#46039f"
             ],
             [
              0.2222222222222222,
              "#7201a8"
             ],
             [
              0.3333333333333333,
              "#9c179e"
             ],
             [
              0.4444444444444444,
              "#bd3786"
             ],
             [
              0.5555555555555556,
              "#d8576b"
             ],
             [
              0.6666666666666666,
              "#ed7953"
             ],
             [
              0.7777777777777778,
              "#fb9f3a"
             ],
             [
              0.8888888888888888,
              "#fdca26"
             ],
             [
              1,
              "#f0f921"
             ]
            ],
            "type": "histogram2dcontour"
           }
          ],
          "mesh3d": [
           {
            "colorbar": {
             "outlinewidth": 0,
             "ticks": ""
            },
            "type": "mesh3d"
           }
          ],
          "parcoords": [
           {
            "line": {
             "colorbar": {
              "outlinewidth": 0,
              "ticks": ""
             }
            },
            "type": "parcoords"
           }
          ],
          "pie": [
           {
            "automargin": true,
            "type": "pie"
           }
          ],
          "scatter": [
           {
            "marker": {
             "colorbar": {
              "outlinewidth": 0,
              "ticks": ""
             }
            },
            "type": "scatter"
           }
          ],
          "scatter3d": [
           {
            "line": {
             "colorbar": {
              "outlinewidth": 0,
              "ticks": ""
             }
            },
            "marker": {
             "colorbar": {
              "outlinewidth": 0,
              "ticks": ""
             }
            },
            "type": "scatter3d"
           }
          ],
          "scattercarpet": [
           {
            "marker": {
             "colorbar": {
              "outlinewidth": 0,
              "ticks": ""
             }
            },
            "type": "scattercarpet"
           }
          ],
          "scattergeo": [
           {
            "marker": {
             "colorbar": {
              "outlinewidth": 0,
              "ticks": ""
             }
            },
            "type": "scattergeo"
           }
          ],
          "scattergl": [
           {
            "marker": {
             "colorbar": {
              "outlinewidth": 0,
              "ticks": ""
             }
            },
            "type": "scattergl"
           }
          ],
          "scattermapbox": [
           {
            "marker": {
             "colorbar": {
              "outlinewidth": 0,
              "ticks": ""
             }
            },
            "type": "scattermapbox"
           }
          ],
          "scatterpolar": [
           {
            "marker": {
             "colorbar": {
              "outlinewidth": 0,
              "ticks": ""
             }
            },
            "type": "scatterpolar"
           }
          ],
          "scatterpolargl": [
           {
            "marker": {
             "colorbar": {
              "outlinewidth": 0,
              "ticks": ""
             }
            },
            "type": "scatterpolargl"
           }
          ],
          "scatterternary": [
           {
            "marker": {
             "colorbar": {
              "outlinewidth": 0,
              "ticks": ""
             }
            },
            "type": "scatterternary"
           }
          ],
          "surface": [
           {
            "colorbar": {
             "outlinewidth": 0,
             "ticks": ""
            },
            "colorscale": [
             [
              0,
              "#0d0887"
             ],
             [
              0.1111111111111111,
              "#46039f"
             ],
             [
              0.2222222222222222,
              "#7201a8"
             ],
             [
              0.3333333333333333,
              "#9c179e"
             ],
             [
              0.4444444444444444,
              "#bd3786"
             ],
             [
              0.5555555555555556,
              "#d8576b"
             ],
             [
              0.6666666666666666,
              "#ed7953"
             ],
             [
              0.7777777777777778,
              "#fb9f3a"
             ],
             [
              0.8888888888888888,
              "#fdca26"
             ],
             [
              1,
              "#f0f921"
             ]
            ],
            "type": "surface"
           }
          ],
          "table": [
           {
            "cells": {
             "fill": {
              "color": "#EBF0F8"
             },
             "line": {
              "color": "white"
             }
            },
            "header": {
             "fill": {
              "color": "#C8D4E3"
             },
             "line": {
              "color": "white"
             }
            },
            "type": "table"
           }
          ]
         },
         "layout": {
          "annotationdefaults": {
           "arrowcolor": "#2a3f5f",
           "arrowhead": 0,
           "arrowwidth": 1
          },
          "coloraxis": {
           "colorbar": {
            "outlinewidth": 0,
            "ticks": ""
           }
          },
          "colorscale": {
           "diverging": [
            [
             0,
             "#8e0152"
            ],
            [
             0.1,
             "#c51b7d"
            ],
            [
             0.2,
             "#de77ae"
            ],
            [
             0.3,
             "#f1b6da"
            ],
            [
             0.4,
             "#fde0ef"
            ],
            [
             0.5,
             "#f7f7f7"
            ],
            [
             0.6,
             "#e6f5d0"
            ],
            [
             0.7,
             "#b8e186"
            ],
            [
             0.8,
             "#7fbc41"
            ],
            [
             0.9,
             "#4d9221"
            ],
            [
             1,
             "#276419"
            ]
           ],
           "sequential": [
            [
             0,
             "#0d0887"
            ],
            [
             0.1111111111111111,
             "#46039f"
            ],
            [
             0.2222222222222222,
             "#7201a8"
            ],
            [
             0.3333333333333333,
             "#9c179e"
            ],
            [
             0.4444444444444444,
             "#bd3786"
            ],
            [
             0.5555555555555556,
             "#d8576b"
            ],
            [
             0.6666666666666666,
             "#ed7953"
            ],
            [
             0.7777777777777778,
             "#fb9f3a"
            ],
            [
             0.8888888888888888,
             "#fdca26"
            ],
            [
             1,
             "#f0f921"
            ]
           ],
           "sequentialminus": [
            [
             0,
             "#0d0887"
            ],
            [
             0.1111111111111111,
             "#46039f"
            ],
            [
             0.2222222222222222,
             "#7201a8"
            ],
            [
             0.3333333333333333,
             "#9c179e"
            ],
            [
             0.4444444444444444,
             "#bd3786"
            ],
            [
             0.5555555555555556,
             "#d8576b"
            ],
            [
             0.6666666666666666,
             "#ed7953"
            ],
            [
             0.7777777777777778,
             "#fb9f3a"
            ],
            [
             0.8888888888888888,
             "#fdca26"
            ],
            [
             1,
             "#f0f921"
            ]
           ]
          },
          "colorway": [
           "#636efa",
           "#EF553B",
           "#00cc96",
           "#ab63fa",
           "#FFA15A",
           "#19d3f3",
           "#FF6692",
           "#B6E880",
           "#FF97FF",
           "#FECB52"
          ],
          "font": {
           "color": "#2a3f5f"
          },
          "geo": {
           "bgcolor": "white",
           "lakecolor": "white",
           "landcolor": "#E5ECF6",
           "showlakes": true,
           "showland": true,
           "subunitcolor": "white"
          },
          "hoverlabel": {
           "align": "left"
          },
          "hovermode": "closest",
          "mapbox": {
           "style": "light"
          },
          "paper_bgcolor": "white",
          "plot_bgcolor": "#E5ECF6",
          "polar": {
           "angularaxis": {
            "gridcolor": "white",
            "linecolor": "white",
            "ticks": ""
           },
           "bgcolor": "#E5ECF6",
           "radialaxis": {
            "gridcolor": "white",
            "linecolor": "white",
            "ticks": ""
           }
          },
          "scene": {
           "xaxis": {
            "backgroundcolor": "#E5ECF6",
            "gridcolor": "white",
            "gridwidth": 2,
            "linecolor": "white",
            "showbackground": true,
            "ticks": "",
            "zerolinecolor": "white"
           },
           "yaxis": {
            "backgroundcolor": "#E5ECF6",
            "gridcolor": "white",
            "gridwidth": 2,
            "linecolor": "white",
            "showbackground": true,
            "ticks": "",
            "zerolinecolor": "white"
           },
           "zaxis": {
            "backgroundcolor": "#E5ECF6",
            "gridcolor": "white",
            "gridwidth": 2,
            "linecolor": "white",
            "showbackground": true,
            "ticks": "",
            "zerolinecolor": "white"
           }
          },
          "shapedefaults": {
           "line": {
            "color": "#2a3f5f"
           }
          },
          "ternary": {
           "aaxis": {
            "gridcolor": "white",
            "linecolor": "white",
            "ticks": ""
           },
           "baxis": {
            "gridcolor": "white",
            "linecolor": "white",
            "ticks": ""
           },
           "bgcolor": "#E5ECF6",
           "caxis": {
            "gridcolor": "white",
            "linecolor": "white",
            "ticks": ""
           }
          },
          "title": {
           "x": 0.05
          },
          "xaxis": {
           "automargin": true,
           "gridcolor": "white",
           "linecolor": "white",
           "ticks": "",
           "title": {
            "standoff": 15
           },
           "zerolinecolor": "white",
           "zerolinewidth": 2
          },
          "yaxis": {
           "automargin": true,
           "gridcolor": "white",
           "linecolor": "white",
           "ticks": "",
           "title": {
            "standoff": 15
           },
           "zerolinecolor": "white",
           "zerolinewidth": 2
          }
         }
        },
        "xaxis": {
         "autorange": true,
         "range": [
          -1.54166667,
          1.54166667
         ],
         "type": "linear"
        },
        "yaxis": {
         "autorange": true,
         "range": [
          -1.1847567777777779,
          1.1847567777777779
         ],
         "type": "linear"
        }
       }
      },
      "image/png": "[encoded data removed]",
      "text/html": [
       "<div>\n",
       "        \n",
       "        \n",
       "            <div id=\"05322657-e9ce-4d19-9d1d-ae49c4df8377\" class=\"plotly-graph-div\" style=\"height:525px; width:100%;\"></div>\n",
       "            <script type=\"text/javascript\">\n",
       "                require([\"plotly\"], function(Plotly) {\n",
       "                    window.PLOTLYENV=window.PLOTLYENV || {};\n",
       "                    \n",
       "                if (document.getElementById(\"05322657-e9ce-4d19-9d1d-ae49c4df8377\")) {\n",
       "                    Plotly.newPlot(\n",
       "                        '05322657-e9ce-4d19-9d1d-ae49c4df8377',\n",
       "                        [{\"fill\": \"tozeroy\", \"mode\": \"none\", \"type\": \"scatter\", \"x\": [-0.20833333, -1.54166667, 0.20833333, 1.54166667, -0.20833333], \"y\": [1.0662811, -0.92900195, -1.0662811, 0.92900195, 1.0662811]}],\n",
       "                        {\"template\": {\"data\": {\"bar\": [{\"error_x\": {\"color\": \"#2a3f5f\"}, \"error_y\": {\"color\": \"#2a3f5f\"}, \"marker\": {\"line\": {\"color\": \"#E5ECF6\", \"width\": 0.5}}, \"type\": \"bar\"}], \"barpolar\": [{\"marker\": {\"line\": {\"color\": \"#E5ECF6\", \"width\": 0.5}}, \"type\": \"barpolar\"}], \"carpet\": [{\"aaxis\": {\"endlinecolor\": \"#2a3f5f\", \"gridcolor\": \"white\", \"linecolor\": \"white\", \"minorgridcolor\": \"white\", \"startlinecolor\": \"#2a3f5f\"}, \"baxis\": {\"endlinecolor\": \"#2a3f5f\", \"gridcolor\": \"white\", \"linecolor\": \"white\", \"minorgridcolor\": \"white\", \"startlinecolor\": \"#2a3f5f\"}, \"type\": \"carpet\"}], \"choropleth\": [{\"colorbar\": {\"outlinewidth\": 0, \"ticks\": \"\"}, \"type\": \"choropleth\"}], \"contour\": [{\"colorbar\": {\"outlinewidth\": 0, \"ticks\": \"\"}, \"colorscale\": [[0.0, \"#0d0887\"], [0.1111111111111111, \"#46039f\"], [0.2222222222222222, \"#7201a8\"], [0.3333333333333333, \"#9c179e\"], [0.4444444444444444, \"#bd3786\"], [0.5555555555555556, \"#d8576b\"], [0.6666666666666666, \"#ed7953\"], [0.7777777777777778, \"#fb9f3a\"], [0.8888888888888888, \"#fdca26\"], [1.0, \"#f0f921\"]], \"type\": \"contour\"}], \"contourcarpet\": [{\"colorbar\": {\"outlinewidth\": 0, \"ticks\": \"\"}, \"type\": \"contourcarpet\"}], \"heatmap\": [{\"colorbar\": {\"outlinewidth\": 0, \"ticks\": \"\"}, \"colorscale\": [[0.0, \"#0d0887\"], [0.1111111111111111, \"#46039f\"], [0.2222222222222222, \"#7201a8\"], [0.3333333333333333, \"#9c179e\"], [0.4444444444444444, \"#bd3786\"], [0.5555555555555556, \"#d8576b\"], [0.6666666666666666, \"#ed7953\"], [0.7777777777777778, \"#fb9f3a\"], [0.8888888888888888, \"#fdca26\"], [1.0, \"#f0f921\"]], \"type\": \"heatmap\"}], \"heatmapgl\": [{\"colorbar\": {\"outlinewidth\": 0, \"ticks\": \"\"}, \"colorscale\": [[0.0, \"#0d0887\"], [0.1111111111111111, \"#46039f\"], [0.2222222222222222, \"#7201a8\"], [0.3333333333333333, \"#9c179e\"], [0.4444444444444444, \"#bd3786\"], [0.5555555555555556, \"#d8576b\"], [0.6666666666666666, \"#ed7953\"], [0.7777777777777778, \"#fb9f3a\"], [0.8888888888888888, \"#fdca26\"], [1.0, \"#f0f921\"]], \"type\": \"heatmapgl\"}], \"histogram\": [{\"marker\": {\"colorbar\": {\"outlinewidth\": 0, \"ticks\": \"\"}}, \"type\": \"histogram\"}], \"histogram2d\": [{\"colorbar\": {\"outlinewidth\": 0, \"ticks\": \"\"}, \"colorscale\": [[0.0, \"#0d0887\"], [0.1111111111111111, \"#46039f\"], [0.2222222222222222, \"#7201a8\"], [0.3333333333333333, \"#9c179e\"], [0.4444444444444444, \"#bd3786\"], [0.5555555555555556, \"#d8576b\"], [0.6666666666666666, \"#ed7953\"], [0.7777777777777778, \"#fb9f3a\"], [0.8888888888888888, \"#fdca26\"], [1.0, \"#f0f921\"]], \"type\": \"histogram2d\"}], \"histogram2dcontour\": [{\"colorbar\": {\"outlinewidth\": 0, \"ticks\": \"\"}, \"colorscale\": [[0.0, \"#0d0887\"], [0.1111111111111111, \"#46039f\"], [0.2222222222222222, \"#7201a8\"], [0.3333333333333333, \"#9c179e\"], [0.4444444444444444, \"#bd3786\"], [0.5555555555555556, \"#d8576b\"], [0.6666666666666666, \"#ed7953\"], [0.7777777777777778, \"#fb9f3a\"], [0.8888888888888888, \"#fdca26\"], [1.0, \"#f0f921\"]], \"type\": \"histogram2dcontour\"}], \"mesh3d\": [{\"colorbar\": {\"outlinewidth\": 0, \"ticks\": \"\"}, \"type\": \"mesh3d\"}], \"parcoords\": [{\"line\": {\"colorbar\": {\"outlinewidth\": 0, \"ticks\": \"\"}}, \"type\": \"parcoords\"}], \"pie\": [{\"automargin\": true, \"type\": \"pie\"}], \"scatter\": [{\"marker\": {\"colorbar\": {\"outlinewidth\": 0, \"ticks\": \"\"}}, \"type\": \"scatter\"}], \"scatter3d\": [{\"line\": {\"colorbar\": {\"outlinewidth\": 0, \"ticks\": \"\"}}, \"marker\": {\"colorbar\": {\"outlinewidth\": 0, \"ticks\": \"\"}}, \"type\": \"scatter3d\"}], \"scattercarpet\": [{\"marker\": {\"colorbar\": {\"outlinewidth\": 0, \"ticks\": \"\"}}, \"type\": \"scattercarpet\"}], \"scattergeo\": [{\"marker\": {\"colorbar\": {\"outlinewidth\": 0, \"ticks\": \"\"}}, \"type\": \"scattergeo\"}], \"scattergl\": [{\"marker\": {\"colorbar\": {\"outlinewidth\": 0, \"ticks\": \"\"}}, \"type\": \"scattergl\"}], \"scattermapbox\": [{\"marker\": {\"colorbar\": {\"outlinewidth\": 0, \"ticks\": \"\"}}, \"type\": \"scattermapbox\"}], \"scatterpolar\": [{\"marker\": {\"colorbar\": {\"outlinewidth\": 0, \"ticks\": \"\"}}, \"type\": \"scatterpolar\"}], \"scatterpolargl\": [{\"marker\": {\"colorbar\": {\"outlinewidth\": 0, \"ticks\": \"\"}}, \"type\": \"scatterpolargl\"}], \"scatterternary\": [{\"marker\": {\"colorbar\": {\"outlinewidth\": 0, \"ticks\": \"\"}}, \"type\": \"scatterternary\"}], \"surface\": [{\"colorbar\": {\"outlinewidth\": 0, \"ticks\": \"\"}, \"colorscale\": [[0.0, \"#0d0887\"], [0.1111111111111111, \"#46039f\"], [0.2222222222222222, \"#7201a8\"], [0.3333333333333333, \"#9c179e\"], [0.4444444444444444, \"#bd3786\"], [0.5555555555555556, \"#d8576b\"], [0.6666666666666666, \"#ed7953\"], [0.7777777777777778, \"#fb9f3a\"], [0.8888888888888888, \"#fdca26\"], [1.0, \"#f0f921\"]], \"type\": \"surface\"}], \"table\": [{\"cells\": {\"fill\": {\"color\": \"#EBF0F8\"}, \"line\": {\"color\": \"white\"}}, \"header\": {\"fill\": {\"color\": \"#C8D4E3\"}, \"line\": {\"color\": \"white\"}}, \"type\": \"table\"}]}, \"layout\": {\"annotationdefaults\": {\"arrowcolor\": \"#2a3f5f\", \"arrowhead\": 0, \"arrowwidth\": 1}, \"coloraxis\": {\"colorbar\": {\"outlinewidth\": 0, \"ticks\": \"\"}}, \"colorscale\": {\"diverging\": [[0, \"#8e0152\"], [0.1, \"#c51b7d\"], [0.2, \"#de77ae\"], [0.3, \"#f1b6da\"], [0.4, \"#fde0ef\"], [0.5, \"#f7f7f7\"], [0.6, \"#e6f5d0\"], [0.7, \"#b8e186\"], [0.8, \"#7fbc41\"], [0.9, \"#4d9221\"], [1, \"#276419\"]], \"sequential\": [[0.0, \"#0d0887\"], [0.1111111111111111, \"#46039f\"], [0.2222222222222222, \"#7201a8\"], [0.3333333333333333, \"#9c179e\"], [0.4444444444444444, \"#bd3786\"], [0.5555555555555556, \"#d8576b\"], [0.6666666666666666, \"#ed7953\"], [0.7777777777777778, \"#fb9f3a\"], [0.8888888888888888, \"#fdca26\"], [1.0, \"#f0f921\"]], \"sequentialminus\": [[0.0, \"#0d0887\"], [0.1111111111111111, \"#46039f\"], [0.2222222222222222, \"#7201a8\"], [0.3333333333333333, \"#9c179e\"], [0.4444444444444444, \"#bd3786\"], [0.5555555555555556, \"#d8576b\"], [0.6666666666666666, \"#ed7953\"], [0.7777777777777778, \"#fb9f3a\"], [0.8888888888888888, \"#fdca26\"], [1.0, \"#f0f921\"]]}, \"colorway\": [\"#636efa\", \"#EF553B\", \"#00cc96\", \"#ab63fa\", \"#FFA15A\", \"#19d3f3\", \"#FF6692\", \"#B6E880\", \"#FF97FF\", \"#FECB52\"], \"font\": {\"color\": \"#2a3f5f\"}, \"geo\": {\"bgcolor\": \"white\", \"lakecolor\": \"white\", \"landcolor\": \"#E5ECF6\", \"showlakes\": true, \"showland\": true, \"subunitcolor\": \"white\"}, \"hoverlabel\": {\"align\": \"left\"}, \"hovermode\": \"closest\", \"mapbox\": {\"style\": \"light\"}, \"paper_bgcolor\": \"white\", \"plot_bgcolor\": \"#E5ECF6\", \"polar\": {\"angularaxis\": {\"gridcolor\": \"white\", \"linecolor\": \"white\", \"ticks\": \"\"}, \"bgcolor\": \"#E5ECF6\", \"radialaxis\": {\"gridcolor\": \"white\", \"linecolor\": \"white\", \"ticks\": \"\"}}, \"scene\": {\"xaxis\": {\"backgroundcolor\": \"#E5ECF6\", \"gridcolor\": \"white\", \"gridwidth\": 2, \"linecolor\": \"white\", \"showbackground\": true, \"ticks\": \"\", \"zerolinecolor\": \"white\"}, \"yaxis\": {\"backgroundcolor\": \"#E5ECF6\", \"gridcolor\": \"white\", \"gridwidth\": 2, \"linecolor\": \"white\", \"showbackground\": true, \"ticks\": \"\", \"zerolinecolor\": \"white\"}, \"zaxis\": {\"backgroundcolor\": \"#E5ECF6\", \"gridcolor\": \"white\", \"gridwidth\": 2, \"linecolor\": \"white\", \"showbackground\": true, \"ticks\": \"\", \"zerolinecolor\": \"white\"}}, \"shapedefaults\": {\"line\": {\"color\": \"#2a3f5f\"}}, \"ternary\": {\"aaxis\": {\"gridcolor\": \"white\", \"linecolor\": \"white\", \"ticks\": \"\"}, \"baxis\": {\"gridcolor\": \"white\", \"linecolor\": \"white\", \"ticks\": \"\"}, \"bgcolor\": \"#E5ECF6\", \"caxis\": {\"gridcolor\": \"white\", \"linecolor\": \"white\", \"ticks\": \"\"}}, \"title\": {\"x\": 0.05}, \"xaxis\": {\"automargin\": true, \"gridcolor\": \"white\", \"linecolor\": \"white\", \"ticks\": \"\", \"title\": {\"standoff\": 15}, \"zerolinecolor\": \"white\", \"zerolinewidth\": 2}, \"yaxis\": {\"automargin\": true, \"gridcolor\": \"white\", \"linecolor\": \"white\", \"ticks\": \"\", \"title\": {\"standoff\": 15}, \"zerolinecolor\": \"white\", \"zerolinewidth\": 2}}}},\n",
       "                        {\"responsive\": true}\n",
       "                    ).then(function(){\n",
       "                            \n",
       "var gd = document.getElementById('05322657-e9ce-4d19-9d1d-ae49c4df8377');\n",
       "var x = new MutationObserver(function (mutations, observer) {{\n",
       "        var display = window.getComputedStyle(gd).display;\n",
       "        if (!display || display === 'none') {{\n",
       "            console.log([gd, 'removed!']);\n",
       "            Plotly.purge(gd);\n",
       "            observer.disconnect();\n",
       "        }}\n",
       "}});\n",
       "\n",
       "// Listen for the removal of the full notebook cells\n",
       "var notebookContainer = gd.closest('#notebook-container');\n",
       "if (notebookContainer) {{\n",
       "    x.observe(notebookContainer, {childList: true});\n",
       "}}\n",
       "\n",
       "// Listen for the clearing of the current output cell\n",
       "var outputEl = gd.closest('.output');\n",
       "if (outputEl) {{\n",
       "    x.observe(outputEl, {childList: true});\n",
       "}}\n",
       "\n",
       "                        })\n",
       "                };\n",
       "                });\n",
       "            </script>\n",
       "        </div>"
      ]
     },
     "metadata": {},
     "output_type": "display_data"
    }
   ],
   "source": [
    "import plotly.graph_objects as go\n",
    "\n",
    "\n",
    "x = np.array([-0.20833333, -1.54166667,  0.20833333,  1.54166667,-0.20833333])\n",
    "y = np.array([ 1.0662811 , -0.92900195, -1.0662811 ,  0.92900195, 1.0662811 ])\n",
    "\n",
    "\n",
    "\n",
    "\n",
    "fig = go.Figure()\n",
    "#fig.add_trace(go.Scatter(x=x, y=y, fill='tozeroy',fillcolor='royalblue',mode='none'))\n",
    "#fig.add_trace(go.Scatter(x=x, y=y, fill='tonexty',fillcolor='red',mode= 'none'))\n",
    "fig.add_trace(go.Scatter(x=x, y=y, fill='tozeroy',mode='none'))\n",
    "fig.show()"
   ]
  }
 ],
 "metadata": {
  "kernelspec": {
   "display_name": "Python 3",
   "language": "python",
   "name": "python3"
  },
  "language_info": {
   "codemirror_mode": {
    "name": "ipython",
    "version": 3
   },
   "file_extension": ".py",
   "mimetype": "text/x-python",
   "name": "python",
   "nbconvert_exporter": "python",
   "pygments_lexer": "ipython3",
   "version": "3.8.2"
  }
 },
 "nbformat": 4,
 "nbformat_minor": 4
}
