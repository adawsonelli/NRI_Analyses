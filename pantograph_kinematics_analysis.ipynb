{
 "cells": [
  {
   "cell_type": "markdown",
   "metadata": {},
   "source": [
    "# Pantograph Kinematics Analysis\n",
    "the purpose of this analysis is to determine how big of a robot would be required to render a cyclical path, with an outer bound 4 inches larger in diameter than the path of nottabike\n"
   ]
  }
 ],
 "metadata": {
  "kernelspec": {
   "display_name": "Python 3.7.4 64-bit ('BadgerBike': conda)",
   "language": "python",
   "name": "python37464bitbadgerbikeconda225d04d622144d6b87738bde91e60fea"
  },
  "language_info": {
   "codemirror_mode": {
    "name": "ipython",
    "version": 3
   },
   "file_extension": ".py",
   "mimetype": "text/x-python",
   "name": "python",
   "nbconvert_exporter": "python",
   "pygments_lexer": "ipython3",
   "version": "3.7.4"
  }
 },
 "nbformat": 4,
 "nbformat_minor": 2
}
