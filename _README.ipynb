{
 "cells": [
  {
   "cell_type": "markdown",
   "metadata": {},
   "source": [
    "# Project - Optimal Robot Design by Force Space Matching via the Jacobian \n",
    "\n",
    "This project started as as a demonstration that the ability the ability of a robot to very....\n",
    "\n",
    "the project consists of a series of notebooks. the main notebooks are:\n",
    "\n",
    "* [RR force maps](RR_force_maps.ipynb) - demonstrates with 2 RR robots that the positioning of a \"human\" relative to a \"robot\" dramatically effects the haptic rendering space\n",
    "* [models](Models.ipynb) - where the models and the experiment object are defined \n",
    "* [optimizers](optimizers.ipynb) - where the different optimizers are defined \n",
    "* [Numerical Experiements](NumericalExperiments.ipynb) - different optimization experiments which constitute the content of the paper\n",
    "\n",
    "\n",
    "\n",
    "other notebooks were made to conduct small experiments and tests: \n",
    "\n",
    "* [tests](tests.ipynb) - experiments exploring various ideas that were critical in the construction of models, optimizer, etc.\n",
    "* [RRR_IK_locked](RRR_IK_locked.ipynb) - discussion of how I ended up solving IK for an RRR robot with joint locked\n",
    "* [sympy_human_IK](sympy_human_IK.ipynb) - an attempt to use a symbolic solver to find the IK of a human, it didn't work well. \n",
    "\n"
   ]
  },
  {
   "cell_type": "markdown",
   "metadata": {},
   "source": [
    "notes:\n",
    "    https://nbviewer.jupyter.org/github/jupyter/notebook/blob/master/docs/source/examples/Notebook/Importing%20Notebooks.ipynb a module importer"
   ]
  },
  {
   "cell_type": "markdown",
   "metadata": {},
   "source": [
    "notes for the paper!!!!\n",
    "\n",
    "for getting stuff to mike and patrick\n",
    "* just do condition number matching over the whole space and be done with it. \n",
    "\n",
    "\n",
    "for the paper\n",
    "* this will be an introduction / design paper for the whole robot, being a 2DOF mult-configuration robot. it's a design paper about how the robot was concieved of and designed. it won't contain info about the implementation / characterization, because that will be left to patrick, and you will be second author on that or whatever. \n",
    "\n",
    "the points you should make are: \n",
    "* this 2dof parellel robot meets an unmet need in the design space. \n",
    "* don't include stuff about the hybrid architecture, the point of view is that this is made for interaction with a human, so play up the human aspect of things. \n",
    "* talk about the multiple configurations, show the data collected and the fitting of the data, and how the design was driven by this data\n",
    "* don't forget to talk about safety\n",
    "* walk people through how the design tool was used to understand the system, show that the original design was sub-optimal, and finally, that the tool was able to select the best design from a family on designs, and that this was eventually what was implemented in this new 2-DOF system. \n",
    "\n",
    "the optimization for the paper will include the following components: \n",
    "* jacobian matching over the sagittal plane space (these are the highest forces, that's where it's most important to match)\n",
    "* condition number matching over the rest of the space, where it was required for various configurations, and with assigned importance for those conditions. \n",
    "* any penalty functions that are needed to ensure that:\n",
    "    *links stay small\n",
    "    *and origin points colinear (could also leave those vars out - think about how you want to implement this)\n",
    "\n",
    "* make a storyboard for this concept soon, going through the 5 figures, and the transitions. \n",
    "* make it a 6 page, not a 10 page paper... just get it out there. \n",
    "\n",
    "the goal for this paper isn't soon, just chip away at it from now until the prelim. the priority now is to get something into patrick that is decent. \n"
   ]
  },
  {
   "cell_type": "code",
   "execution_count": null,
   "metadata": {},
   "outputs": [],
   "source": []
  }
 ],
 "metadata": {
  "kernelspec": {
   "display_name": "Python 3",
   "language": "python",
   "name": "python3"
  },
  "language_info": {
   "codemirror_mode": {
    "name": "ipython",
    "version": 3
   },
   "file_extension": ".py",
   "mimetype": "text/x-python",
   "name": "python",
   "nbconvert_exporter": "python",
   "pygments_lexer": "ipython3",
   "version": "3.7.9"
  }
 },
 "nbformat": 4,
 "nbformat_minor": 4
}
