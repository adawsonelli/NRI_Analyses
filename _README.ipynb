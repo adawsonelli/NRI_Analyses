{
 "cells": [
  {
   "cell_type": "markdown",
   "metadata": {},
   "source": [
    "# Project - Optimal Robot Design by Force Space Matching via the Jacobian \n",
    "\n",
    "This project started as as a demonstration that the ability the ability of a robot to very....\n",
    "\n",
    "the project consists of a series of notebooks. the main notebooks are:\n",
    "\n",
    "* [RR force maps](RR_force_maps.ipynb) - demonstrates with 2 RR robots that the positioning of a \"human\" relative to a \"robot\" dramatically effects the haptic rendering space\n",
    "* [models](Models.ipynb) - where the models and the experiment object are defined \n",
    "* [optimizers](optimizers.ipynb) - where the different optimizers are defined \n",
    "* [Numerical Experiements](NumericalExperiments.ipynb) - different optimization experiments which constitute the content of the paper\n",
    "\n",
    "\n",
    "\n",
    "other notebooks were made to conduct small experiments and tests: \n",
    "\n",
    "* [tests](tests.ipynb) - experiments exploring various ideas that were critical in the construction of models, optimizer, etc.\n",
    "* [RRR_IK_locked](RRR_IK_locked.ipynb) - discussion of how I ended up solving IK for an RRR robot with joint locked\n",
    "* [sympy_human_IK](sympy_human_IK.ipynb) - an attempt to use a symbolic solver to find the IK of a human, it didn't work well. \n",
    "* \n",
    "\n"
   ]
  }
 ],
 "metadata": {
  "kernelspec": {
   "display_name": "Python 3",
   "language": "python",
   "name": "python3"
  },
  "language_info": {
   "codemirror_mode": {
    "name": "ipython",
    "version": 3
   },
   "file_extension": ".py",
   "mimetype": "text/x-python",
   "name": "python",
   "nbconvert_exporter": "python",
   "pygments_lexer": "ipython3",
   "version": "3.8.2"
  }
 },
 "nbformat": 4,
 "nbformat_minor": 4
}
