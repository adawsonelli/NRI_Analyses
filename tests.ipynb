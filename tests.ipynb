{
 "cells": [
  {
   "cell_type": "markdown",
   "metadata": {},
   "source": [
    "## Tests:\n",
    "here we will explore tests of various concepts used in the parellel robot optimization project interactively"
   ]
  },
  {
   "cell_type": "markdown",
   "metadata": {},
   "source": [
    "### can a linear transformation change the ordering of the vertecies of a polygon? \n",
    "\n",
    "our first point, is that changing the order of the polygon vertecies will disturb the calculation of the area of overlap, as shown below"
   ]
  },
  {
   "cell_type": "code",
   "execution_count": 24,
   "metadata": {},
   "outputs": [
    {
     "data": {
      "image/svg+xml": [
       "<svg xmlns=\"http://www.w3.org/2000/svg\" xmlns:xlink=\"http://www.w3.org/1999/xlink\" width=\"100.0\" height=\"100.0\" viewBox=\"-0.04 -0.04 1.08 1.08\" preserveAspectRatio=\"xMinYMin meet\"><g transform=\"matrix(1,0,0,-1,0,1.0)\"><path fill-rule=\"evenodd\" fill=\"#66cc99\" stroke=\"#555555\" stroke-width=\"0.0216\" opacity=\"0.6\" d=\"M 0.0,0.0 L 1.0,0.0 L 1.0,1.0 L 0.0,1.0 L 0.0,0.0 z\" /></g></svg>"
      ],
      "text/plain": [
       "<shapely.geometry.polygon.Polygon at 0x2045f8066a0>"
      ]
     },
     "execution_count": 24,
     "metadata": {},
     "output_type": "execute_result"
    }
   ],
   "source": [
    "from shapely.geometry import Polygon\n",
    "import numpy as np\n",
    "p1 = Polygon(((0,0),(1,0),(1,1),(0,1)))\n",
    "p1"
   ]
  },
  {
   "cell_type": "code",
   "execution_count": 5,
   "metadata": {},
   "outputs": [
    {
     "data": {
      "image/svg+xml": [
       "<svg xmlns=\"http://www.w3.org/2000/svg\" xmlns:xlink=\"http://www.w3.org/1999/xlink\" width=\"100.0\" height=\"100.0\" viewBox=\"-0.04 -0.04 1.08 1.08\" preserveAspectRatio=\"xMinYMin meet\"><g transform=\"matrix(1,0,0,-1,0,1.0)\"><path fill-rule=\"evenodd\" fill=\"#ff3333\" stroke=\"#555555\" stroke-width=\"0.0216\" opacity=\"0.6\" d=\"M 0.0,0.0 L 1.0,1.0 L 0.0,1.0 L 1.0,0.0 L 0.0,0.0 z\" /></g></svg>"
      ],
      "text/plain": [
       "<shapely.geometry.polygon.Polygon at 0x2045d1108b0>"
      ]
     },
     "execution_count": 5,
     "metadata": {},
     "output_type": "execute_result"
    }
   ],
   "source": [
    "p2 = Polygon(((0,0),(1,1),(0,1),(1,0)))\n",
    "p2"
   ]
  },
  {
   "cell_type": "markdown",
   "metadata": {},
   "source": [
    "so you can see, depending on the order of the points, you can create either a convex, or self intersecting polygon, and the area's are different, and of course, the area's of overlap with another polygon would be different as well"
   ]
  },
  {
   "cell_type": "code",
   "execution_count": 10,
   "metadata": {},
   "outputs": [
    {
     "name": "stdout",
     "output_type": "stream",
     "text": [
      "p1 area =  1.0\n",
      "p2 area =  0.0\n"
     ]
    }
   ],
   "source": [
    "print(\"p1 area = \", p1.area)\n",
    "print(\"p2 area = \", p2.area)"
   ]
  },
  {
   "cell_type": "markdown",
   "metadata": {},
   "source": [
    "so, we want to test using Monte-carlo methods if a polygon that has a valid point ordering can be transformed into a self intersecting polygon through a linear transformation. If it can't (which I suspect) then we never need to make a call to convex hull again, at least for 2D to 2D mapping cases"
   ]
  },
  {
   "cell_type": "code",
   "execution_count": 91,
   "metadata": {},
   "outputs": [],
   "source": [
    "pts = np.array([[0,1,1,0],[0,0,1,1]])\n",
    "truthArr = []\n",
    "truthArr2 = []\n",
    "for i in range(10):\n",
    "    jac = (np.random.random((2,2)) - .5) * 2\n",
    "    if np.linalg.cond(jac) < 100:\n",
    "        pts_new = (jac @ pts).T\n",
    "        verts = [(pts_new[i,0], pts_new[i,1]) for i in range(pts_new.shape[0])]\n",
    "        poly = Polygon(verts)\n",
    "        truthArr.append(poly.is_valid)\n",
    "        truthArr2.append(poly.convex_hull.area - poly.area < 1e-9)"
   ]
  },
  {
   "cell_type": "code",
   "execution_count": 94,
   "metadata": {},
   "outputs": [
    {
     "data": {
      "text/plain": [
       "False"
      ]
     },
     "execution_count": 94,
     "metadata": {},
     "output_type": "execute_result"
    }
   ],
   "source": [
    "False in truthArr or False in truthArr2"
   ]
  },
  {
   "cell_type": "markdown",
   "metadata": {},
   "source": [
    "this proves that we do not need to check for the convex hull of a polygon after a linear transformation, as it's points will always have a valid ordering. this can likely be proven via linear algebra first principles"
   ]
  },
  {
   "cell_type": "markdown",
   "metadata": {},
   "source": [
    "### next question"
   ]
  }
 ],
 "metadata": {
  "kernelspec": {
   "display_name": "Python 3",
   "language": "python",
   "name": "python3"
  },
  "language_info": {
   "codemirror_mode": {
    "name": "ipython",
    "version": 3
   },
   "file_extension": ".py",
   "mimetype": "text/x-python",
   "name": "python",
   "nbconvert_exporter": "python",
   "pygments_lexer": "ipython3",
   "version": "3.8.2"
  }
 },
 "nbformat": 4,
 "nbformat_minor": 4
}
