{
 "cells": [
  {
   "cell_type": "markdown",
   "metadata": {},
   "source": [
    "### RRR IK (fixed ankle) discussion\n",
    "this has proven to be a difficult problem to solve, indeed, it took gaining may interations, and gaining intuition through a cad package to come to a reasonable solution. below are some of the insights I've gathered from this experimentation, and from that an explanation of how the RRR IK problem was solved in the fixed ankle condition. \n",
    "\n",
    "observations: \n",
    "\n",
    "* the problem was solved using the ficticious Link approach. this leads to two possible solutions, one where Ef is up, and one where Ef is down. choosing an Ef state fixes $\\theta_1$\n",
    "* from the position of link 1, there are 2 more possible configuations of links 2 and 3 for each solution to the position of link 1 - making a total of 4 solutions. however, closer inspection reveals that half of these solutions are for $\\theta$ = - $\\theta_3$ and therefore are not viable - leaving only 2 possible solutions to the problem.\n",
    "* two further insights lead to the present solution. \n",
    "    * 1) while it's always possible to specifiy the state of Ef as up or down, it's not alway possible to specify the state of E1. in other words, there are locations in the x,y plane, that, with the ankle locked (and therefore the angle $theta_3$ specified) , may only be reached in a particular E1 position. in this case, there is one solution in which E1 is \"more\" up or down, and one in which it is less. \n",
    "    * 2) the best possible E1 state is alway the same as the Ef state. in other words, if an E1 down state exists for the IK problem, then it will exist through the Ef down solution. \n",
    "   \n",
    "    \n",
    "from these observations, it was possible to formulate an algorithm for solving the IK problem, through the direct specification of the Ef and ankle states. \n",
    "\n",
    "* I want to note here that by solving IK in this way, it's the elbow state under consideration isn't the e2 state, but the ef state, and as such, we can get ourselves into situation where the algorithm solves the IK problem, but \n",
    "\n"
   ]
  },
  {
   "cell_type": "code",
   "execution_count": null,
   "metadata": {},
   "outputs": [],
   "source": []
  }
 ],
 "metadata": {
  "kernelspec": {
   "display_name": "Python 3",
   "language": "python",
   "name": "python3"
  },
  "language_info": {
   "codemirror_mode": {
    "name": "ipython",
    "version": 3
   },
   "file_extension": ".py",
   "mimetype": "text/x-python",
   "name": "python",
   "nbconvert_exporter": "python",
   "pygments_lexer": "ipython3",
   "version": "3.8.2"
  }
 },
 "nbformat": 4,
 "nbformat_minor": 4
}
