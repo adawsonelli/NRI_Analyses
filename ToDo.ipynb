{
 "cells": [
  {
   "cell_type": "markdown",
   "metadata": {},
   "source": [
    "# TO DO:\n",
    "\n",
    "what am I working on now to move the modeling process forward??\n",
    "\n",
    "\n",
    "# optimization\n",
    "\n",
    "* importing the 2 optimization packages I'll be using (forget scipy-optimize-minimize, NL-opt is much better and supports box constraints) \n",
    "* test the optimizers out an a library of test functions, and make any glue code that will allow our models to link with the optimizers. \n",
    "* clean up the optimizers file to only include what we will be using. \n",
    "* clean up the entire repo - it's looking like a hot mess. commit, then delete and clean. \n",
    "\n",
    "\n",
    "# back to model development\n",
    "\n",
    "* forget development on penalty functions, we won't need them, because we have optimizers now that handle box constraints. instead, after the stuff above is done, think about the way's in which the robot needs to be parameterized to frame the whole problem. this includes multiple planes of usage..."
   ]
  },
  {
   "cell_type": "code",
   "execution_count": null,
   "metadata": {},
   "outputs": [],
   "source": []
  }
 ],
 "metadata": {
  "kernelspec": {
   "display_name": "Python 3",
   "language": "python",
   "name": "python3"
  },
  "language_info": {
   "codemirror_mode": {
    "name": "ipython",
    "version": 3
   },
   "file_extension": ".py",
   "mimetype": "text/x-python",
   "name": "python",
   "nbconvert_exporter": "python",
   "pygments_lexer": "ipython3",
   "version": "3.8.2"
  }
 },
 "nbformat": 4,
 "nbformat_minor": 4
}
