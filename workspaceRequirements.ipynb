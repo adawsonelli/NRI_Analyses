{
 "cells": [
  {
   "cell_type": "code",
   "execution_count": 2,
   "metadata": {},
   "outputs": [],
   "source": [
    "import numpy as np"
   ]
  },
  {
   "cell_type": "code",
   "execution_count": 7,
   "metadata": {},
   "outputs": [
    {
     "name": "stdout",
     "output_type": "stream",
     "text": [
      "tower length: 914.4880452471754\n",
      "tower height: 915.4862096175999\n"
     ]
    }
   ],
   "source": [
    "#get an estimate of the size (in mm) for the tower\n",
    "lowerLeft  = np.array([-115,230,27]) #[x,y,z]  y is in the up direction. \n",
    "lowerRight = np.array([796,224,-52.57])\n",
    "upperLeft  = np.array([-218,195,-882]) \n",
    "\n",
    "#just figure out the lengths of the lower and upper segment\n",
    "lower = np.linalg.norm(lowerLeft - lowerRight)\n",
    "upper = np.linalg.norm(lowerLeft - upperLeft)\n",
    "\n",
    "print(\"tower length:\",lower)\n",
    "print(\"tower height:\",upper)"
   ]
  },
  {
   "cell_type": "markdown",
   "metadata": {},
   "source": [
    "Notes on the various trials:\n",
    "\n",
    "standing sagittal:\n",
    "* the workspace can be arbitrarially shifted right and left, but the up and down dimension is constrained (more or less) by the ground plane.\n",
    "* this shape is big, and so will likely set the overall size of the manipulation envelope.\n",
    "\n",
    "sitting sagittal:\n",
    "* the fact that the subject is sitting limits hip extension significantly, and the fact that the heel will contact the chair changes the workspace shape to be more infront of the subject. this is the second biggest shape. it can be moved left and right, and potentially altered slightly in shape by changing the height of the chair. \n",
    "\n",
    "standing frontal:\n",
    "* the location of this workspace is constrainted by it's height off the ground, with the furthest extent of the workspace being very close to the ground.\n",
    "* with useage of the robot in this position, it's advantagous for the subject to have the ability to place their hands on a handrail or support. this could take 2 forms:\n",
    "    * one, the subject can place both hands on the top of the tower, but as a result, the robot workspace will need to be availiable directly  down from the top of the tower. \n",
    "    * two, the subject can place one hand on the top of the tower, and the outer hand can be placed on a handrail or the back of a chair, with the plane of that support located in the sagittal plane. \n",
    "* in the second form of support, there aren't any left and right constraints on the workspace location, in the first case there are. \n",
    "\n",
    "sitting frontal:\n",
    "* in the seated condition, there is no left and right constraint on the workspace.\n",
    "* the up-down constraint on the workspace is that it is higher off the ground than in the standing position. \n",
    "* the mounting of the ankle to the pedal may be difficult, and the ankle will naturally want to rotate backwards about an ML axis, so that the toes are above the heel. this is not possible if mounted to the same pedal as used for both the sagittal and standing frontal cases. perhaps a fixed angle block could be used. not sure.\n",
    "\n",
    "sitting 60:\n",
    "\n",
    "sitting 45:\n",
    "* the toe of the off foot impinging on the tower limits the up-down travel of this workspace. \n",
    "* the ankle is in a comfortable position for movement here, and the combination of knee and hip motion allows for a great deal of movement about a ML axis compared to purely transverse movements. \n",
    "* the workspace has not left, right constraints, and either foot could be used in any location, \n",
    "\n",
    "\n",
    "sitting 30:\n",
    "\n",
    "sitting transverse:\n",
    "* because of the seated configuration, the workspace has a one-sided constraint on it from the interference of the chair leg with the bottom of the tower.\n",
    "* additionally, the ankle limits reaching much more in this configuration than in the sitting 30 or 45 condition\n",
    "* additionally from a stability standpoint, its nice to have the opposite foot firmly planted on the ground. \n",
    "* for this reason, it's best to work the right leg on the left side of the machine, and the left leg on the right side of the machine. \n",
    "\n",
    "standing transverse:\n",
    "\n",
    "* the ROM, particularly in the Anterior-Posterior direction was smaller than it might have been, due to the need to maintain balance and not apply normal force to the tower, and lack of a handrail\n",
    "* in this position, it's possible to move the workspace location up and down, but not left and right, the constraint is on the proximity to the edge of the box. "
   ]
  },
  {
   "cell_type": "markdown",
   "metadata": {},
   "source": [
    "other notes: \n",
    "* the singularity thing\n",
    "* will there be an instrumented pedal or not?\n",
    "* in general, the device needs to get bigger to have a better condition number over a larger area. are we ok with the robot having the ability to crash into the ground???\n",
    "\n",
    "hard stops vs. singularities as a method for making for making the robot \"step proof\""
   ]
  },
  {
   "cell_type": "markdown",
   "metadata": {},
   "source": [
    "notes from meeting with Jenny: \n",
    "* in intermediate plane and transverse plane tasks, patients will be ankle dorsi-flexor limited\n",
    "* this suggests the need for a gimble type device at the foot attachment.\n",
    "* one cool aspect of the design is that in standing (and to some degree sitting) forces exerted on the swing leg will have to be countered by activity of the stance leg, so it's as much stance leg training as swing leg training\n",
    "* (in saggital standing use case) when subjects get tired, slide a stool underneath them.\n",
    "* body weight support via a harness - possible but not ideal\n",
    "* for standing transverse activities - have a platform that brings the stance foot of the subject level with the foot interacting with the robot.\n",
    "    "
   ]
  },
  {
   "cell_type": "markdown",
   "metadata": {},
   "source": []
  },
  {
   "cell_type": "markdown",
   "metadata": {},
   "source": [
    "what should I try to deliver for the meeting?? (as I have few hours)\n",
    "\n",
    "\n",
    "1. hand tune and and implement an double knee, vertically oriented robot that is reversable. \n",
    "1. implement a hardstop in the form of a roller in end effector space\n",
    "1. discuss the word document that you are preparing as a written argument for why one might make certian design decisions, that you will get to peter monday or tuesday.\n",
    "\n",
    "\n",
    "\n",
    "\n",
    "\n",
    "1. hand tune and implement a double knee type design that has come out of intuition and \n",
    "1. show the design for end-effector hard limits, and frame the problem of limits.\n",
    "1. discuss your optimization approach\n",
    "1. talk about and set up a meeting "
   ]
  },
  {
   "cell_type": "markdown",
   "metadata": {},
   "source": [
    "# ok, this is a super important insight into the robot, that I think could solve all of our problems. \n",
    "\n",
    "1. the first insight is that if the robot is constructed correctly, (meaning that things don't impinge on eachother) then the robot with the elbow up and with the elbow down can be converted from one to the other on the fly. meaning, you actually have 4 robots, not one, and you can try to utilize this to your advantage.\n",
    "1. why is this important? well, of the solutions that have been emerging, some conditions are better for condition number optimization across a range, while others are better for jacobian matching. what if you did a joint optimization where you optimize for jacobian matching in one configuration, and condition number in the other, and specified that the link lengths must be the same (with the possible exception of the last link and last link angle)? then you could just pop the singularity from one config to another and be good to go. remember, that for each point in space, there are actually 4 jacobians depending on the state of the elbows. this means there are 4 possible robots.\n",
    "\n",
    "* note that for this robot, to move from a left leg to a right leg configuration requires no actual change in the robot (via dis-assembly) - just a shifting thorugh the configurations.\n",
    "* shifting between a condition number optimized configuration, and a jacobian matched configuration would require a (probably very quick ) change\n",
    "\n",
    "so how would this optimization be framed? \n",
    "* origins would be vertical to eachother (use theta, r configuration, let  r vary)\n",
    "* form a single objective function, where each robot is scored, relative to a weighted version of its objective. \n",
    "* allow the last two variable to change, by making an augmented and multi-robot type wrapper (so that the length and angle are allowed to vary for the adding two variables to the total) everything else is the same. \n",
    "* there might be some additional constraints between the variables, give this more thought\n",
    "* perform the optimization.\n",
    "* set the sizes of the workspace to be what you measured for the mean human.\n",
    "\n",
    "\n"
   ]
  },
  {
   "cell_type": "markdown",
   "metadata": {},
   "source": [
    "# what to talk about\n",
    "\n",
    "* how to transition from left to right\n",
    "* how this thing scores in terms of condition number\n",
    "* multi-mode usage (for jacobian matching) (show with condition number)  - you actually have 4 robots!\n",
    "* why using a singularity method for checking the end range of motion is a bad idea - bifurcation\n"
   ]
  }
 ],
 "metadata": {
  "kernelspec": {
   "display_name": "Python 3",
   "language": "python",
   "name": "python3"
  },
  "language_info": {
   "codemirror_mode": {
    "name": "ipython",
    "version": 3
   },
   "file_extension": ".py",
   "mimetype": "text/x-python",
   "name": "python",
   "nbconvert_exporter": "python",
   "pygments_lexer": "ipython3",
   "version": "3.8.2"
  }
 },
 "nbformat": 4,
 "nbformat_minor": 4
}
