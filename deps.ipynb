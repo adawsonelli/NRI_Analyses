{
 "cells": [
  {
   "cell_type": "markdown",
   "metadata": {},
   "source": [
    "# Deps\n",
    "trying to keep a running tally of the libraries that are strictly required to run, and optimize this project. this will be useful when in comes time to make a project yml so that anyone can install and run the project - but for now the dependencies of the project are not stable. \n",
    "\n",
    "### python version\n",
    "\n",
    "python 3.8, amd 64 bit\n",
    "\n",
    "\n",
    "### core functionality, run solutions, and visualize: \n",
    "\n",
    "* scipy, numpy, jupyter lab 2.0 , 3.0 doesn't yet work with plotly\n",
    "* [plotly](https://anaconda.org/plotly/plotly)\n",
    "* [shaply 1.7.0](https://anaconda.org/conda-forge/shapely)\n",
    "* [ipywidgets](https://anaconda.org/anaconda/ipywidgets)\n",
    "\n",
    "\n",
    "## jupyter lab extensions\n",
    "* [xeus-python](https://anaconda.org/conda-forge/xeus-python)\n",
    "* [nodejs](https://anaconda.org/conda-forge/nodejs)\n",
    "* plotly\n",
    "* debugger\n",
    "\n",
    "### storage\n",
    "* [h5py] - HDF5 storage filesp\n",
    "\n",
    "### for chrono dynamics \n",
    "\n",
    "* [pychrono](https://anaconda.org/projectchrono/pychrono)\n",
    "* numpy, matplotlib\n",
    "\n",
    "### optimization deps\n",
    "\n",
    "* wheel for [NLopt](https://nlopt.readthedocs.io/en/latest/https://nlopt.readthedocs.io/en/latest/), provided in the wheels directory (cd, then pip install *.whl)\n",
    "* [landscapes](https://github.com/nathanrooy/landscapes)\n",
    "* [CMA-ES](https://anaconda.org/conda-forge/cma#:~:text=conda%2Dforge%20%2F%20packages%20%2F%20cma,0&text=The%20Covariance%20Matrix%20Adaptation%20Evolution,problems%20in%20continuous%20search%20spaces.])\n",
    "\n",
    "## older opt\n",
    "\n",
    "* [CMA-ES](https://anaconda.org/conda-forge/cma#:~:text=conda%2Dforge%20%2F%20packages%20%2F%20cma,0&text=The%20Covariance%20Matrix%20Adaptation%20Evolution,problems%20in%20continuous%20search%20spaces.])\n",
    "* [CMA-ES (github)](https://github.com/CMA-ES/pycma)\n",
    "* [NL-OPT](https://github.com/stevengj/nlopt)\n",
    "* [Scipy optimize minimize](https://docs.scipy.org/doc/scipy/reference/generated/scipy.optimize.minimize.html)\n"
   ]
  },
  {
   "cell_type": "markdown",
   "metadata": {},
   "source": [
    "I can do all this manually, but it might be a nice learning experience to try and do it with a single .yaml file, and a batch file or something similar. the last one might be a bit overkill.\n",
    "so the process would be:\n",
    "\n",
    "conda create env name.yml   #install most deps\n",
    "conda activate name         #activate \n",
    "batch                       #install NL_OPT and all of the jupyterlab extensions\n",
    "\n",
    "this seems acceptably reproducable to me. "
   ]
  },
  {
   "cell_type": "code",
   "execution_count": null,
   "metadata": {},
   "outputs": [],
   "source": [
    "name: NRI3\n",
    "channels:\n",
    "  - projectchrono\n",
    "  - plotly\n",
    "  - conda-forge\n",
    "dependencies:\n",
    "  - python=3.7          x\n",
    "  - jupyterlab=2*       x\n",
    "  - pychrono=5.0.0      x\n",
    "  - plotly=4.14.*       x\n",
    "  - matplotlib          \n",
    "  - numpy               x\n",
    "  - shapely=1.7.0       x # for shape objects and overlap calculation - compatable with py 3.7\n",
    "  - cma                 x  # CMA-ES optimizer\n",
    "  - xeus-python         x  #for debugger extension\n",
    "  - nodejs              x  #to install jupyterlab extensions\n"
   ]
  }
 ],
 "metadata": {
  "kernelspec": {
   "display_name": "Python 3",
   "language": "python",
   "name": "python3"
  },
  "language_info": {
   "codemirror_mode": {
    "name": "ipython",
    "version": 3
   },
   "file_extension": ".py",
   "mimetype": "text/x-python",
   "name": "python",
   "nbconvert_exporter": "python",
   "pygments_lexer": "ipython3",
   "version": "3.7.9"
  }
 },
 "nbformat": 4,
 "nbformat_minor": 4
}
