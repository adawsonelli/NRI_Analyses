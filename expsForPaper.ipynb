{
 "cells": [
  {
   "cell_type": "markdown",
   "id": "royal-insulin",
   "metadata": {},
   "source": [
    "<a id=\"NEfP\"></a>\n",
    "# Numerical Experiments for Paper\n",
    "\n",
    "* In this document, I go through a progression of numerical experiments that lead logically to the design of the 2DOF robot\n",
    "\n",
    "\n",
    "## [free](#OptInterface)\n",
    " - interface for each optimization class to follow\n",
    "\n",
    "## [Optimization Algorithm Visualizer](#AlgVis)\n",
    " - set of 2D example problems which can be:\n",
    " - solved\n",
    " - visualied\n",
    " - with any samplin based opt method\n",
    " \n",
    "## [Simulated Annealing](#SA)\n",
    " - implemented from scratch\n",
    " - gradually lower temp to choose between best and current sample\n",
    "\n",
    "## [DIRECT Algorithm](#DIRECT)\n",
    " - global method based on partitioning parameter space hypercube\n",
    "\n",
    "## [Covariance Matrix Adaptation (CMA)](#CMA)\n",
    " - evolutionary strategy \n",
    " \n",
    "## [Notes](#Notes)\n",
    "\n"
   ]
  },
  {
   "cell_type": "markdown",
   "id": "sensitive-blanket",
   "metadata": {},
   "source": [
    "# free roots, free θ3l, free elbows"
   ]
  },
  {
   "cell_type": "markdown",
   "id": "proper-trailer",
   "metadata": {},
   "source": [
    "# notes: \n",
    "\n",
    "* when should I think more about what to do with the values of the torque?? - how should I penalize that??\n",
    "    * I think the best way to penalize torque, is to have a torque budget (say, 200nm) and then have a linear trade off between the right and left motors. you could have all sorts of tradeoffs however, linear with different slope, quadratic, etc. it's not clear which one to choose, if you have a penalty, you will always get a trade off between the penalty and the desire for more torque. I suppose you could put a small penalty on it, because at some point, adding more torque won't "
   ]
  },
  {
   "cell_type": "markdown",
   "id": "suspended-third",
   "metadata": {},
   "source": [
    "# statement of objective of this experimentation\n",
    "\n",
    "* the purpose of these experiments is to tell the story of how the model taught us about the potential robots that could have been built, and lead the reader to an eventual optimial design that came from the model. the idea is to experiment below with things that are possibly interesting to explore, and then from these results, decide what should be told.\n",
    "\n",
    "\n",
    "# optimization approach: \n",
    "\n",
    "* we will use the DIRECT sampling algorithm \n",
    "* termination conditions: \n",
    "    * terminate based on number of samples, and continue to sample more, doubling your samples until the answer stops changing. \n",
    "    * this could potentially be implemented as a wrapper? on the smaller problems, it might not be worth it to endevor to do this?\n",
    "\n",
    "\n",
    "# list of potential experiments for paper: \n",
    "\n",
    "different experiments will come from varying the value of a small set of parameters. most parameters will be choosen by the optimizer, but the ones below represent design decisions that are available to be made. \n",
    "\n",
    "list of parameters that might be worth changing - and what they mean\n",
    "\n",
    "parameters not impacted by symmetry constraint\n",
    "\n",
    "* **L0**       - boundry constraint that sets the closeness of the roots. this is important, because without this constraint, the robots that are designed are not practical to construct L0min should be set to 22cm from mechanical design spec - as axels will be driven from the same side. \n",
    "* **elbow state** - discrete states of e1 and ef(3) so here is my understanding. down, down on the left side is the same as up,up on the right side, and same with the other two, but because our simulation only takes one half of the cycle into account, there are 4 discrete states, that may be set manually, or entered in, and the optimizer can solve for the best one. \n",
    "\n",
    "parameters impacted by the symmetry constraint\n",
    "\n",
    "* **τ**        - strictly speaking, there is no reason that the left and right motor torques should be the same but in the symmetrical condition, they should be (right?)\n",
    "* **θ3l**      - the fixed angle of between L2l and L3l - should include this until there is a symmetry constraint\n",
    "* **rootMode** - free in the general case, but can be constrainted vertically or horizontally in the symmetrical case\n",
    "\n",
    "\n",
    "## analysis of original design concept\n",
    "\n",
    "this figure could will be useful in the prelim - maybe not the paper\n",
    "\n",
    "* hand tuned symmetrical robot, L3l = 0, L2l = L2r, L1l = L1r, hand tune and fix xr,yr, xl,yl\n",
    "* an optimization with L3l = 0, horizontal, fixed elbow states\n",
    "\n",
    "\n",
    "\n",
    "## the best possible (one sided) sagittal plane robot.\n",
    "\n",
    "in the general case, we are attempting to solve the problem - what's the best parellel robot we could build to match the force space requirements of a human? the trend should be to start as general as possible, and then take away degrees of freedom, as the narative discovers that some things are not practical through the results of the model. this is taken to the extreme when we apply the two sided robot constraints, which eventually lead us to our intended design. \n",
    "\n",
    "notes: \n",
    "\n",
    "* **L0** is not worth exploring, as it's always impractical to build with the two co-axial drive axels. \n",
    "\n",
    "* free roots, free θ3l, free elbows.\n",
    "    * this will be interesting, because it will represent the \n",
    "* free roots, free θ3l, fixed elbows. - exploreing the role of the elbows. \n",
    "    * this is interesting, because it will show directly what the best solution is for each of the (two really) unique elbow states. \n",
    "    * it would be nice at this point to show that all 4 elbow states don't really have to be explored here - only two, as the robot is capable of flipping itself around. (provided this is true?)\n",
    "    * if this is correct, we should also implement that as a parameterization option, cutting the dimension side in half, you could call them elbowstate4 elbowstate2\n",
    "    * \n",
    "    \n",
    "    \n",
    "## the best possible two sided robot. \n",
    "\n",
    "in the paper, we will introduce the two sided robot as a requirement for making a robot which can handle both the left and the right legs. this restriction means the following constraints must be followed.\n",
    "\n",
    "constraints:\n",
    "\n",
    "* \n",
    "* axes must align vertically or horizontally. \n",
    "\n",
    "\n",
    "## sensitivity analysis of human variables around the optimal point.\n",
    "\n",
    "which variables?"
   ]
  },
  {
   "cell_type": "code",
   "execution_count": 2,
   "id": "proprietary-tuesday",
   "metadata": {},
   "outputs": [
    {
     "name": "stdout",
     "output_type": "stream",
     "text": [
      "models run as library\n",
      "optimizers run as library\n"
     ]
    }
   ],
   "source": [
    "#import all models, visualizers, and optimizers with a run line magic \n",
    "%run models.ipynb\n"
   ]
  },
  {
   "cell_type": "markdown",
   "id": "collectible-judge",
   "metadata": {},
   "source": [
    "# Get an optimizer to run"
   ]
  },
  {
   "cell_type": "code",
   "execution_count": 3,
   "id": "quality-vermont",
   "metadata": {},
   "outputs": [
    {
     "ename": "AttributeError",
     "evalue": "'Gen5barlinkage' object has no attribute 'xr_min'",
     "output_type": "error",
     "traceback": [
      "\u001b[1;31m---------------------------------------------------------------------------\u001b[0m",
      "\u001b[1;31mAttributeError\u001b[0m                            Traceback (most recent call last)",
      "\u001b[1;32m<ipython-input-3-4f0c3052655a>\u001b[0m in \u001b[0;36m<module>\u001b[1;34m\u001b[0m\n\u001b[1;32m----> 1\u001b[1;33m \u001b[0mexp1\u001b[0m \u001b[1;33m=\u001b[0m \u001b[0mExp\u001b[0m\u001b[1;33m(\u001b[0m\u001b[1;33m)\u001b[0m\u001b[1;33m\u001b[0m\u001b[1;33m\u001b[0m\u001b[0m\n\u001b[0m",
      "\u001b[1;32m<ipython-input-2-61473b637aa4>\u001b[0m in \u001b[0;36m__init__\u001b[1;34m(self)\u001b[0m\n\u001b[0;32m     21\u001b[0m \u001b[1;33m\u001b[0m\u001b[0m\n\u001b[0;32m     22\u001b[0m         \u001b[1;31m#visualizer\u001b[0m\u001b[1;33m\u001b[0m\u001b[1;33m\u001b[0m\u001b[1;33m\u001b[0m\u001b[0m\n\u001b[1;32m---> 23\u001b[1;33m         \u001b[0mself\u001b[0m\u001b[1;33m.\u001b[0m\u001b[0mvis\u001b[0m \u001b[1;33m=\u001b[0m \u001b[0mVisualizer\u001b[0m\u001b[1;33m(\u001b[0m\u001b[0mself\u001b[0m\u001b[1;33m)\u001b[0m\u001b[1;33m\u001b[0m\u001b[1;33m\u001b[0m\u001b[0m\n\u001b[0m\u001b[0;32m     24\u001b[0m \u001b[1;33m\u001b[0m\u001b[0m\n\u001b[0;32m     25\u001b[0m         \u001b[1;31m#returned state from optimizer results\u001b[0m\u001b[1;33m\u001b[0m\u001b[1;33m\u001b[0m\u001b[1;33m\u001b[0m\u001b[0m\n",
      "\u001b[1;32m<ipython-input-2-8a0707a59c65>\u001b[0m in \u001b[0;36m__init__\u001b[1;34m(self, exp)\u001b[0m\n\u001b[0;32m    139\u001b[0m \u001b[1;33m\u001b[0m\u001b[0m\n\u001b[0;32m    140\u001b[0m         \u001b[0mxl\u001b[0m \u001b[1;33m=\u001b[0m \u001b[0mFloatSlider\u001b[0m\u001b[1;33m(\u001b[0m\u001b[0mmin\u001b[0m\u001b[1;33m=\u001b[0m\u001b[0mr\u001b[0m\u001b[1;33m.\u001b[0m\u001b[0mxl_min\u001b[0m\u001b[1;33m,\u001b[0m\u001b[0mmax\u001b[0m\u001b[1;33m=\u001b[0m\u001b[0mr\u001b[0m\u001b[1;33m.\u001b[0m\u001b[0mxl_max\u001b[0m\u001b[1;33m,\u001b[0m\u001b[0mstep\u001b[0m\u001b[1;33m=\u001b[0m\u001b[0mstep\u001b[0m\u001b[1;33m,\u001b[0m\u001b[0mvalue\u001b[0m\u001b[1;33m=\u001b[0m\u001b[0mr\u001b[0m\u001b[1;33m.\u001b[0m\u001b[0mxl\u001b[0m\u001b[1;33m,\u001b[0m\u001b[0mdescription\u001b[0m\u001b[1;33m=\u001b[0m\u001b[1;34m'x_l'\u001b[0m\u001b[1;33m,\u001b[0m \u001b[0mlayout\u001b[0m\u001b[1;33m=\u001b[0m\u001b[0mlayout\u001b[0m\u001b[1;33m)\u001b[0m\u001b[1;33m\u001b[0m\u001b[1;33m\u001b[0m\u001b[0m\n\u001b[1;32m--> 141\u001b[1;33m         \u001b[0mxr\u001b[0m \u001b[1;33m=\u001b[0m \u001b[0mFloatSlider\u001b[0m\u001b[1;33m(\u001b[0m\u001b[0mmin\u001b[0m\u001b[1;33m=\u001b[0m\u001b[0mr\u001b[0m\u001b[1;33m.\u001b[0m\u001b[0mxr_min\u001b[0m\u001b[1;33m,\u001b[0m\u001b[0mmax\u001b[0m\u001b[1;33m=\u001b[0m\u001b[0mr\u001b[0m\u001b[1;33m.\u001b[0m\u001b[0mxr_max\u001b[0m\u001b[1;33m,\u001b[0m\u001b[0mstep\u001b[0m\u001b[1;33m=\u001b[0m\u001b[0mstep\u001b[0m\u001b[1;33m,\u001b[0m\u001b[0mvalue\u001b[0m\u001b[1;33m=\u001b[0m\u001b[0mr\u001b[0m\u001b[1;33m.\u001b[0m\u001b[0mxr\u001b[0m\u001b[1;33m,\u001b[0m\u001b[0mdescription\u001b[0m\u001b[1;33m=\u001b[0m\u001b[1;34m'x_r'\u001b[0m\u001b[1;33m,\u001b[0m \u001b[0mlayout\u001b[0m\u001b[1;33m=\u001b[0m\u001b[0mlayout\u001b[0m\u001b[1;33m)\u001b[0m\u001b[1;33m\u001b[0m\u001b[1;33m\u001b[0m\u001b[0m\n\u001b[0m\u001b[0;32m    142\u001b[0m \u001b[1;33m\u001b[0m\u001b[0m\n\u001b[0;32m    143\u001b[0m         \u001b[0myl\u001b[0m \u001b[1;33m=\u001b[0m \u001b[0mFloatSlider\u001b[0m\u001b[1;33m(\u001b[0m\u001b[0mmin\u001b[0m\u001b[1;33m=\u001b[0m\u001b[0mr\u001b[0m\u001b[1;33m.\u001b[0m\u001b[0myl_min\u001b[0m\u001b[1;33m,\u001b[0m\u001b[0mmax\u001b[0m\u001b[1;33m=\u001b[0m\u001b[0mr\u001b[0m\u001b[1;33m.\u001b[0m\u001b[0myl_max\u001b[0m\u001b[1;33m,\u001b[0m\u001b[0mstep\u001b[0m\u001b[1;33m=\u001b[0m\u001b[0mstep\u001b[0m\u001b[1;33m,\u001b[0m\u001b[0mvalue\u001b[0m\u001b[1;33m=\u001b[0m\u001b[0mr\u001b[0m\u001b[1;33m.\u001b[0m\u001b[0myl\u001b[0m\u001b[1;33m,\u001b[0m\u001b[0mdescription\u001b[0m\u001b[1;33m=\u001b[0m\u001b[1;34m'y_l'\u001b[0m\u001b[1;33m,\u001b[0m \u001b[0mlayout\u001b[0m\u001b[1;33m=\u001b[0m\u001b[0mlayout\u001b[0m\u001b[1;33m)\u001b[0m\u001b[1;33m\u001b[0m\u001b[1;33m\u001b[0m\u001b[0m\n",
      "\u001b[1;31mAttributeError\u001b[0m: 'Gen5barlinkage' object has no attribute 'xr_min'"
     ]
    }
   ],
   "source": [
    "exp1 = Exp()"
   ]
  },
  {
   "cell_type": "code",
   "execution_count": null,
   "id": "chronic-rabbit",
   "metadata": {},
   "outputs": [],
   "source": [
    "#run simulated anealing for a long time. \n",
    "exp1 = Exp()\n",
    "\n",
    "#configure experiment\n",
    "exp1\n",
    "exp1.initialize()\n",
    "\n",
    "#run (took several hours)\n",
    "#exp1.run()\n",
    "\n",
    "#save\n",
    "# cm = \"100k SA optimization, segments are long but have a high match over a large segment of space\"\n",
    "# exp1.save(cm)\n",
    "\n",
    "#load from storage\n",
    "exp1.load('fes')\n",
    "\n",
    "#display\n",
    "exp1.vis.display()"
   ]
  }
 ],
 "metadata": {
  "kernelspec": {
   "display_name": "Python 3.8.2 64-bit ('NRI': conda)",
   "language": "python",
   "name": "python38264bitnriconda60bba724a8274f9999696d246145d800"
  },
  "language_info": {
   "codemirror_mode": {
    "name": "ipython",
    "version": 3
   },
   "file_extension": ".py",
   "mimetype": "text/x-python",
   "name": "python",
   "nbconvert_exporter": "python",
   "pygments_lexer": "ipython3",
   "version": "3.7.9"
  }
 },
 "nbformat": 4,
 "nbformat_minor": 5
}
